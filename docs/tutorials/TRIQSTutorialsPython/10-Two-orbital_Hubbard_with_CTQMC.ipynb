{
 "cells": [
  {
   "cell_type": "markdown",
   "metadata": {
    "deletable": true,
    "editable": true,
    "run_control": {
     "frozen": false,
     "read_only": false
    }
   },
   "source": [
    "Two-orbital Hubbard model\n",
    "=========================\n",
    "\n",
    "You will generalize the previous study to a two-orbital problem.\n",
    "We will still focus on a Bethe lattice so that the DMFT self-consistency is simple. For the interaction\n",
    "Hamiltonian, we will consider the Hubbard-Kanamori model for two bands. The Hamiltonian consists of density-density, spin-flip and pair-hopping terms:\n",
    "\n",
    "$$\n",
    "  H_{HK} =          U \\sum_{i} n_{i \\uparrow} n_{i \\downarrow}\n",
    "             + (U-2J) \\sum_{i \\neq i'} n_{i \\uparrow} n_{i' \\downarrow}\n",
    "             + (U-3J) \\sum_{i < i', \\sigma} n_{i \\sigma} n_{i' \\sigma} \n",
    "             - J \\sum_{i \\neq i'} a^\\dagger_{i \\uparrow} a_{i \\downarrow} a^\\dagger_{i' \\downarrow} a_{i' \\uparrow}\n",
    "             + J \\sum_{i \\neq i'} a^\\dagger_{i \\uparrow} a^\\dagger_{i \\downarrow} a_{i' \\downarrow} a_{i' \\uparrow},\n",
    "$$\n",
    "\n",
    "For this problem, the DMFT self-consistency still reads\n",
    "\n",
    "$$\n",
    "{\\cal G}_{0 i \\sigma}^{-1} (i\\omega_n) = i\\omega_n + \\mu - t^2 G_{i \\sigma} (i\\omega_n)\n",
    "$$\n",
    "\n",
    "Note that the Green's functions are diagonal in spin and orbital indices.\n",
    "\n"
   ]
  },
  {
   "cell_type": "markdown",
   "metadata": {
    "deletable": true,
    "editable": true,
    "run_control": {
     "frozen": false,
     "read_only": false
    }
   },
   "source": [
    "Exercise 1\n",
    "----------\n",
    "\n",
    "Modify the script for the single-band Hubbard model to work here. We will be interested in the half- and quarter-filled cases, for which the respective chemical potentials are:\n",
    "\n",
    "$\\mu_{\\rm half} = 0.5 U + 0.5 (U-2J) + 0.5 (U-3J)$\n",
    "\n",
    "$\\mu_{\\rm quarter} = -0.81 + (0.6899 - 1.1099 \\, J/U) U + (-0.02548 + 0.02709 \\, J/U -0.1606 \\, (J/U)^2) U^2$"
   ]
  },
  {
   "cell_type": "markdown",
   "metadata": {
    "deletable": true,
    "editable": true,
    "run_control": {
     "frozen": false,
     "read_only": false
    }
   },
   "source": [
    "If you are stuck or short on time, take a sneak peek at the solution below. \n",
    "Note that there is a variable `filling` that can be set either to `half` or to \n",
    "`quarter` and that defines the filling of the problem. \n",
    "\n",
    "**Warning**: don't run the script, the calculations are quite long! It is just here for illustration purposes."
   ]
  },
  {
   "cell_type": "code",
   "execution_count": null,
   "metadata": {
    "collapsed": false,
    "deletable": true,
    "editable": true,
    "run_control": {
     "frozen": false,
     "read_only": false
    }
   },
   "outputs": [],
   "source": [
    "# %load run_two_bands.py\n",
    "from pytriqs.gf import *\n",
    "from pytriqs.operators import *\n",
    "from pytriqs.archive import *\n",
    "from triqs_cthyb import Solver\n",
    "from itertools import product\n",
    "import numpy as np\n",
    "\n",
    "import os\n",
    "if not os.path.exists('results_two_bands'):\n",
    "    os.makedirs('results_two_bands')\n",
    "\n",
    "# Parameters of the model\n",
    "t = 1.0\n",
    "beta = 10.0\n",
    "n_loops = 10\n",
    "filling = 'half' # or 'quarter'\n",
    "n_orbitals = 2\n",
    "\n",
    "# Construct the solver\n",
    "S = Solver(beta = beta, gf_struct = [('up-0',[0]), ('up-1',[0]), ('down-0',[0]), ('down-1',[0])] )\n",
    "\n",
    "for coeff in [0.0, 0.1, 0.2]:\n",
    "\n",
    "    # Run for several values of U\n",
    "    for U in np.arange(1.0, 13.0, 1.0):\n",
    "\n",
    "        J = coeff * U\n",
    "\n",
    "        # Expression of mu for half and quarter filling\n",
    "        if filling == 'half':\n",
    "            mu = 0.5*U + 0.5*(U-2*J) + 0.5*(U-3*J)\n",
    "        elif filling == 'quarter':\n",
    "            mu = -0.81 + (0.6899-1.1099*coeff)*U + (-0.02548+0.02709*coeff-0.1606*coeff**2)*U**2\n",
    "\n",
    "        # Set the interacting Kanamori hamiltonian\n",
    "        h_int = Operator()\n",
    "        for o in range(0,n_orbitals):\n",
    "            h_int += U*n('up-%s'%o,0)*n('down-%s'%o,0)\n",
    "        for o1,o2 in product(range(0,n_orbitals),range(0,n_orbitals)):\n",
    "            if o1==o2: continue\n",
    "            h_int += (U-2*J)*n('up-%s'%o1,0)*n('down-%s'%o2,0)\n",
    "        for o1,o2 in product(range(0,n_orbitals),range(0,n_orbitals)):\n",
    "            if o2>=o1: continue;\n",
    "            h_int += (U-3*J)*n('up-%s'%o1,0)*n('up-%s'%o2,0)\n",
    "            h_int += (U-3*J)*n('down-%s'%o1,0)*n('down-%s'%o2,0)\n",
    "        for o1,o2 in product(range(0,n_orbitals),range(0,n_orbitals)):\n",
    "            if o1==o2: continue\n",
    "            h_int += -J*c_dag('up-%s'%o1,0)*c_dag('down-%s'%o1,0)*c('up-%s'%o2,0)*c('down-%s'%o2,0)\n",
    "            h_int += -J*c_dag('up-%s'%o1,0)*c_dag('down-%s'%o2,0)*c('up-%s'%o2,0)*c('down-%s'%o1,0)\n",
    "\n",
    "        # This is a first guess for G\n",
    "        S.G0_iw << inverse(iOmega_n + mu - t**2 * SemiCircular(2*t))\n",
    "\n",
    "        # DMFT loop with self-consistency\n",
    "        for i in range(n_loops):\n",
    "\n",
    "            print \"\\n\\nIteration = %i / %i\" % (i+1, n_loops)\n",
    "\n",
    "            # Symmetrize the Green's function and use self-consistency\n",
    "            if i > 0:\n",
    "                g = 0.25 * ( S.G_iw['up-0'] + S.G_iw['up-1'] + S.G_iw['down-0'] + S.G_iw['down-1'] )\n",
    "                for name, g0 in S.G0_iw:\n",
    "                    g0 << inverse(iOmega_n + mu - t**2 * g)\n",
    "\n",
    "            # Solve the impurity problem\n",
    "            S.solve(h_int = h_int,\n",
    "                    n_cycles  = 30000,\n",
    "                    length_cycle = 100,\n",
    "                    n_warmup_cycles = 5000)\n",
    "\n",
    "            # Check density\n",
    "            for name, g in S.G_iw:\n",
    "                print name, \": \",g.density()[0,0].real\n",
    "\n",
    "            # Save iteration in archive\n",
    "            with HDFArchive(\"results_two_bands/%s-U%.2f-J%.2f.h5\"%(filling,U,J)) as A:\n",
    "                A['G-%i'%i] = S.G_iw\n",
    "                A['Sigma-%i'%i] = S.Sigma_iw\n"
   ]
  },
  {
   "cell_type": "markdown",
   "metadata": {
    "deletable": true,
    "editable": true,
    "run_control": {
     "frozen": false,
     "read_only": false
    }
   },
   "source": [
    "For the following exercises, the calculations have already been performed for you, and the data is stored in the `results_two_bands` folder, see below. Use this data to perform the analysis below. Again, **do not run the script** on your machine! "
   ]
  },
  {
   "cell_type": "code",
   "execution_count": null,
   "metadata": {
    "collapsed": true
   },
   "outputs": [],
   "source": [
    "!ls results_two_bands/"
   ]
  },
  {
   "cell_type": "markdown",
   "metadata": {
    "deletable": true,
    "editable": true,
    "run_control": {
     "frozen": false,
     "read_only": false
    }
   },
   "source": [
    "Exercise 2\n",
    "----------\n",
    "\n",
    "Start by studying the problem at half-filling. By varying $U$ find the critical $U_c$ for the Mott transition for different values of $J$. How does $U_c$ change with $J$? Hint: take the following values for $J/U = 0.0, 0.1, 0.2$ and values of $U/t$ between 1 and 12."
   ]
  },
  {
   "cell_type": "markdown",
   "metadata": {
    "deletable": true,
    "editable": true,
    "run_control": {
     "frozen": false,
     "read_only": false
    }
   },
   "source": [
    "Exercise 3\n",
    "----------\n",
    "\n",
    "Do the same study as in Exercise 1, but at quarter-filling. How does $U_c$ change with $J$? Take again values of $J/U = 0.0, 0.1, 0.2$ and values of $U/t$ between 1 and 12."
   ]
  }
 ],
 "metadata": {
  "kernelspec": {
   "display_name": "Python 2",
   "language": "python",
   "name": "python2"
  },
  "language_info": {
   "codemirror_mode": {
    "name": "ipython",
    "version": 2
   },
   "file_extension": ".py",
   "mimetype": "text/x-python",
   "name": "python",
   "nbconvert_exporter": "python",
   "pygments_lexer": "ipython2",
   "version": "2.7.13"
  },
  "latex_envs": {
   "LaTeX_envs_menu_present": true,
   "autocomplete": true,
   "bibliofile": "biblio.bib",
   "cite_by": "apalike",
   "current_citInitial": 1,
   "eqLabelWithNumbers": true,
   "eqNumInitial": 1,
   "hotkeys": {
    "equation": "Ctrl-E",
    "itemize": "Ctrl-I"
   },
   "labels_anchors": false,
   "latex_user_defs": false,
   "report_style_numbering": false,
   "user_envs_cfg": false
  },
  "widgets": {
   "state": {},
   "version": "1.1.1"
  }
 },
 "nbformat": 4,
 "nbformat_minor": 1
}
