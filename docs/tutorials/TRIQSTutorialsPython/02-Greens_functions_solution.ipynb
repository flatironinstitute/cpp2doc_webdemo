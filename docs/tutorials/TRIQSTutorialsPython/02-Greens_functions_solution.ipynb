{
 "cells": [
  {
   "cell_type": "markdown",
   "metadata": {
    "deletable": true,
    "editable": true,
    "run_control": {
     "frozen": false,
     "read_only": false
    }
   },
   "source": [
    "Solution of the exercises\n",
    "========================="
   ]
  },
  {
   "cell_type": "code",
   "execution_count": null,
   "metadata": {
    "collapsed": true,
    "deletable": true,
    "editable": true,
    "run_control": {
     "frozen": false,
     "read_only": false
    }
   },
   "outputs": [],
   "source": [
    "import numpy as np\n",
    "from math import pi\n",
    "%matplotlib inline\n",
    "from pytriqs.plot.mpl_interface import plt,oplot\n",
    "# change scale of all figures to make them bigger\n",
    "import matplotlib as mpl\n",
    "mpl.rcParams['savefig.dpi']=100 "
   ]
  },
  {
   "cell_type": "markdown",
   "metadata": {
    "deletable": true,
    "editable": true,
    "run_control": {
     "frozen": false,
     "read_only": false
    }
   },
   "source": [
    "Solution of exercise 1\n",
    "----------------------"
   ]
  },
  {
   "cell_type": "code",
   "execution_count": null,
   "metadata": {
    "collapsed": false,
    "deletable": true,
    "editable": true,
    "run_control": {
     "frozen": false,
     "read_only": false
    }
   },
   "outputs": [],
   "source": [
    "from pytriqs.gf import *\n",
    "\n",
    "eps_d, V  = 0.3, 0.2\n",
    "g = GfReFreq(indices = ['s','d'], window = (-2, 2), name = \"s+d\")\n",
    "g['d','d'] << Omega - eps_d\n",
    "g['d','s'] << V\n",
    "g['s','d'] << V\n",
    "g['s','s'] << inverse( Flat(1.0) )\n",
    "g.invert()\n",
    "oplot( -g['d','d'].imag/pi, '-', lw=2, x_window  = (-1.8,1.8), name = \"Impurity\" )\n",
    "oplot( -g['s','s'].imag/pi, '-', lw=2, x_window  = (-1.8,1.8), name = \"Bath\" )"
   ]
  },
  {
   "cell_type": "markdown",
   "metadata": {
    "deletable": true,
    "editable": true,
    "run_control": {
     "frozen": false,
     "read_only": false
    }
   },
   "source": [
    "Solution of exercise 2\n",
    "----------------------"
   ]
  },
  {
   "cell_type": "code",
   "execution_count": null,
   "metadata": {
    "collapsed": false,
    "deletable": true,
    "editable": true,
    "run_control": {
     "frozen": false,
     "read_only": false
    }
   },
   "outputs": [],
   "source": [
    "for beta in [3, 10, 100]:\n",
    "    g = GfImFreq(indices=[0], beta=beta)\n",
    "    eps_r = np.arange(-1,1,0.05)\n",
    "    n_r = []\n",
    "    for eps in eps_r:\n",
    "        g << inverse(iOmega_n - eps)\n",
    "        n_r.append(g.density()[0,0].real)\n",
    "    plt.plot(eps_r, n_r, lw=3, label=r\"$\\beta = %i$\"%beta)\n",
    "plt.xlabel('$\\epsilon$')\n",
    "plt.ylabel('$n(\\epsilon)$')\n",
    "plt.legend()"
   ]
  },
  {
   "cell_type": "markdown",
   "metadata": {
    "deletable": true,
    "editable": true,
    "run_control": {
     "frozen": false,
     "read_only": false
    }
   },
   "source": [
    "Solution of exercise 3\n",
    "----------------------"
   ]
  },
  {
   "cell_type": "code",
   "execution_count": null,
   "metadata": {
    "collapsed": false,
    "deletable": true,
    "editable": true,
    "run_control": {
     "frozen": false,
     "read_only": false
    }
   },
   "outputs": [],
   "source": [
    "g_up = GfImFreq(indices=[0], beta=10)\n",
    "g_down = GfImFreq(indices=[0], beta=10)\n",
    "G = BlockGf(name_list=['up', 'down'], block_list=[g_up, g_down])\n",
    "\n",
    "# Loop over the blocks\n",
    "for name, g in G:\n",
    "    g << inverse(iOmega_n)\n",
    "\n",
    "oplot(G, '-o')\n",
    "plt.xlim(0,5)\n",
    "plt.ylim(-3.5,0.1)"
   ]
  },
  {
   "cell_type": "markdown",
   "metadata": {
    "deletable": true,
    "editable": true,
    "run_control": {
     "frozen": false,
     "read_only": false
    }
   },
   "source": [
    "Solution of exercise 4\n",
    "----------------------"
   ]
  },
  {
   "cell_type": "code",
   "execution_count": null,
   "metadata": {
    "collapsed": false,
    "deletable": true,
    "editable": true,
    "run_control": {
     "frozen": false,
     "read_only": false
    }
   },
   "outputs": [],
   "source": [
    "U = 2.0\n",
    "\n",
    "g_0 = GfImFreq(indices=[0], beta=10)\n",
    "g = GfImFreq(indices=[0], beta=10)\n",
    "sigma = GfImFreq(indices=[0], beta=10)\n",
    "sigma_check = GfImFreq(indices=[0], beta=10)\n",
    "\n",
    "# Green's functions of the Hubbard atom\n",
    "g_0 << inverse(iOmega_n + U/2)\n",
    "g << 0.5*inverse(iOmega_n + U/2) + 0.5*inverse(iOmega_n - U/2)\n",
    "\n",
    "# Dyson's equation to find the self-energy\n",
    "sigma << inverse(g_0) - inverse(g)\n",
    "\n",
    "# Known solution\n",
    "sigma_check << U/2 + U*inverse(2*iOmega_n)\n",
    "\n",
    "oplot(sigma, '-o')\n",
    "oplot(sigma_check, '-x')\n",
    "plt.xlim(0,10)"
   ]
  },
  {
   "cell_type": "markdown",
   "metadata": {
    "deletable": true,
    "editable": true,
    "run_control": {
     "frozen": false,
     "read_only": false
    }
   },
   "source": [
    "Solution of exercise 5\n",
    "----------------------"
   ]
  },
  {
   "cell_type": "code",
   "execution_count": null,
   "metadata": {
    "collapsed": false,
    "deletable": true,
    "editable": true,
    "run_control": {
     "frozen": false,
     "read_only": false
    }
   },
   "outputs": [],
   "source": [
    "# Set U\n",
    "U = 2.0\n",
    "beta = 100\n",
    "\n",
    "# Define and initialize G0 in freq\n",
    "g0_w = GfImFreq(indices=[0], beta=beta)\n",
    "g0_w << SemiCircular(1.0)\n",
    "\n",
    "# We will need these\n",
    "g0_t = GfImTime(indices=[0], beta=beta)\n",
    "sigma_t = GfImTime(indices=[0], beta=beta)\n",
    "sigma_w = GfImFreq(indices=[0], beta=beta)\n",
    "g_w = GfImFreq(indices=[0], beta=beta)\n",
    "\n",
    "# Compute second-order self-energy\n",
    "g0_t << InverseFourier(g0_w)\n",
    "sigma_t << U**2 * g0_t * g0_t * g0_t\n",
    "sigma_w << Fourier(sigma_t)\n",
    "\n",
    "# Dyson's equation\n",
    "g_w << inverse(inverse(g0_w) - sigma_w)\n",
    "\n",
    "oplot(g_w, '-o')\n",
    "plt.xlim(0,10)"
   ]
  },
  {
   "cell_type": "markdown",
   "metadata": {
    "deletable": true,
    "editable": true,
    "run_control": {
     "frozen": false,
     "read_only": false
    }
   },
   "source": [
    "Solution of exercise 6\n",
    "----------------------"
   ]
  },
  {
   "cell_type": "code",
   "execution_count": null,
   "metadata": {
    "collapsed": false,
    "deletable": true,
    "editable": true,
    "run_control": {
     "frozen": false,
     "read_only": false
    }
   },
   "outputs": [],
   "source": [
    "g_r = GfReFreq(indices=[0], window=[-4,4])\n",
    "g_r.set_from_pade(g_w)\n",
    "oplot(-g_r.imag/pi, lw=2, name=\"Second-order\")\n",
    "\n",
    "g0_r = GfReFreq(indices=[0], window=[-4,4])\n",
    "g0_r << SemiCircular(1.0)\n",
    "oplot(-g0_r.imag/pi, name=\"Non-interacting\")"
   ]
  }
 ],
 "metadata": {
  "kernelspec": {
   "display_name": "Python 2",
   "language": "python",
   "name": "python2"
  },
  "language_info": {
   "codemirror_mode": {
    "name": "ipython",
    "version": 2
   },
   "file_extension": ".py",
   "mimetype": "text/x-python",
   "name": "python",
   "nbconvert_exporter": "python",
   "pygments_lexer": "ipython2",
   "version": "2.7.13"
  },
  "latex_envs": {
   "LaTeX_envs_menu_present": true,
   "autocomplete": true,
   "bibliofile": "biblio.bib",
   "cite_by": "apalike",
   "current_citInitial": 1,
   "eqLabelWithNumbers": true,
   "eqNumInitial": 1,
   "hotkeys": {
    "equation": "Ctrl-E",
    "itemize": "Ctrl-I"
   },
   "labels_anchors": false,
   "latex_user_defs": false,
   "report_style_numbering": false,
   "user_envs_cfg": false
  },
  "widgets": {
   "state": {},
   "version": "1.1.1"
  }
 },
 "nbformat": 4,
 "nbformat_minor": 0
}
