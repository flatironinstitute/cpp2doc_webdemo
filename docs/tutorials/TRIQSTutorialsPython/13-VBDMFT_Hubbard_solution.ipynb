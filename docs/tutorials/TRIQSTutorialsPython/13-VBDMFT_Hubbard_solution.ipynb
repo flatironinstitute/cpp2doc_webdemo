{
 "cells": [
  {
   "cell_type": "markdown",
   "metadata": {},
   "source": [
    "Exercise solutions for the Valence-Bond DMFT\n",
    "============================\n",
    "\n",
    "<img src=\"vb-patching.png\" width=\"240\" height=\"180\" border=\"10\">"
   ]
  },
  {
   "cell_type": "code",
   "execution_count": null,
   "metadata": {},
   "outputs": [],
   "source": [
    "from pytriqs.gf import *\n",
    "from pytriqs.operators import *\n",
    "from triqs_cthyb import Solver\n",
    "from pytriqs.archive import HDFArchive\n",
    "import pytriqs.utility.mpi as mpi\n",
    "import numpy as np\n",
    "import matplotlib.pyplot as plt\n",
    "%matplotlib inline\n",
    "\n",
    "# Redirect the output of the C++ solver to the notebook\n",
    "from pytriqs.utility.redirect import *\n",
    "start_redirect()"
   ]
  },
  {
   "cell_type": "markdown",
   "metadata": {},
   "source": [
    "Exercise 1\n",
    "----------\n",
    "\n",
    "We create a 2-dimensional grid of k-points ($1000 \\times 1000$) covering the Brillouin zone,\n",
    "\n",
    "and build the corresponding grid of kinetic energies. Finally, we plot the dispersion relation. "
   ]
  },
  {
   "cell_type": "code",
   "execution_count": null,
   "metadata": {},
   "outputs": [],
   "source": [
    "# Parameters\n",
    "t = 0.25\n",
    "tp = -0.3*t\n",
    "U = 10.*t\n",
    "beta = 200./(4*t)\n",
    "mu = 0.6155 # Corresponds to a doping of 0.04\n",
    "\n",
    "# Get the dispersion over the BZ\n",
    "k_linear = np.linspace(-np.pi, np.pi, 1000, endpoint=False)\n",
    "kx, ky = np.meshgrid(k_linear, k_linear)\n",
    "epsk = -2 * t * (np.cos(kx) + np.cos(ky)) - 4 * tp * np.cos(kx) * np.cos(ky)\n",
    "\n",
    "plt.pcolormesh( k_linear, k_linear, epsk, cmap='RdBu_r', vmin=-1.3, vmax=1.3)\n",
    "plt.colorbar().set_label(r'$\\epsilon_\\mathbf{k}$', fontsize=16)\n",
    "plt.xlabel('$k_x$', fontsize=14)\n",
    "plt.ylabel('$k_y$', fontsize=14)\n",
    "plt.title(\"Contourplot of the dispersion relation\", fontsize = 14)"
   ]
  },
  {
   "cell_type": "markdown",
   "metadata": {},
   "source": [
    "Exercise 2\n",
    "----------\n",
    "\n",
    "We calculate the partial density of states for both the even and odd patch using numpy histograms.\n",
    "We further plot the partial density of states for both patches, which can be directly compared with Fig. 2 of [Phys. Rev. B **80**, 064501 (2009)](https://arxiv.org/abs/0903.2480)"
   ]
  },
  {
   "cell_type": "code",
   "execution_count": null,
   "metadata": {},
   "outputs": [],
   "source": [
    "# A mask giving the k points inside the central patch\n",
    "in_central_patch = (np.abs(kx) < np.pi/np.sqrt(2)) & (np.abs(ky) < np.pi/np.sqrt(2))\n",
    "\n",
    "# The number of bins for used in the Histogram\n",
    "n_bins = 50\n",
    "\n",
    "# Find the partial densities of states associated to the patches\n",
    "energies, epsilon, rho, delta = {},{}, {}, {}\n",
    "energies['even'] = np.extract(in_central_patch, epsk)\n",
    "energies['odd'] = np.extract(np.invert(in_central_patch), epsk)\n",
    "\n",
    "for patch in ['even','odd']:\n",
    "    h = np.histogram(energies[patch], bins=n_bins, normed=True)\n",
    "    epsilon[patch] = 0.5 * (h[1][0:-1] + h[1][1:])\n",
    "    rho[patch] = h[0]\n",
    "    delta[patch] = h[1][1]-h[1][0]\n",
    "    plt.fill_between(epsilon[patch], rho[patch], lw=3, label=patch, alpha=0.5)\n",
    "    \n",
    "plt.legend()"
   ]
  },
  {
   "cell_type": "markdown",
   "metadata": {},
   "source": [
    "Exercise 3\n",
    "----------\n",
    "\n",
    "We calculate the local Hamiltonian of the two-site impurity\n",
    "\n",
    "$H_\\mathrm{loc} = U ( n_{1,\\uparrow} n_{1,\\downarrow} + n_{2,\\uparrow} n_{2,\\downarrow} )$\n",
    "\n",
    "in the even-odd basis\n",
    "\n",
    "$c_{\\pm,\\sigma} = (c_{1,\\sigma} \\pm c_{2,\\sigma})/\\sqrt{2}$"
   ]
  },
  {
   "cell_type": "code",
   "execution_count": null,
   "metadata": {
    "collapsed": true
   },
   "outputs": [],
   "source": [
    "# Calculate the creation/annihilation operators in the site basis by means of the even/odd basis\n",
    "cn, cn_dag, nn = {}, {}, {}\n",
    "for spin in ['up','down']:\n",
    "    cn['1-%s'%spin] = (c('even-%s'%spin,0) + c('odd-%s'%spin,0)) / np.sqrt(2)\n",
    "    cn['2-%s'%spin] = (c('even-%s'%spin,0) - c('odd-%s'%spin,0)) / np.sqrt(2)\n",
    "    nn['1-%s'%spin] = dagger(cn['1-%s'%spin]) * cn['1-%s'%spin]\n",
    "    nn['2-%s'%spin] = dagger(cn['2-%s'%spin]) * cn['2-%s'%spin]\n",
    "\n",
    "# Local Hamiltonian\n",
    "h_loc = U * (nn['1-up'] * nn['1-down'] + nn['2-up'] * nn['2-down'])"
   ]
  },
  {
   "cell_type": "markdown",
   "metadata": {},
   "source": [
    "Exercise 4\n",
    "----------\n",
    "\n",
    "We set up the DMFT loop, updating the Weiss field according to\n",
    "\n",
    "$${\\cal G}_0^{-1} = G^{-1} + \\Sigma$$\n",
    "\n",
    "with\n",
    "\n",
    "$$G_{\\pm,\\sigma} = \\int d\\epsilon \\, \\frac{\\rho_{\\pm,\\sigma}(\\epsilon)}{i\\omega + \\mu - \\epsilon - \\Sigma_{\\pm,\\sigma}}$$"
   ]
  },
  {
   "cell_type": "code",
   "execution_count": null,
   "metadata": {
    "collapsed": true
   },
   "outputs": [],
   "source": [
    "# Construct the impurity solver\n",
    "S = Solver(beta = beta,\n",
    "           gf_struct = [('even-up',[0]), ('odd-up',[0]), ('even-down',[0]), ('odd-down',[0])], n_l = 100)\n",
    "\n",
    "# The local lattice Green's function\n",
    "G = S.G0_iw.copy()\n",
    "\n",
    "# Initial guess\n",
    "S.Sigma_iw << mu\n",
    "\n",
    "# DMFT loop\n",
    "n_loops = 10\n",
    "for it in range(n_loops):\n",
    "    \n",
    "    # DCA self-consistency - get local lattice G\n",
    "    G.zero()\n",
    "    for spin in ['up', 'down']:\n",
    "        for patch in ['even', 'odd']:\n",
    "            # Hilbert transform\n",
    "            for i in range(n_bins):\n",
    "                G['%s-%s'%(patch,spin)] += rho[patch][i] * delta[patch] * \\\n",
    "                    inverse(iOmega_n + mu - epsilon[patch][i] - S.Sigma_iw['%s-%s'%(patch,spin)])\n",
    "\n",
    "    # DCA self-consistency - find next impurity G0\n",
    "    for block, g0 in S.G0_iw:\n",
    "        g0 << inverse(inverse(G[block]) + S.Sigma_iw[block])\n",
    "\n",
    "    # Run the solver. The results will be in S.G_tau, S.G_iw and S.G_l\n",
    "    S.solve(h_int = h_loc,                           # Local Hamiltonian\n",
    "            n_cycles  = 10000,                       # Number of QMC cycles\n",
    "            length_cycle = 10,                       # Length of one cycle\n",
    "            n_warmup_cycles = 1000,                  # Warmup cycles\n",
    "            measure_G_l = True)                      # Measure G_l\n",
    "    \n",
    "    if mpi.is_master_node():\n",
    "        with HDFArchive(\"results.h5\") as A:\n",
    "            A['G_iw-%i'%it] = S.G_iw\n",
    "            A['Sigma_iw-%i'%it] = S.Sigma_iw\n",
    "            A['G0_iw-%i'%it] = S.G0_iw"
   ]
  }
 ],
 "metadata": {
  "kernelspec": {
   "display_name": "Python 2",
   "language": "python",
   "name": "python2"
  },
  "language_info": {
   "codemirror_mode": {
    "name": "ipython",
    "version": 2
   },
   "file_extension": ".py",
   "mimetype": "text/x-python",
   "name": "python",
   "nbconvert_exporter": "python",
   "pygments_lexer": "ipython2",
   "version": "2.7.13"
  },
  "latex_envs": {
   "LaTeX_envs_menu_present": true,
   "autocomplete": true,
   "bibliofile": "biblio.bib",
   "cite_by": "apalike",
   "current_citInitial": 1,
   "eqLabelWithNumbers": true,
   "eqNumInitial": 1,
   "hotkeys": {
    "equation": "Ctrl-E",
    "itemize": "Ctrl-I"
   },
   "labels_anchors": false,
   "latex_user_defs": false,
   "report_style_numbering": false,
   "user_envs_cfg": false
  }
 },
 "nbformat": 4,
 "nbformat_minor": 1
}
