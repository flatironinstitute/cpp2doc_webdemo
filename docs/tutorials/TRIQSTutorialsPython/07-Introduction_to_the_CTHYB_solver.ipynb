{
 "cells": [
  {
   "cell_type": "code",
   "execution_count": null,
   "metadata": {
    "collapsed": true,
    "deletable": true,
    "editable": true,
    "run_control": {
     "frozen": false,
     "read_only": false
    }
   },
   "outputs": [],
   "source": [
    "%matplotlib inline\n",
    "# change scale of all figures to make them bigger\n",
    "import matplotlib as mpl\n",
    "mpl.rcParams['savefig.dpi']=100 "
   ]
  },
  {
   "cell_type": "markdown",
   "metadata": {
    "deletable": true,
    "editable": true,
    "run_control": {
     "frozen": false,
     "read_only": false
    }
   },
   "source": [
    "General reminder: Anderson impurity model and CTHYB solver\n",
    "=========================================\n",
    "\n",
    "In the Anderson impurity model, we decompose the full lattice problem into an interacting site ('impurity') hybridised to a bath:\n",
    "\n",
    "<img src=\"files/dmft_bath_impurity.png\">\n",
    "\n",
    "with the Hamiltonian\n",
    "   \\begin{align*}\n",
    "     H = & \\color{red}{H_{\\rm imp}} + \\color{darkgreen}{H_{\\rm hyb}} + \\color{blue}{H_{\\rm bath}} \\\\\n",
    "     \\color{red}{H_{\\rm imp}} = & \\sum_{\\alpha \\beta} \\epsilon_{\\alpha \\beta} c^{\\dagger}_{\\alpha} c_{\\beta} \n",
    "     + \\sum_{\\alpha \\beta \\gamma \\delta} U_{\\alpha \\beta \\gamma \\delta} c^{\\dagger}_{\\alpha} c^{\\dagger}_{\\beta} c_{\\delta} c_{\\gamma} \\\\\n",
    "     \\color{darkgreen}{H_{\\rm hyb}} = & \\sum_{\\alpha \\nu k} (V_{\\alpha \\nu k} c^{\\dagger}_{\\alpha} d_{\\nu k} + h.~c.) \\\\\n",
    "     \\color{blue}{H_{\\rm bath}} = & \\sum_{\\nu k} \\epsilon_{\\nu k} d^{\\dagger}_{\\nu k} d_{\\nu k}.\n",
    "   \\end{align*}\n",
    "\n",
    "Without going into the gory details, the basic idea behind CTHYB is to solve the impurity model by diagrammatically expanding the partition function $Z$ and sample the diagrams stochastically using Monte Carlo while measuring quantities of interest, such as the Green's function.\n",
    "\n",
    "The key point to understand is that a CTHYB solver needs two pieces of information as input from the user:\n",
    "- the **interacting Hamiltonian**, $H_{\\rm int} = \\sum_{\\alpha \\beta \\gamma \\delta} U_{\\alpha \\beta \\gamma \\delta} c^{\\dagger}_{\\alpha} c^{\\dagger}_{\\beta} c_{\\delta} c_{\\gamma}$,\n",
    "- the **non-interacting Green's function**, $G_0(i\\omega_n)$, from which the energy levels $\\epsilon$ and hybridization function are deduced."
   ]
  },
  {
   "cell_type": "markdown",
   "metadata": {
    "deletable": true,
    "editable": true,
    "run_control": {
     "frozen": false,
     "read_only": false
    }
   },
   "source": [
    "The TRIQS/CTHYB impurity solver\n",
    "===============================\n",
    "\n",
    "In this notebook, we will see how to use the CTHYB impurity solver ([documentation here](https://triqs.github.io/cthyb/)). We will take\n",
    "the example of a single-orbital Anderson impurity model with a local Coulomb interaction on\n",
    "the impurity orbital\n",
    "\n",
    "$$\n",
    "H_\\mathrm{int} = U n_\\mathrm{\\uparrow} n_\\mathrm{\\downarrow}\n",
    "$$\n",
    "\n",
    "The non-interacting Green's function is\n",
    "\n",
    "$$\n",
    "G_0(i\\omega_n) = \\frac{1}{i\\omega_n - \\epsilon_d - V^2 \\Gamma(i\\omega_n)}\n",
    "$$\n",
    "\n",
    "and $\\Gamma$ is the Green's function of a flat conduction bath.\n",
    "\n",
    "Setting up the impurity solver\n",
    "------------------------------\n",
    "\n",
    "Here is an example showing how to define an impurity solver and run it on a\n",
    "single-orbital Anderson impurity model. Note that the Monte Carlo will take a bit\n",
    "of time. Wait until the calculation is over before going on (see the \"Kernel busy\"\n",
    "solid circle on the top right)."
   ]
  },
  {
   "cell_type": "code",
   "execution_count": null,
   "metadata": {
    "collapsed": false,
    "deletable": true,
    "editable": true,
    "run_control": {
     "frozen": false,
     "read_only": false
    }
   },
   "outputs": [],
   "source": [
    "from pytriqs.gf import *\n",
    "from pytriqs.operators import *\n",
    "from triqs_cthyb import Solver\n",
    "\n",
    "# Redirect the output of the C++ solver to the notebook\n",
    "from pytriqs.utility.redirect import *\n",
    "start_redirect()\n",
    "\n",
    "V = 1.0           # Hybridization strength\n",
    "U = 4.0           # Local (on-site) Coulomb interaction\n",
    "epsilon_d = 0.2   # Orbital energy level\n",
    "beta = 20         # Inverse temperature\n",
    "\n",
    "# Construct the impurity solver\n",
    "S = Solver(beta = beta, gf_struct = [('up',[0]), ('down',[0])] )\n",
    "\n",
    "# Define the non-interacting Green's function\n",
    "S.G0_iw << inverse(iOmega_n - epsilon_d - V**2 * Flat(1.0))\n",
    "\n",
    "# Define the interacting Hamiltonian\n",
    "h_int = U * n('up',0) * n('down',0)\n",
    "\n",
    "# Solve the impurity problem for a given local Hamiltonian.\n",
    "S.solve(h_int = h_int, \n",
    "        length_cycle = 10,         # Number of steps between each measurement\n",
    "        n_warmup_cycles = 5000,    # Number of warmup cycles\n",
    "        n_cycles = 50000           # Number of QMC cycles\n",
    "       )"
   ]
  },
  {
   "cell_type": "markdown",
   "metadata": {
    "deletable": true,
    "editable": true,
    "run_control": {
     "frozen": false,
     "read_only": false
    }
   },
   "source": [
    "Let's try to explain the different lines of the script above. To construct the solver all that is needed is the inverse temperature $\\beta$ and a list that describes the block structure of the Green's function. This is the `gf_struct` keyword. In this specific case, there are two (disconnected) blocks `up` and `down` and each containing only one orbital with the index 0. This is what is described by `gf_struct`.\n",
    "\n",
    "Then, the member `S.G0_iw` of the solver is initialized. This Green's function will be used as the non-interacting Green's function when the solver starts.\n",
    "\n",
    "The final step is to run the solver with the `solve` method. It has a certain number of parameters:\n",
    "\n",
    "- `h_int`: This is the interacting Hamiltonian (i.e. the quartic terms in the local Hamiltonian, those with 4 operators) solved for in the Monte Carlo. It is defined using the operators that we have seen in the previous notebook. **Important**: the name of the indices in the operators have to be compatible with the `gf_struct` that was used in the construction of the solver.\n",
    "- `length_cycle`: This is the number of steps at which measurements, e.g. of `G_tau`, are made to ensure data is decorrelated.\n",
    "- `n_warmup_cycles`: The number of cycles used to thermalize the system.\n",
    "- `n_cycles`: This is the number of Monte Carlo cycles, which is also the number of measures of the Green's function.\n",
    "\n",
    "So a calculation will have a Markov chain of length `length_cycle` * (`n_warmup_cycles` + `n_cycles`).\n",
    "\n",
    "When the run is over, the outputs of the solver are:\n",
    "\n",
    "- `S.G_tau`: The Green's function in imaginary time of the system.\n",
    "- `S.G_iw`: The Green's function in Matsubara frequency of the system.\n",
    "- `S.Sigma_iw`: The self-energy in Matsubara frequency.\n",
    "\n",
    "**Tips for advanced use**:\n",
    "- For some more complex standard Hamiltonians, the library provides functions that can be used to construct `h_int`. See the operators section of the TRIQS documentation.\n",
    "- It is likely that for more involved calculations, you will have more parameters that you can adjust. See the online CTHYB documentation.\n",
    "- If you have many more parameters, it can be beneficial to set the parameters in a dictionary at the top of your script and simply pass the dictionary to `solve` using Python keyword arguments:\n",
    "\n",
    "```\n",
    "p = {}                        # Initialize an empty Python dictionary\n",
    "p['length_cycle'] = 10        # Fill the dictionary with parameters\n",
    "p['n_warmup_cycles'] = 5000\n",
    "p['n_cycles'] = 50000\n",
    "\n",
    "S.solve(h_int = h_int, **p)   # The dictionary contents will be unrolled as arguments to the solve function\n",
    "\n",
    "```"
   ]
  },
  {
   "cell_type": "markdown",
   "metadata": {
    "deletable": true,
    "editable": true,
    "run_control": {
     "frozen": false,
     "read_only": false
    }
   },
   "source": [
    "Visualizing the Matsubara-frequency results\n",
    "-------------------------------------------\n",
    "\n",
    "We can plot the results and see how our statistics look in terms of the resulting noise."
   ]
  },
  {
   "cell_type": "code",
   "execution_count": null,
   "metadata": {
    "collapsed": false,
    "deletable": true,
    "editable": true,
    "run_control": {
     "frozen": false,
     "read_only": false
    }
   },
   "outputs": [],
   "source": [
    "from pytriqs.plot.mpl_interface import *\n",
    "\n",
    "oplot(S.G_iw, 'o')\n",
    "plt.xlim(0,20)"
   ]
  },
  {
   "cell_type": "code",
   "execution_count": null,
   "metadata": {
    "collapsed": false,
    "deletable": true,
    "editable": true,
    "run_control": {
     "frozen": false,
     "read_only": false
    }
   },
   "outputs": [],
   "source": [
    "oplot(S.Sigma_iw, '-o')\n",
    "plt.xlim(0,20)\n",
    "plt.ylim(-1.0,2.0)"
   ]
  },
  {
   "cell_type": "markdown",
   "metadata": {
    "deletable": true,
    "editable": true,
    "run_control": {
     "frozen": false,
     "read_only": false
    }
   },
   "source": [
    "The large oscillations in the self-energy are due to a bad statistics in the Monte Carlo.\n",
    "\n",
    "Exercise\n",
    "--------\n",
    "\n",
    "Increase and decrease the number of Monte Carlo cycles to see its effect on the quality of the self-energy."
   ]
  }
 ],
 "metadata": {
  "kernelspec": {
   "display_name": "Python 2",
   "language": "python",
   "name": "python2"
  },
  "language_info": {
   "codemirror_mode": {
    "name": "ipython",
    "version": 2
   },
   "file_extension": ".py",
   "mimetype": "text/x-python",
   "name": "python",
   "nbconvert_exporter": "python",
   "pygments_lexer": "ipython2",
   "version": "2.7.13"
  },
  "latex_envs": {
   "LaTeX_envs_menu_present": true,
   "autocomplete": true,
   "bibliofile": "biblio.bib",
   "cite_by": "apalike",
   "current_citInitial": 1,
   "eqLabelWithNumbers": true,
   "eqNumInitial": 1,
   "hotkeys": {
    "equation": "Ctrl-E",
    "itemize": "Ctrl-I"
   },
   "labels_anchors": false,
   "latex_user_defs": false,
   "report_style_numbering": false,
   "user_envs_cfg": false
  },
  "widgets": {
   "state": {},
   "version": "1.1.1"
  }
 },
 "nbformat": 4,
 "nbformat_minor": 1
}
