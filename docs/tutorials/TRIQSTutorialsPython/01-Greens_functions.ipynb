{
 "cells": [
  {
   "cell_type": "markdown",
   "metadata": {
    "deletable": true,
    "editable": true,
    "run_control": {
     "frozen": false,
     "read_only": false
    }
   },
   "source": [
    "Manipulating Green's functions\n",
    "==============================\n",
    "\n",
    "It is now time to start using some of the tools of TRIQS. Most TRIQS tools are also exposed as python modules.\n",
    "From a practical point of view, this means that you can think of TRIQS as a python library, just like\n",
    "numpy or matplotlib.\n",
    "\n",
    "One of the central objects of a many-body calculation is a Green's function. In TRIQS, there are four main kinds of Green's\n",
    "functions:\n",
    "\n",
    "- Real-frequency Green's functions\n",
    "- Imaginary-frequency Green's functions\n",
    "- Imaginary-time Green's functions\n",
    "- Real-time Green's functions (will not be covered in this tutorial)\n",
    "\n",
    "In general, because of symmetries, Green's functions can have a *block structure*.\n",
    "\n",
    "$$\n",
    "\\hat{G} =\n",
    "\\begin{pmatrix}\n",
    "\\hat{g}^0 & 0 & \\cdots & \\cdots \\\\\n",
    "0 & \\hat{g}^1 & 0 & \\cdots \\\\\n",
    "\\cdots & 0 & \\hat{g}^2 & 0 \\\\\n",
    "\\cdots & \\cdots & \\cdots & \\cdots\n",
    "\\end{pmatrix}\n",
    "$$\n",
    "\n",
    "Here the $\\hat{g}^i$ are Green's functions with non-zero elements $g^i_{ab}$. In principle they can have\n",
    "different dimensions.\n",
    "\n",
    "For example, you can imagine a system of 5 $d$-orbitals that are split by a\n",
    "crystal field into 3 $t_{2g}$-orbitals and 2 $e_g$-orbitals. For symmetry reasons, you can have a\n",
    "situation where these orbitals do not talk to each other. In that case, the complete Green's function\n",
    "would have two blocks, one of size 3x3 corresponding to the $t_{2g}$ orbitals and one of size 2x2 corresponding\n",
    "to the $e_g$ orbitals. \n",
    "\n",
    "$$\n",
    "\\hat{G} =\n",
    "\\begin{pmatrix}\n",
    "\\hat{g}^{e_g} & 0  \\\\\n",
    "0 & \\hat{g}^{t_{2g}}  \\\\\n",
    "\\end{pmatrix}=\n",
    "\\begin{pmatrix}\n",
    "\\begin{pmatrix}\n",
    "g^{e_g}_{00} & g^{e_g}_{01} \\\\\n",
    "g^{e_g}_{10} & g^{e_g}_{11}\n",
    "\\end{pmatrix} & 0 \\\\\n",
    "0 & \\begin{pmatrix}\n",
    "g^{t_{2g}}_{00} & g^{t_{2g}}_{01} & g^{t_{2g}}_{02} \\\\\n",
    "g^{t_{2g}}_{10} & g^{t_{2g}}_{11} & g^{t_{2g}}_{12} \\\\\n",
    "g^{t_{2g}}_{20} & g^{t_{2g}}_{21} & g^{t_{2g}}_{22} \\\\\n",
    "\\end{pmatrix}\n",
    "\\end{pmatrix}\n",
    "$$\n",
    "\n",
    "To summarize, an element of a Green's function has three indices: an index for the\n",
    "block and two indices within the block: $g^a_{ij}$.\n",
    "\n",
    "Importing the relevant TRIQS library\n",
    "------------------------------------\n",
    "\n",
    "The first step to use Green's functions is to import the relevant library of TRIQS"
   ]
  },
  {
   "cell_type": "code",
   "execution_count": null,
   "metadata": {
    "collapsed": false,
    "deletable": true,
    "editable": true,
    "run_control": {
     "frozen": false,
     "read_only": false
    }
   },
   "outputs": [],
   "source": [
    "import numpy as np\n",
    "from math import pi\n",
    "from pytriqs.gf import *"
   ]
  },
  {
   "cell_type": "markdown",
   "metadata": {
    "deletable": true,
    "editable": true,
    "run_control": {
     "frozen": false,
     "read_only": false
    }
   },
   "source": [
    "Real-frequency Green's functions\n",
    "--------------------------------\n",
    "\n",
    "### Example 1: eg + t2g orbitals\n",
    "\n",
    "Let's see how to define a real-frequency Green's function. We will take the example of $e_g$ and $t_{2g}$ orbitals. We first have to define the two blocks:"
   ]
  },
  {
   "cell_type": "code",
   "execution_count": null,
   "metadata": {
    "collapsed": false,
    "deletable": true,
    "editable": true,
    "run_control": {
     "frozen": false,
     "read_only": false
    }
   },
   "outputs": [],
   "source": [
    "g_eg = GfReFreq(indices=[0,1], window=[-3.0,3.0])\n",
    "g_t2g = GfReFreq(indices=[0,1,2], window=[-3.0,3.0])"
   ]
  },
  {
   "cell_type": "markdown",
   "metadata": {
    "deletable": true,
    "editable": true,
    "run_control": {
     "frozen": false,
     "read_only": false
    }
   },
   "source": [
    "The `indices` keyword lets you chose the name of the indices. We highly encourage you to use numbers, starting at 0. The second keyword `window` sets the $\\omega$-range to be considered. Here we use a regular mesh with a default number of points. Now we put these two blocks in the full Green's function $G$:"
   ]
  },
  {
   "cell_type": "code",
   "execution_count": null,
   "metadata": {
    "collapsed": false,
    "deletable": true,
    "editable": true,
    "run_control": {
     "frozen": false,
     "read_only": false
    }
   },
   "outputs": [],
   "source": [
    "G = BlockGf(name_list=['eg', 't2g'], block_list=[g_eg, g_t2g])"
   ]
  },
  {
   "cell_type": "markdown",
   "metadata": {
    "deletable": true,
    "editable": true,
    "run_control": {
     "frozen": false,
     "read_only": false
    }
   },
   "source": [
    "Let's see how we can put something in the Green's function. We use the operator `<<` to fill the Green's function with the evaluation of the formula on the right hand side at the $\\omega$-points of the mesh, i.e. `Omega` is replaced by the values of the mesh."
   ]
  },
  {
   "cell_type": "code",
   "execution_count": null,
   "metadata": {
    "collapsed": false,
    "deletable": true,
    "editable": true,
    "run_control": {
     "frozen": false,
     "read_only": false
    }
   },
   "outputs": [],
   "source": [
    "V1 = 0.1\n",
    "V2 = 0.2\n",
    "\n",
    "# The e_g part\n",
    "G['eg'][0,0] << Omega\n",
    "G['eg'][0,1] << V1\n",
    "G['eg'][1,0] << V1\n",
    "G['eg'][1,1] << Omega \n",
    "G['eg'].invert()\n",
    "\n",
    "# The t_2g part\n",
    "G['t2g'][0,0] << Omega+2\n",
    "G['t2g'][1,1] << Omega+2\n",
    "G['t2g'][2,2] << Omega+2\n",
    "G['t2g'][0,2] << V2\n",
    "G['t2g'][2,0] << V2\n",
    "G['t2g'].invert()"
   ]
  },
  {
   "cell_type": "markdown",
   "metadata": {
    "deletable": true,
    "editable": true,
    "run_control": {
     "frozen": false,
     "read_only": false
    }
   },
   "source": [
    "In the example above we have filled the $e_g$ part with\n",
    "\n",
    "$$\n",
    "g^{eg} =\n",
    "\\begin{pmatrix}\n",
    "\\omega & V_1 \\\\\n",
    "V_1 & \\omega\n",
    "\\end{pmatrix}^{-1}\n",
    "$$\n",
    "\n",
    "and the $t_{2g}$ part with\n",
    "\n",
    "$$\n",
    "g^{t_{2g}} =\n",
    "\\begin{pmatrix}\n",
    "\\omega+2 & 0 & V_2 \\\\\n",
    "0 & \\omega+2 & 0\\\\\n",
    "V_2 & 0 & \\omega+2\n",
    "\\end{pmatrix}^{-1}\n",
    "$$\n",
    "\n",
    "The full Green's function is now\n",
    "\n",
    "$$\n",
    "G =\n",
    "\\begin{pmatrix}\n",
    "\\begin{pmatrix}\n",
    "\\omega & V_1 \\\\\n",
    "V_1 & \\omega\n",
    "\\end{pmatrix}^{-1} & 0 \\\\\n",
    "0 & \\begin{pmatrix}\n",
    "\\omega+2 & 0 & V_2 \\\\\n",
    "0 & \\omega+2 & 0\\\\\n",
    "V_2 & 0 & \\omega+2\n",
    "\\end{pmatrix}^{-1}\n",
    "\\end{pmatrix}\n",
    "$$"
   ]
  },
  {
   "cell_type": "markdown",
   "metadata": {
    "deletable": true,
    "editable": true,
    "run_control": {
     "frozen": false,
     "read_only": false
    }
   },
   "source": [
    "### Example 2: An impurity in a bath\n",
    "\n",
    "Now we consider the problem of a single impurity level embedded in a flat conduction bath $\\Gamma$ of electrons.\n",
    "We want to construct the corresponding Green’s function:\n",
    "\n",
    "$$\n",
    "g^\\mathrm{imp} (\\omega) = \\frac{1}{\\omega - \\epsilon_d - V^2 \\Gamma(\\omega)}\n",
    "$$\n",
    "\n",
    "In the equation above $\\epsilon_d$ is the energy of the level and $\\Gamma$ is the Green's function of\n",
    "a flat conduction bath. Let's see how to define and then plot this Green's function."
   ]
  },
  {
   "cell_type": "code",
   "execution_count": null,
   "metadata": {
    "collapsed": false,
    "deletable": true,
    "editable": true,
    "run_control": {
     "frozen": false,
     "read_only": false
    }
   },
   "outputs": [],
   "source": [
    "eps_d, V = 0.3, 0.2\n",
    "\n",
    "g = GfReFreq(indices = [0], window = (-2, 2), name = \"$G_{imp}$\")\n",
    "g << inverse(Omega - eps_d - V**2 * Flat(1.5))"
   ]
  },
  {
   "cell_type": "markdown",
   "metadata": {
    "deletable": true,
    "editable": true,
    "run_control": {
     "frozen": false,
     "read_only": false
    }
   },
   "source": [
    "Note the predefined function `Flat` for a flat conduction bath $\\Gamma(\\omega)$.\n",
    "Let's plot the impurity Green's function. To do so we first include the matplotlib interface\n",
    "defined in TRIQS. Note that the function to plot Green's function is `oplot` and not just\n",
    "`plot` like in matplotlib. By default, both the real and imaginary parts are plotted."
   ]
  },
  {
   "cell_type": "code",
   "execution_count": null,
   "metadata": {
    "collapsed": false,
    "deletable": true,
    "editable": true,
    "run_control": {
     "frozen": false,
     "read_only": false
    }
   },
   "outputs": [],
   "source": [
    "from pytriqs.plot.mpl_interface import oplot,plt\n",
    "# make plots show up directly in the notebook:\n",
    "%matplotlib inline \n",
    "# change scale of all figures to make them bigger\n",
    "import matplotlib as mpl\n",
    "mpl.rcParams['savefig.dpi']=100 \n",
    "\n",
    "oplot(g, '-', linewidth=2) "
   ]
  },
  {
   "cell_type": "markdown",
   "metadata": {
    "deletable": true,
    "editable": true,
    "run_control": {
     "frozen": false,
     "read_only": false
    }
   },
   "source": [
    "We can plot the spectral function, which is defined as\n",
    "\n",
    "$$ \\rho(\\omega) = -\\frac{1}{\\pi} \\, \\textbf{Im} \\, G $$"
   ]
  },
  {
   "cell_type": "code",
   "execution_count": null,
   "metadata": {
    "collapsed": false,
    "deletable": true,
    "editable": true,
    "run_control": {
     "frozen": false,
     "read_only": false
    }
   },
   "outputs": [],
   "source": [
    "oplot(-g.imag/pi, linewidth=2)"
   ]
  },
  {
   "cell_type": "markdown",
   "metadata": {
    "deletable": true,
    "editable": true,
    "run_control": {
     "frozen": false,
     "read_only": false
    }
   },
   "source": [
    "As expected the spectral function is peaked at $\\epsilon_d$. Note that in this example, the Green's function does not have a block structure. This is why we directly worked with `g` (that is a `GfReFreq`) without defining a block Green's function with `BlockGf`. In general, the same operations can be applied on a `BlockGf` and on a `GfReFreq`. So the example above could also have been written:"
   ]
  },
  {
   "cell_type": "code",
   "execution_count": null,
   "metadata": {
    "collapsed": false,
    "deletable": true,
    "editable": true,
    "run_control": {
     "frozen": false,
     "read_only": false
    }
   },
   "outputs": [],
   "source": [
    "eps_d, V  = 0.3, 0.2\n",
    "\n",
    "# The small Green's function\n",
    "g = GfReFreq(indices = [0], window = (-2, 2), name = \"imp\")\n",
    "\n",
    "# We define a block Green's function (with just one block!)\n",
    "G = BlockGf(name_list = ['imp'], block_list = [g])\n",
    "G << inverse(Omega - eps_d - V**2 * Flat(1.5))\n",
    "oplot(-G.imag/pi, '-', linewidth=2)"
   ]
  },
  {
   "cell_type": "markdown",
   "metadata": {
    "deletable": true,
    "editable": true,
    "run_control": {
     "frozen": false,
     "read_only": false
    }
   },
   "source": [
    "### Example 3: Semi-circular density of states\n",
    "\n",
    "Another predefined Green's function is the one corresponding to a semi-circular spectral function. This will be useful later on. The function is `SemiCircular` with the half-bandwidth as an argument:"
   ]
  },
  {
   "cell_type": "code",
   "execution_count": null,
   "metadata": {
    "collapsed": false,
    "deletable": true,
    "editable": true,
    "run_control": {
     "frozen": false,
     "read_only": false
    }
   },
   "outputs": [],
   "source": [
    "g = GfReFreq(indices = [0], window = (-2, 2), name = \"Semi Circular\")\n",
    "g << SemiCircular(1.0)\n",
    "oplot(-g.imag/pi) "
   ]
  },
  {
   "cell_type": "markdown",
   "metadata": {
    "deletable": true,
    "editable": true,
    "run_control": {
     "frozen": false,
     "read_only": false
    }
   },
   "source": [
    "Imaginary-frequency Green's functions\n",
    "-------------------------------------\n",
    "\n",
    "These are Green's function defined on the Matsubara axis. The fermionic Matsubara frequencies\n",
    "are defined by\n",
    "\n",
    "$$\\omega_n = \\frac{(2n+1)\\pi}{\\beta}$$\n",
    "\n",
    "where $\\beta = 1/T$ is the inverse temperature. These Green's functions are important because\n",
    "most Monte Carlo algorithms yield results on the Matsubara axis. Let's see how they\n",
    "are defined:"
   ]
  },
  {
   "cell_type": "code",
   "execution_count": null,
   "metadata": {
    "collapsed": false,
    "deletable": true,
    "editable": true,
    "run_control": {
     "frozen": false,
     "read_only": false
    }
   },
   "outputs": [],
   "source": [
    "# Define g and fill it\n",
    "g = GfImFreq(indices=[0], beta=10) # default: for fermions\n",
    "g << inverse(iOmega_n - 0.2)\n",
    "\n",
    "# Plot the Green's function\n",
    "oplot(g, '-o')\n",
    "plt.xlim(0,10)"
   ]
  },
  {
   "cell_type": "markdown",
   "metadata": {
    "deletable": true,
    "editable": true,
    "run_control": {
     "frozen": false,
     "read_only": false
    }
   },
   "source": [
    "Imaginary-time Green's functions\n",
    "--------------------------------\n",
    "\n",
    "Imaginary-time Green's functions are antiperiodic functions defined on the interval $[0, \\beta]$. They are\n",
    "constructed very much like imaginary-frequency Green's functions"
   ]
  },
  {
   "cell_type": "code",
   "execution_count": null,
   "metadata": {
    "collapsed": false,
    "deletable": true,
    "editable": true,
    "run_control": {
     "frozen": false,
     "read_only": false
    }
   },
   "outputs": [],
   "source": [
    "g = GfImTime(indices=[0], beta=10)"
   ]
  },
  {
   "cell_type": "markdown",
   "metadata": {
    "deletable": true,
    "editable": true,
    "run_control": {
     "frozen": false,
     "read_only": false
    }
   },
   "source": [
    "Standard manipulations\n",
    "----------------------\n",
    "\n",
    "Green's functions can be added, multiplied by numbers, etc. The way this is done is quite natural, but it is important to use the << sign and not =."
   ]
  },
  {
   "cell_type": "code",
   "execution_count": null,
   "metadata": {
    "collapsed": false,
    "deletable": true,
    "editable": true,
    "run_control": {
     "frozen": false,
     "read_only": false
    }
   },
   "outputs": [],
   "source": [
    "g1 = GfImFreq(indices=[0], beta=10)\n",
    "g1 << iOmega_n\n",
    "g1 << 2.0 * (g1 + 0.1)\n",
    "g1 << inverse(g1)\n",
    "\n",
    "g2 = g1.copy()\n",
    "g2 << inverse(iOmega_n)\n",
    "g2 << g1 + g2\n",
    "\n",
    "oplot(g2, '-o')\n",
    "plt.xlim(0,10)"
   ]
  },
  {
   "cell_type": "markdown",
   "metadata": {
    "deletable": true,
    "editable": true,
    "run_control": {
     "frozen": false,
     "read_only": false
    }
   },
   "source": [
    "Iterating over the blocks of a `BlockGf`\n",
    "----------------------------------------\n",
    "\n",
    "If you have defined a block Green's function, it is often convenient to iterate over all its blocks\n",
    "with the following construct"
   ]
  },
  {
   "cell_type": "code",
   "execution_count": null,
   "metadata": {
    "collapsed": false,
    "deletable": true,
    "editable": true,
    "run_control": {
     "frozen": false,
     "read_only": false
    }
   },
   "outputs": [],
   "source": [
    "g_up = GfImFreq(indices=[0], beta=10)\n",
    "g_down = GfImFreq(indices=[0], beta=10)\n",
    "G = BlockGf(name_list=['up', 'down'], block_list=[g_up, g_down])\n",
    "\n",
    "# Loop over the blocks\n",
    "for name, g in G:\n",
    "    print \"This is the block called \", name\n",
    "    print \"The associated Green's function is \", g"
   ]
  },
  {
   "cell_type": "markdown",
   "metadata": {
    "deletable": true,
    "editable": true,
    "run_control": {
     "frozen": false,
     "read_only": false
    }
   },
   "source": [
    "Obtaining the density\n",
    "---------------------\n",
    "\n",
    "You can obtain the density with the `density` method"
   ]
  },
  {
   "cell_type": "code",
   "execution_count": null,
   "metadata": {
    "collapsed": false,
    "deletable": true,
    "editable": true,
    "run_control": {
     "frozen": false,
     "read_only": false
    }
   },
   "outputs": [],
   "source": [
    "g = GfImFreq(indices=[0], beta=10)\n",
    "g << inverse(iOmega_n - 0.2)\n",
    "print \"Density = \", g.density()[0,0]"
   ]
  },
  {
   "cell_type": "markdown",
   "metadata": {
    "deletable": true,
    "editable": true,
    "run_control": {
     "frozen": false,
     "read_only": false
    }
   },
   "source": [
    "Do not worry about the imaginary component as the machine precision is on the order of $10^{-15}$."
   ]
  },
  {
   "cell_type": "markdown",
   "metadata": {
    "deletable": true,
    "editable": true,
    "run_control": {
     "frozen": false,
     "read_only": false
    }
   },
   "source": [
    "Fourier transforms\n",
    "------------------\n",
    "\n",
    "TRIQS allows you to easily Fourier transform Green's functions from imaginary-time to imaginary-frequency."
   ]
  },
  {
   "cell_type": "code",
   "execution_count": null,
   "metadata": {
    "collapsed": false,
    "deletable": true,
    "editable": true,
    "run_control": {
     "frozen": false,
     "read_only": false
    }
   },
   "outputs": [],
   "source": [
    "# A Green's function in frequency set to semi-circular\n",
    "g_w = GfImFreq(indices=[0], beta=100)\n",
    "g_w << SemiCircular(1.0)\n",
    "\n",
    "# A Green's function in time set by inverse Fourier transform\n",
    "g_t = GfImTime(indices=[0], beta=100)\n",
    "g_t << InverseFourier(g_w)\n",
    "oplot(g_t)"
   ]
  },
  {
   "cell_type": "code",
   "execution_count": null,
   "metadata": {
    "collapsed": false,
    "deletable": true,
    "editable": true,
    "run_control": {
     "frozen": false,
     "read_only": false
    }
   },
   "outputs": [],
   "source": [
    "# We can also go the other way\n",
    "# Let's check that it gives the original result\n",
    "g_w2 = GfImFreq(indices=[0], beta=100)\n",
    "g_w2 << Fourier(g_t)\n",
    "oplot(g_w, 'o')\n",
    "oplot(g_w2, 'x')\n",
    "plt.xlim(0,5)"
   ]
  },
  {
   "cell_type": "markdown",
   "metadata": {
    "deletable": true,
    "editable": true,
    "run_control": {
     "frozen": false,
     "read_only": false
    }
   },
   "source": [
    "Pade analytical continuation\n",
    "----------------------------\n",
    "\n",
    "The Fourier transforms allow to go from time to frequency. A much more delicate thing is to do the so-called \"analytical continuation\". This means to start from a Matsubara-frequency Green's function and obtain the real-frequency corresponding Green's function. This can formally be done, but turns out to be a mathematically ill-defined problem. As soon as there is a little bit of noise in the Matsubara-frequency data, the continuation to the real axis becomes very unstable.\n",
    "\n",
    "One of the ways to do this analytical continuation is to use the Pade approximation. TRIQS can do that for you in the following way:"
   ]
  },
  {
   "cell_type": "code",
   "execution_count": null,
   "metadata": {
    "collapsed": false,
    "deletable": true,
    "editable": true,
    "run_control": {
     "frozen": false,
     "read_only": false
    }
   },
   "outputs": [],
   "source": [
    "# We define a Matsubara Green's function\n",
    "g = GfImFreq(indices=[0], beta=50)\n",
    "g << SemiCircular(1.0)\n",
    "\n",
    "# Now a real-frequency one\n",
    "g_real = GfReFreq(indices=[0], window=(-2,2))\n",
    "\n",
    "# Here we use Pade approximants to set g_real from g\n",
    "g_real.set_from_pade(g)\n",
    "\n",
    "oplot(-g_real.imag/pi, linewidth=2)"
   ]
  },
  {
   "cell_type": "markdown",
   "metadata": {
    "deletable": true,
    "editable": true,
    "run_control": {
     "frozen": false,
     "read_only": false
    }
   },
   "source": [
    "Because the data has no noise, you can see that the Pade continuation did a pretty good job. We will see later, that any noise will completely change this picture!"
   ]
  },
  {
   "cell_type": "markdown",
   "metadata": {
    "deletable": true,
    "editable": true,
    "run_control": {
     "frozen": false,
     "read_only": false
    }
   },
   "source": [
    "Exercises\n",
    "---------\n",
    "\n",
    "### Exercise 1\n",
    "\n",
    "Define the following real-frequency Green's function, where $\\Gamma$ is the Green's function of a\n",
    "flat bath (width = 1), $\\epsilon_d = 0.3$ and $V=0.2$:\n",
    "\n",
    "$$\n",
    "g^\\mathrm{s+d} (\\omega) =\n",
    "\\begin{pmatrix} \\omega - \\epsilon_d & V \\\\\\\\ V & \\Gamma^{-1}\n",
    "\\end{pmatrix}^{-1}\n",
    "$$\n",
    "\n",
    "Plot the spectral function for both diagonal components of this Green's function. What\n",
    "do they represent physically?\n",
    "\n",
    "### Exercise 2\n",
    "\n",
    "Plot the density $n(\\epsilon)$ as a function of $\\epsilon$ for a Green's function $g = 1/(i\\omega_n - \\epsilon)$. What is the curve that you obtained? How does it change with temperature?\n",
    "\n",
    "### Exercise 3\n",
    "\n",
    "Define a block Green's function with an *up* and a *down* block. Each block is just a simple 1x1 imaginary-frequency Green's function. Iterate over the blocks to initialize the two blocks to $1/i \\omega_n$. What happens if you change $\\beta$?\n",
    "\n",
    "### Exercise 4\n",
    "\n",
    "Consider a Hubbard atom with $U=2$ at temperature $T = 1/\\beta = 1/10$. The non-interacting and interacting Green's functions for this problem are:\n",
    "\n",
    "$$\n",
    "G_0 = \\frac{1}{i \\omega_n + U/2} \\qquad G = \\frac{1}{2(i\\omega_n + U/2)} + \\frac{1}{2(i\\omega_n - U/2)}\n",
    "$$\n",
    "\n",
    "Using Dyson's equation, verify that the corresponding self-energy is indeed\n",
    "\n",
    "$$\n",
    "\\Sigma = \\frac{U}{2} + \\frac{U^2}{4 i\\omega_n}\n",
    "$$\n",
    "\n",
    "### Exercise 5\n",
    "\n",
    "Compute the following second-order self-energy with $U=2$\n",
    "\n",
    "$$ \\Sigma(i\\omega_n) = U^2 \\int_0^\\beta d\\tau e^{i \\omega_n \\tau} G_0(\\tau)^3 $$\n",
    "\n",
    "using an non-interacting $G_0$ given by a semi-circular of half-bandwidth 1. Use Dyson's equation to compute $G(i\\omega_n)$.\n",
    "\n",
    "Hint: The `SemiCircular` initializer only works for frequency Green's functions.\n",
    "\n",
    "Hint: The \"power operator\" is not defined for Green's functions. Use multiplication.\n",
    "\n",
    "### Exercise 6\n",
    "\n",
    "Use Pade approximants to obtain a real-frequency version of the Green's function computed in the\n",
    "Exercise 5. What is the effect of interactions at second-order perturbation theory? How is it changing with different values of $U$?\n"
   ]
  },
  {
   "cell_type": "code",
   "execution_count": null,
   "metadata": {
    "collapsed": true,
    "deletable": true,
    "editable": true,
    "run_control": {
     "frozen": false,
     "read_only": false
    }
   },
   "outputs": [],
   "source": []
  }
 ],
 "metadata": {
  "kernelspec": {
   "display_name": "Python 2",
   "language": "python",
   "name": "python2"
  },
  "language_info": {
   "codemirror_mode": {
    "name": "ipython",
    "version": 2
   },
   "file_extension": ".py",
   "mimetype": "text/x-python",
   "name": "python",
   "nbconvert_exporter": "python",
   "pygments_lexer": "ipython2",
   "version": "2.7.13"
  },
  "latex_envs": {
   "LaTeX_envs_menu_present": true,
   "autocomplete": true,
   "bibliofile": "biblio.bib",
   "cite_by": "apalike",
   "current_citInitial": 1,
   "eqLabelWithNumbers": true,
   "eqNumInitial": 1,
   "hotkeys": {
    "equation": "Ctrl-E",
    "itemize": "Ctrl-I"
   },
   "labels_anchors": false,
   "latex_user_defs": false,
   "report_style_numbering": false,
   "user_envs_cfg": false
  },
  "widgets": {
   "state": {},
   "version": "1.1.1"
  }
 },
 "nbformat": 4,
 "nbformat_minor": 1
}
