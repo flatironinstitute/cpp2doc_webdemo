{
 "cells": [
  {
   "cell_type": "markdown",
   "metadata": {
    "deletable": true,
    "editable": true,
    "run_control": {
     "frozen": false,
     "read_only": false
    }
   },
   "source": [
    "#Trace calculation\n",
    "Compute $\\mathrm{Tr}(A+B)$ using expression templates."
   ]
  },
  {
   "cell_type": "code",
   "execution_count": null,
   "metadata": {
    "collapsed": false,
    "deletable": true,
    "editable": true,
    "run_control": {
     "frozen": false,
     "read_only": false
    }
   },
   "outputs": [],
   "source": [
    "%reload_ext pytriqs.magic"
   ]
  },
  {
   "cell_type": "code",
   "execution_count": null,
   "metadata": {
    "collapsed": false,
    "deletable": true,
    "editable": true,
    "run_control": {
     "frozen": false,
     "read_only": false
    }
   },
   "outputs": [],
   "source": [
    "%%triqs -u stl\n",
    "#include <chrono>\n",
    "#include <iostream>\n",
    "\n",
    "std::pair<std::vector<int>,array<double,2>> trace_time(int reps){\n",
    "\n",
    " using namespace triqs;\n",
    " using namespace triqs::arrays;\n",
    "\n",
    " std::vector<int> size;\n",
    " array<double,2> times(3,100);\n",
    "\n",
    " for(int i=0, dim=10; i<100; i++, dim+=10){\n",
    "\n",
    "  auto A = matrix<double>(dim, dim); A()=0;\n",
    "  auto B = matrix<double>(dim, dim); B()=0;\n",
    "\n",
    "  double time1=0, time2=0, time3=0;\n",
    "\n",
    "  std::chrono::system_clock::time_point start = std::chrono::system_clock::now();\n",
    "  for(int r=0; r<reps; ++r) auto tr = trace(A+B); // Uses expression template\n",
    "  std::chrono::duration<double> sec = std::chrono::system_clock::now() - start;\n",
    "  time1 += sec.count();\n",
    " \n",
    "  start = std::chrono::system_clock::now();\n",
    "  for(int r=0; r<reps; ++r) auto tr = trace(matrix<double>(A+B)); // Object oriented way\n",
    "  sec = std::chrono::system_clock::now() - start;\n",
    "  time2 += sec.count();\n",
    "\n",
    "  start = std::chrono::system_clock::now();\n",
    "  double tr;\n",
    "  for(int r=0; r<reps; ++r){\n",
    "   tr = 0.;\n",
    "   for (int ind=0; ind<dim; ind++) // Low level\n",
    "    tr += A(ind,ind)+B(ind,ind);\n",
    "  }\n",
    "  sec = std::chrono::system_clock::now() - start;\n",
    "  time3 += sec.count();\n",
    "\n",
    "  std::cerr << tr; // Reuse tr, otherwise optimizer eliminates the loop \n",
    "\n",
    "  size.push_back(dim);\n",
    "  times(0,i)=time1/reps;\n",
    "  times(1,i)=time2/reps;\n",
    "  times(2,i)=time3/reps;\n",
    " }\n",
    "\n",
    " return std::make_pair(size,times);\n",
    "\n",
    "}\n"
   ]
  },
  {
   "cell_type": "code",
   "execution_count": null,
   "metadata": {
    "collapsed": false,
    "deletable": true,
    "editable": true,
    "run_control": {
     "frozen": false,
     "read_only": false
    }
   },
   "outputs": [],
   "source": [
    "s,times = trace_time(1000)"
   ]
  },
  {
   "cell_type": "code",
   "execution_count": null,
   "metadata": {
    "collapsed": false,
    "deletable": true,
    "editable": true,
    "run_control": {
     "frozen": false,
     "read_only": false
    }
   },
   "outputs": [],
   "source": [
    "figure(figsize=(15,5))\n",
    "gs=GridSpec(1,2)\n",
    "subplot(gs[0])\n",
    "xlim(-0.0001,500)\n",
    "ylim(0,0.001)\n",
    "xlabel('matrix size')\n",
    "ylabel('t (ms)')\n",
    "plot(s,times[0],label='TRIQS', lw=4.0)\n",
    "plot(s,times[1],label='matrix(A+B)', lw=2.0)\n",
    "plot(s,times[2],label='low level', lw=4.0)\n",
    "legend()\n",
    "subplot(gs[1])\n",
    "xlim(0,500)\n",
    "ylim(0,0.00001)\n",
    "xlabel('matrix size')\n",
    "ylabel('t (ms)')\n",
    "plot(s,times[0],label='TRIQS', lw=3.0)\n",
    "plot(s,times[1],label='matrix(A+B)', lw=2.0)\n",
    "plot(s,times[2],label='low level', lw=3.0)\n",
    "legend()\n",
    "savefig('trace.pdf')"
   ]
  }
 ],
 "metadata": {
  "kernelspec": {
   "display_name": "Python 2",
   "language": "python",
   "name": "python2"
  },
  "language_info": {
   "codemirror_mode": {
    "name": "ipython",
    "version": 2
   },
   "file_extension": ".py",
   "mimetype": "text/x-python",
   "name": "python",
   "nbconvert_exporter": "python",
   "pygments_lexer": "ipython2",
   "version": "2.7.13"
  },
  "latex_envs": {
   "LaTeX_envs_menu_present": true,
   "autocomplete": true,
   "bibliofile": "biblio.bib",
   "cite_by": "apalike",
   "current_citInitial": 1,
   "eqLabelWithNumbers": true,
   "eqNumInitial": 1,
   "hotkeys": {
    "equation": "Ctrl-E",
    "itemize": "Ctrl-I"
   },
   "labels_anchors": false,
   "latex_user_defs": false,
   "report_style_numbering": false,
   "user_envs_cfg": false
  }
 },
 "nbformat": 4,
 "nbformat_minor": 0
}
