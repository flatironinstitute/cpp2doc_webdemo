{
 "cells": [
  {
   "cell_type": "markdown",
   "metadata": {
    "deletable": true,
    "editable": true,
    "run_control": {
     "frozen": false,
     "read_only": false
    }
   },
   "source": [
    "Progress Bar\n",
    "============\n",
    "\n",
    "This is an example of how a progress bar could be realized. It is implemented\n",
    "as a thread class which every second reads out the \"percent\" member\n",
    "of a class given at construction"
   ]
  },
  {
   "cell_type": "code",
   "execution_count": null,
   "metadata": {
    "collapsed": false,
    "deletable": true,
    "editable": true,
    "run_control": {
     "frozen": false,
     "read_only": false
    }
   },
   "outputs": [],
   "source": [
    "import threading, time, uuid\n",
    "from IPython.display import *\n",
    "\n",
    "class ProgressBar(threading.Thread):\n",
    "\n",
    "    def __init__(self, extC):\n",
    "        \n",
    "        threading.Thread.__init__(self)\n",
    "        self.divid = str(uuid.uuid4())\n",
    "        self.live_on = True\n",
    "        self.extC = extC\n",
    "        \n",
    "    def stop(self):\n",
    "        \n",
    "        self.live_on = False\n",
    "   \n",
    "    def start(self):\n",
    "        \n",
    "        pb = HTML(\"\"\"\n",
    "<div style=\"border: 1px solid black; width:500px\">\n",
    "  <div id=\"%s\" style=\"background-color:blue; width:0%%\">&nbsp;</div>\n",
    "</div>\"\"\" % self.divid)\n",
    "        display(pb)\n",
    "        threading.Thread.start(self)\n",
    "        \n",
    "    def run(self):\n",
    "        \n",
    "        while(self.live_on):\n",
    "            time.sleep(1)\n",
    "            display(Javascript(\"$('div#%s').width('%i%%')\" % (self.divid, self.extC.percent)))"
   ]
  },
  {
   "cell_type": "markdown",
   "metadata": {
    "deletable": true,
    "editable": true,
    "run_control": {
     "frozen": false,
     "read_only": false
    }
   },
   "source": [
    "Demo\n",
    "----"
   ]
  },
  {
   "cell_type": "code",
   "execution_count": null,
   "metadata": {
    "collapsed": false,
    "deletable": true,
    "editable": true,
    "run_control": {
     "frozen": false,
     "read_only": false
    }
   },
   "outputs": [],
   "source": [
    "class wrap:\n",
    "    percent = 0\n",
    "    \n",
    "l = wrap()\n",
    "p = ProgressBar(l)\n",
    "p.start()\n",
    "\n",
    "for i in range(101):\n",
    "    time.sleep(0.1)\n",
    "    l.percent = i\n",
    "    \n",
    "p.stop()"
   ]
  }
 ],
 "metadata": {
  "kernelspec": {
   "display_name": "Python 2",
   "language": "python",
   "name": "python2"
  },
  "language_info": {
   "codemirror_mode": {
    "name": "ipython",
    "version": 2
   },
   "file_extension": ".py",
   "mimetype": "text/x-python",
   "name": "python",
   "nbconvert_exporter": "python",
   "pygments_lexer": "ipython2",
   "version": "2.7.13"
  },
  "latex_envs": {
   "LaTeX_envs_menu_present": true,
   "autocomplete": true,
   "bibliofile": "biblio.bib",
   "cite_by": "apalike",
   "current_citInitial": 1,
   "eqLabelWithNumbers": true,
   "eqNumInitial": 1,
   "hotkeys": {
    "equation": "Ctrl-E",
    "itemize": "Ctrl-I"
   },
   "labels_anchors": false,
   "latex_user_defs": false,
   "report_style_numbering": false,
   "user_envs_cfg": false
  },
  "widgets": {
   "state": {},
   "version": "1.1.0"
  }
 },
 "nbformat": 4,
 "nbformat_minor": 0
}
