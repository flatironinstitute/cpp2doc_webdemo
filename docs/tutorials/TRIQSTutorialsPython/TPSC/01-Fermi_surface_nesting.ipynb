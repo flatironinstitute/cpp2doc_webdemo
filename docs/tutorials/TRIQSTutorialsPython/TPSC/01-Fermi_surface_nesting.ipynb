{
 "cells": [
  {
   "cell_type": "markdown",
   "metadata": {},
   "source": [
    "# Two-Particle Self-Consistent approach (TPSC) tutorial\n",
    "\n",
    "This tutorial is done in five steps:\n",
    "\n",
    "1. You will first construct the non-interacting Green function of a square lattice\n",
    "with nearest-neighbour hopping and convince yourself that the corresponding Fermi surface has perfect nesting [01]\n",
    "\n",
    "2. You will compute the Lindhard function for the non-interacting susceptibility [03]\n",
    "\n",
    "3. You will then compute the RPA approximation to check the divergence at ($\\pi,\\pi)$ [05]\n",
    "\n",
    "4. You will compute renormalized spin and charge vertices in TPSC and see that RPA does not satisfy the Pauli principle [07]\n",
    "   \n",
    "5. You will finally compute the spin susceptibility to show that it does not diverge at finite temperature. [09]\n"
   ]
  },
  {
   "cell_type": "code",
   "execution_count": null,
   "metadata": {},
   "outputs": [],
   "source": [
    "# Imports \n",
    "%matplotlib inline\n",
    "from pytriqs.lattice import BravaisLattice, BrillouinZone\n",
    "from pytriqs.gf import Gf, MeshProduct, MeshBrillouinZone, MeshImFreq, Idx\n",
    "from pytriqs.plot.mpl_interface import plt\n",
    "import numpy as np\n",
    "import warnings \n",
    "warnings.filterwarnings(\"ignore\") #ignore some matplotlib warnings\n",
    "from math import cos, pi\n",
    "plt.rcParams[\"figure.figsize\"] = (10,9) # set default size for all figures"
   ]
  },
  {
   "cell_type": "markdown",
   "metadata": {},
   "source": [
    "## Lattice non-interacting Green function\n",
    "\n",
    "In this notebook, we will consider a square lattice with nearest-neighbour hopping $t$.\n",
    "The dispersion relation for this model is simply:\n",
    "\n",
    "\\begin{equation}\n",
    "  \\epsilon(\\mathbf{k})=-2t(\\cos{k_x}+\\cos{k_y}),\n",
    "\\end{equation}\n",
    "\n",
    "where $\\mathbf{k}$ is a vector in the Brillouin zone (in units where the lattice spacing is unity $a=1$). The non-interacting Green's function for this lattice is given by\n",
    "\n",
    "\\begin{equation}\n",
    "  G_0(\\mathbf{k}, i\\omega_n) = \\frac{1}{i\\omega_n - \\epsilon(\\mathbf{k})}\n",
    "\\end{equation}\n",
    "\n",
    "### Exercise 1:\n",
    "\n",
    "Following the notebook introducing multivariable Green functions, create an\n",
    "object `g0` that contains the non-interacting Green function $G_0(\\mathbf{k},i\\omega_n)$\n",
    "of this lattice. You can use the parameters given below."
   ]
  },
  {
   "cell_type": "code",
   "execution_count": null,
   "metadata": {},
   "outputs": [],
   "source": [
    "# Regroup some parameters of the computation used later\n",
    "\n",
    "beta = 1/0.4 # Inverse temperature\n",
    "t = 1.0      # Hopping   \n",
    "n_k = 128    # Number of points in the Brillouin Zone mesh (for each dimension)\n",
    "n_w = 128    # Number of Matsubara frequencies\n",
    "mu = 0       # Chemical potential\n",
    "\n",
    "# Write your code here, it should eventually define a variable g0\n",
    "\n",
    "# ...."
   ]
  },
  {
   "cell_type": "markdown",
   "metadata": {},
   "source": [
    "### Exercice 2:\n",
    "\n",
    "Save the Green function `g0` into an archive `tpsc.h5`, as `g0_kw`. This will be useful because\n",
    "we will use `g0` later in other notebooks."
   ]
  },
  {
   "cell_type": "code",
   "execution_count": null,
   "metadata": {},
   "outputs": [],
   "source": []
  },
  {
   "cell_type": "markdown",
   "metadata": {},
   "source": [
    "## For nearest-neighbor model, the Fermi surface is nested\n",
    "\n",
    "Your goal here is to display the Fermi surface and see that it has perfect\n",
    "nesting, meaning that large parts of the Fermi surface are mapped on to each other by a single momentum transfer $\\mathbf{k}_{nesting}$, where $\\mathbf{k}_{nesting}$ is called the \"nesting vector\".\n",
    "\n",
    "### Exercice 3:\n",
    "\n",
    "Make a color plot of $-\\frac{1}{\\pi} Im G_0(\\mathbf{k}, i\\omega_0)$ over the\n",
    "Brillouin zone.\n",
    "For simplicity, we will neglect the fact that the first Matsubara frequency\n",
    "$i\\omega_0$ is not exactly $0$ at finite temperature and approximate the spectral function\n",
    "at $k$ and $\\omega=0$ by this quantity.\n",
    "\n",
    "Hint: Here is an example of a code that makes a color plot of the\n",
    "function $k_x^2 + k_y^2$. You can use it as a model to write your code.\n",
    "\n",
    "```python\n",
    "func = lambda kx, ky: kx**2+ky**2\n",
    "\n",
    "kgrid1d = np.linspace(-np.pi, np.pi, 100, endpoint=True)\n",
    "kx, ky = np.meshgrid(kgrid1d, kgrid1d) \n",
    "plt.pcolor(kx, ky, np.vectorize(func)(kx,ky))\n",
    "```\n",
    "\n",
    "You should see from the plot that the Fermi surface is **nested**:\n",
    "\n",
    "  * What do we mean by that?\n",
    "  * What is the nesting vector?"
   ]
  },
  {
   "cell_type": "code",
   "execution_count": null,
   "metadata": {},
   "outputs": [],
   "source": []
  },
  {
   "cell_type": "markdown",
   "metadata": {},
   "source": [
    "### Exercice 4:\n",
    "\n",
    "Plot the momentum distribution $n_\\mathbf{k}$ along a diagonal of the Brillouin zone.\n",
    "\n",
    "Hint 1: in order to obtain the density for a given value of $\\mathbf{k}$ you\n",
    "may want to:\n",
    "\n",
    "  - Do a partial evaluation (see introduction to multivariable Green functions)\n",
    "    of `g0` at the vector $\\mathbf{k}$\n",
    "  - Use the `density()` method studied in previous tutorials on this partially evaluated Green function\n",
    "  \n",
    "Hint 2: Here is a code to plot a function `func` of $k$ along the diagonal of the Brillouin\n",
    "zone:\n",
    "\n",
    "```python\n",
    "func = lambda k: k**2\n",
    "kgrid1d = np.linspace(-np.pi, np.pi, 100, endpoint=True)\n",
    "plt.plot(kgrid1d, np.vectorize(func)(kgrid1d))\n",
    "```\n",
    "\n",
    "NB: In the above piece of code, `kgrid1d` is an array, so you cannot apply `func` directly to it because it is a function acting on scalars. In order for `func` to act on every element of an array, you should first \"vectorize\" it through `np.vectorize`.\n",
    "\n",
    "Can you see a signature of the Fermi surface on this plot?"
   ]
  },
  {
   "cell_type": "code",
   "execution_count": null,
   "metadata": {},
   "outputs": [],
   "source": []
  }
 ],
 "metadata": {
  "kernelspec": {
   "display_name": "Python 2",
   "language": "python",
   "name": "python2"
  },
  "language_info": {
   "codemirror_mode": {
    "name": "ipython",
    "version": 2
   },
   "file_extension": ".py",
   "mimetype": "text/x-python",
   "name": "python",
   "nbconvert_exporter": "python",
   "pygments_lexer": "ipython2",
   "version": "2.7.15"
  }
 },
 "nbformat": 4,
 "nbformat_minor": 2
}
