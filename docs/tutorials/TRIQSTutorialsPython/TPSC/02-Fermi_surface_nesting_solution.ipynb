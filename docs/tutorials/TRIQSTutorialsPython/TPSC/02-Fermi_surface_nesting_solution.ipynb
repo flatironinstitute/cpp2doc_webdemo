{
 "cells": [
  {
   "cell_type": "code",
   "execution_count": null,
   "metadata": {},
   "outputs": [],
   "source": [
    "# Imports \n",
    "%matplotlib inline\n",
    "from pytriqs.lattice import BravaisLattice, BrillouinZone\n",
    "from pytriqs.gf import Gf, MeshProduct, MeshBrillouinZone, MeshImFreq, Idx\n",
    "from pytriqs.plot.mpl_interface import plt\n",
    "import numpy as np\n",
    "import warnings \n",
    "warnings.filterwarnings(\"ignore\") #ignore some matplotlib warnings\n",
    "from math import cos, pi\n",
    "plt.rcParams[\"figure.figsize\"] = (10,9) # set default size for all figures"
   ]
  },
  {
   "cell_type": "markdown",
   "metadata": {},
   "source": [
    "## Lattice non-interacting Green function\n",
    "\n",
    "In this notebook, we will consider a square lattice with nearest-neighbour hopping $t$.\n",
    "The dispersion relation for this model is simply:\n",
    "\n",
    "\\begin{equation}\n",
    "  \\epsilon(\\mathbf{k})=-2t(\\cos{k_x}+\\cos{k_y}),\n",
    "\\end{equation}\n",
    "\n",
    "where $\\mathbf{k}$ is a vector in the Brillouin zone (in units where the lattice spacing is unity $a=1$). The non-interacting Green's function for this lattice is given by\n",
    "\n",
    "\\begin{equation}\n",
    "  G_0(\\mathbf{k}, i\\omega_n) = \\frac{1}{i\\omega_n - \\epsilon(\\mathbf{k})}\n",
    "\\end{equation}\n",
    "\n",
    "### Exercise 1:\n",
    "\n",
    "Following the notebook introducing multivariable Green functions, create an\n",
    "object `g0` that contains the non-interacting Green function $G_0(\\mathbf{k},i\\omega_n)$\n",
    "of this lattice. You can use the parameters given below."
   ]
  },
  {
   "cell_type": "code",
   "execution_count": null,
   "metadata": {},
   "outputs": [],
   "source": [
    "# Regroup some parameters of the computation used later\n",
    "\n",
    "beta = 1/0.4 # Inverse temperature\n",
    "t = 1.0      # Hopping   \n",
    "n_k = 128    # Number of points in the Brillouin Zone mesh (for each dimension)\n",
    "n_w = 128    # Number of Matsubara frequencies\n",
    "mu = 0       # Chemical potential\n",
    "\n",
    "# Write your code here, it should eventually define a variable g0\n",
    "\n",
    "BL = BravaisLattice([(1, 0, 0), (0, 1, 0)]) # Two unit vectors in R3\n",
    "BZ = BrillouinZone(BL) \n",
    "\n",
    "kmesh = MeshBrillouinZone(BZ, n_k=n_k)\n",
    "wmesh = MeshImFreq(beta=beta, S='Fermion', n_max=n_w)\n",
    "\n",
    "g0 = Gf(mesh=MeshProduct(kmesh, wmesh), target_shape=[])\n",
    "\n",
    "def eps(k):\n",
    "    return -2 * t* (cos(k[0]) + cos(k[1]))\n",
    "\n",
    "for k in g0.mesh[0]:\n",
    "    for w in g0.mesh[1]:\n",
    "        g0[k, w] = 1/(w - eps(k))"
   ]
  },
  {
   "cell_type": "markdown",
   "metadata": {},
   "source": [
    "### Exercice 2:\n",
    "\n",
    "Save the Green function `g0` into an archive `tpsc.h5`. This will be useful because\n",
    "we will use `g0` later in other notebooks."
   ]
  },
  {
   "cell_type": "code",
   "execution_count": null,
   "metadata": {},
   "outputs": [],
   "source": [
    "from pytriqs.archive import HDFArchive\n",
    "with HDFArchive(\"tpsc.h5\") as R:\n",
    "    R['g0_kw'] = g0"
   ]
  },
  {
   "cell_type": "markdown",
   "metadata": {},
   "source": [
    "## For nearest-neighbor model, the Fermi surface is nested\n",
    "\n",
    "Your goal here is to display the Fermi surface and see that it has perfect\n",
    "nesting.\n",
    "\n",
    "### Exercice 3:\n",
    "\n",
    "Make a color plot of $-\\frac{1}{\\pi} Im G_0(\\mathbf{k}, i\\omega_0)$ over the\n",
    "Brillouin zone.\n",
    "For simplicity, we will neglect the fact that the first Matsubara frequency\n",
    "$i\\omega_0$ is not exactly $0$ at finite temperature and approximate the spectral function\n",
    "at $k$ and $\\omega=0$ by this quantity.\n",
    "\n",
    "Hint: Here is an example of a code that makes a color plot of the\n",
    "function $k_x^2 + k_y^2$. You can use it as a model to write your code.\n",
    "\n",
    "```python\n",
    "func = lambda kx, ky: kx**2+ky**2\n",
    "\n",
    "kgrid1d = np.linspace(-np.pi, np.pi, 100, endpoint=True)\n",
    "kx, ky = np.meshgrid(kgrid1d, kgrid1d) \n",
    "plt.pcolor(kx, ky, np.vectorize(func)(kx,ky))\n",
    "```\n",
    "\n",
    "You should see from the plot that the Fermi surface is **nested**:\n",
    "\n",
    "  * What do we mean by that?\n",
    "  * What is the nesting vector?"
   ]
  },
  {
   "cell_type": "code",
   "execution_count": null,
   "metadata": {},
   "outputs": [],
   "source": [
    "# take a simple numpy grid (independant of the actual grid of g0)\n",
    "kgrid1d = np.linspace(-np.pi, np.pi, n_k + 1, endpoint=True)  # a linear grid\n",
    "kx, ky = np.meshgrid(kgrid1d, kgrid1d)                        # a 2d grid of points from numpy \n",
    "\n",
    "# To make the matplotlib plot, we need a function kx, ky -> real\n",
    "# so we quickly make two simple ones...\n",
    "\n",
    "# The spectral function vs k at \\omega_0\n",
    "spectral = lambda kx, ky: -g0( (kx,ky,0), 0).imag / pi\n",
    "\n",
    "# The denominator that should vanish at the location of the Fermi surface.\n",
    "fs = lambda kx, ky: (1/g0( (kx,ky,0) , 0)).real\n",
    "\n",
    "# make the color plot\n",
    "plt.figure(figsize=(7,7))\n",
    "plt.pcolor(kx, ky, np.vectorize(spectral)(kx,ky))\n",
    "plt.colorbar()\n",
    "plt.contour(kx, ky, np.vectorize(fs)(kx,ky), levels=[0], colors='white')\n",
    "plt.axes().set_aspect('equal')\n",
    "\n",
    "# Cosmetics\n",
    "plt.xticks([-np.pi, 0, np.pi],[r\"$-\\pi$\", r\"0\", r\"$\\pi$\"])    \n",
    "plt.yticks([-np.pi, 0, np.pi],[r\"$-\\pi$\", r\"0\", r\"$\\pi$\"])\n",
    "plt.xlabel(r\"$k_x$\"); plt.ylabel(r\"$k_y$\")\n",
    "plt.title(\"Momentum distribution curve (MDC) at the Fermi level\");"
   ]
  },
  {
   "cell_type": "markdown",
   "metadata": {},
   "source": [
    "### Exercice 4:\n",
    "\n",
    "Plot the momentum distribution $n_\\mathbf{k}$ along a diagonal of the Brillouin zone.\n",
    "\n",
    "Hint 1: in order to obtain the density for a given value of $\\mathbf{k}$ you\n",
    "may want to:\n",
    "\n",
    "  - Do a partial evaluation (see introduction to multivariable Green functions)\n",
    "    of `g0` at the vector $\\mathbf{k}$\n",
    "  - Use the `density()` method studied in previous tutorials on this partially evaluated Green function\n",
    "  \n",
    "Hint 2: Here is a code that plots a function of $k$ along the diagonal of the Brillouin\n",
    "zone:\n",
    "\n",
    "```python\n",
    "func = lambda k: k**2\n",
    "kgrid1d = np.linspace(-np.pi, np.pi, 100, endpoint=True)\n",
    "plt.plot(kgrid1d, np.vectorize(func)(kgrid1d))\n",
    "```\n",
    "  \n",
    "Can you see a signature of the Fermi surface on this plot?"
   ]
  },
  {
   "cell_type": "code",
   "execution_count": null,
   "metadata": {},
   "outputs": [],
   "source": [
    "plt.figure(figsize=(15,7))\n",
    "\n",
    "# function k-> g0(k, :) and take the density, a function seen in a previous tutorial (GfImFreq). \n",
    "# You are plotting the occupation probability in momentumm state k\n",
    "n_of_k = lambda k: g0 ( (k, k,0),all).density().real\n",
    "plt.plot(kgrid1d/pi, np.vectorize(n_of_k)(kgrid1d), '-o')\n",
    "\n",
    "# Internal check of consistencty, not part of the question\n",
    "# We replot using the point *on the grid* directly. \n",
    "# Idx(k_idx,k_idx,0) is the index of points on the grid \n",
    "if 1: \n",
    "    d = lambda k_idx: g0[Idx(k_idx,k_idx,0),:].density().real \n",
    "    kr = range(n_k/2)\n",
    "    plt.plot([x /(n_k/2.0) for x in kr], np.vectorize(d)(kr), '-x')\n"
   ]
  },
  {
   "cell_type": "code",
   "execution_count": null,
   "metadata": {},
   "outputs": [],
   "source": []
  }
 ],
 "metadata": {
  "kernelspec": {
   "display_name": "Python 2",
   "language": "python",
   "name": "python2"
  },
  "language_info": {
   "codemirror_mode": {
    "name": "ipython",
    "version": 2
   },
   "file_extension": ".py",
   "mimetype": "text/x-python",
   "name": "python",
   "nbconvert_exporter": "python",
   "pygments_lexer": "ipython2",
   "version": "2.7.15"
  }
 },
 "nbformat": 4,
 "nbformat_minor": 2
}
