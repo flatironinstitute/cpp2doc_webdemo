{
 "cells": [
  {
   "cell_type": "markdown",
   "metadata": {},
   "source": [
    "# Introduction to multivariable Green functions\n",
    "\n",
    "In this notebook, we will learn how to manipulate multivariable Green functions. As\n",
    "an example, we will consider the Green's function on a square lattice with nearest-neighbour hopping $t$,\n",
    "\n",
    "\\begin{equation}\n",
    "G_0(\\mathbf{k},i\\omega_n)=\\frac{1}{i\\omega_n  + \\mu - \\epsilon(\\mathbf{k})}\n",
    "\\end{equation}\n",
    "\n",
    "whose dispersion is $\\epsilon(\\mathbf{k})=-2t(\\cos{k_x}+\\cos{k_y})$, where $\\mathbf{k}$ is a vector in the Brillouin zone (in units where the lattice spacing is unity $a=1$), $\\mu$ is the chemical potential and $i\\omega_n$ is a Matsubara frequency."
   ]
  },
  {
   "cell_type": "markdown",
   "metadata": {},
   "source": [
    "## Imports and parameters\n",
    "\n",
    "Below we import modules that will be useful in the following. We also set the\n",
    "parameters of the problem."
   ]
  },
  {
   "cell_type": "code",
   "execution_count": null,
   "metadata": {},
   "outputs": [],
   "source": [
    "# Imports \n",
    "%matplotlib inline\n",
    "from pytriqs.lattice import BravaisLattice, BrillouinZone\n",
    "from pytriqs.gf import Gf, MeshProduct, MeshBrillouinZone, MeshImFreq\n",
    "from pytriqs.plot.mpl_interface import plt\n",
    "import numpy as np\n",
    "import warnings \n",
    "warnings.filterwarnings(\"ignore\") #ignore some matplotlib warnings\n",
    "from math import cos, pi\n",
    "plt.rcParams[\"figure.figsize\"] = (10,9) # set default size for all figures\n",
    "\n",
    "# Regroup some parameters of the computation used later\n",
    "beta = 1/0.4 # Inverse temperature\n",
    "t = 1.0      # Hopping   \n",
    "n_k = 128    # Number of points in the Brillouin Zone mesh (for each dimension)\n",
    "n_w = 128    # Number of Matsubara frequencies\n",
    "mu = 0       # Chemical potential"
   ]
  },
  {
   "cell_type": "markdown",
   "metadata": {},
   "source": [
    "## A mesh on a Brillouin Zone\n",
    "\n",
    "We first define a simple Bravais lattice (`BravaisLattice`) in 2 dimensions with basis vectors $\\hat{e}_x = (1, 0, 0)$ and ${\\hat e}_y=(0, 1, 0)$, and given the bravais lattice we construct the reciprocal (momentum) space Brillouin zone (`BrillouinZone`)."
   ]
  },
  {
   "cell_type": "code",
   "execution_count": null,
   "metadata": {},
   "outputs": [],
   "source": [
    "BL = BravaisLattice([(1, 0, 0), (0, 1, 0)]) # Two unit vectors in R3\n",
    "BZ = BrillouinZone(BL) "
   ]
  },
  {
   "cell_type": "markdown",
   "metadata": {},
   "source": [
    "The complex valued Green's function $G(\\mathbf{k}, i\\omega_n) $ is represented on the cartesian product mesh : $ (\\mathbf{k} \\times i\\omega_n) \\rightarrow {\\mathcal{C}}$. \n",
    "\n",
    "We construct $G$ by first defining the two separate meshes in momentum space $\\mathbf{k}$ (`MeshBrillouinZone`) and frequency space $i\\omega_n$ (`MeshImFreq`) and then use the `MeshProduct` of these meshes as the mesh for $G(\\mathbf{k}, i\\omega_n)$. Note that the `target_shape=[]` parameter means that, for a given $\\mathbf{k}$ and a given $i\\omega_n$, $G(\\mathbf{k}, i\\omega_n)$ will be a scalar (instead of a $2 \\times 2$ matrix for instance)."
   ]
  },
  {
   "cell_type": "code",
   "execution_count": null,
   "metadata": {},
   "outputs": [],
   "source": [
    "kmesh = MeshBrillouinZone(BZ, n_k=n_k)\n",
    "wmesh = MeshImFreq(beta=beta, S='Fermion', n_max=n_w)\n",
    "\n",
    "g0 = Gf(mesh=MeshProduct(kmesh, wmesh), target_shape=[])  # g0(k,omega), scalar valued"
   ]
  },
  {
   "cell_type": "markdown",
   "metadata": {},
   "source": [
    "To fill the Green's function we construct a function for the dispersion $\\epsilon(\\mathbf{k})$ and set each element of $G$ by looping over the momentum and frequency meshes."
   ]
  },
  {
   "cell_type": "code",
   "execution_count": null,
   "metadata": {},
   "outputs": [],
   "source": [
    "#%%timeit\n",
    "def eps(k):\n",
    "    return -2 * t* (cos(k[0]) + cos(k[1]))\n",
    "\n",
    "# NB : loop is a bit slow in python ...\n",
    "for k in g0.mesh[0]:\n",
    "    for w in g0.mesh[1]:\n",
    "        g0[k, w] = 1/(w - eps(k))"
   ]
  },
  {
   "cell_type": "markdown",
   "metadata": {},
   "source": [
    "## (Optional) More advanced\n",
    "\n",
    "Initializing the Green function with the cell above is quite slow. The reason is that loops are slow in Python. It is a good opportunity to illustrate a bit the C++ layer of the TRIQS library, using the TRIQS/cpp2py tool to wrap Python and C++ in a simple case.\n",
    "\n",
    "We first import an ipython \"magic\" command `%%cpp2py` :"
   ]
  },
  {
   "cell_type": "code",
   "execution_count": null,
   "metadata": {},
   "outputs": [],
   "source": [
    "%reload_ext cpp2py.magic"
   ]
  },
  {
   "cell_type": "markdown",
   "metadata": {},
   "source": [
    "The function `compute_g0` below is written in C++. \n",
    "It takes a Green's function, and the hopping $t$\n",
    "and does the same computation as above.\n",
    "\n",
    "When executing the \"magic\" cell, the C++ is analysed by the Clang compiler, \n",
    "a wrapping code (to expose it to Python and convert its argument) is generated,\n",
    "compiled. The whole is linked into a module, which is loaded automatically,\n",
    "so the `compute_g0` function is available in Python.\n"
   ]
  },
  {
   "cell_type": "code",
   "execution_count": null,
   "metadata": {},
   "outputs": [],
   "source": [
    "%%cpp2py -C pytriqs\n",
    "#include <triqs/gfs.hpp>\n",
    "using namespace triqs::gfs;\n",
    "\n",
    "void compute_g0(gf_view<cartesian_product<brillouin_zone, imfreq>, scalar_valued> g, double t) {\n",
    "      for (auto [k,w] : g.mesh()) // loop on points\n",
    "       g[k,w] = 1/(w - (-2)*t *(cos(k[0]) + cos(k[1]))); \n",
    "       // k,w are points on the grid and cast in points on the k mesh, and a Matsubara frequency resp.\n",
    "}"
   ]
  },
  {
   "cell_type": "code",
   "execution_count": null,
   "metadata": {},
   "outputs": [],
   "source": [
    "#%%timeit\n",
    "# we call the function and check that we get the same answer...\n",
    "g0b = Gf(mesh=MeshProduct(kmesh, wmesh), target_shape=[])  # g0(k,omega), scalar valued\n",
    "compute_g0(g0b,t)\n",
    "\n",
    "assert np.amax(np.abs(g0b.data - g0.data)) < 1.e-14, \"It should be the same ...\""
   ]
  },
  {
   "cell_type": "markdown",
   "metadata": {},
   "source": [
    "NB : If you uncomment the `%%timeit` command in the previous cells, python will time the two functions and you will be able to see the difference of speed.    "
   ]
  },
  {
   "cell_type": "markdown",
   "metadata": {},
   "source": [
    "## Evaluate the Green function\n",
    "\n",
    "The Green function object $g_0(k,i\\omega_n)$ can be evaluated like an ordinary Python function\n",
    "at a given reciprocal vector and Matsubara frequency:\n",
    "\n",
    "- The reciprocal vector $k$ is a tuple/list/numpy.array of double \n",
    "- The Matsubara frequency is an integer $n$, the $n$ in $i\\omega_n$\n",
    "\n",
    "The result will be a linear interpolation on the Brillouin zone \n",
    "  with the points on the grid of $g_0$ around $k$.\n",
    "\n",
    "Therefore, one can use $g_0$ as any python function of $k$ and $i\\omega_n$, \n",
    "and forget its precise representation in memory (what is the grid, etc...).\n",
    "We will use that in the plot functions below.\n",
    "\n",
    "Example:\n",
    "Let's evaluate the above Green's function at $\\mathbf{k} = (\\pi,\\pi,0)$ and $i\\omega_2$. As $\\epsilon((\\pi,\\pi,0)) = 2t = 2$ and $i\\omega_2 = i\\frac{(2*2 + 1)\\pi}{\\beta}$, we check:"
   ]
  },
  {
   "cell_type": "code",
   "execution_count": null,
   "metadata": {},
   "outputs": [],
   "source": [
    "print g0((pi,pi,0), 2) -  1/( 1j * (2*2 +1) *pi/beta - 4) # little check"
   ]
  },
  {
   "cell_type": "markdown",
   "metadata": {},
   "source": [
    "## Partial evaluation\n",
    "\n",
    "Given a function $g(k,i\\omega_n)$, for a given $k_0$, it is possible to obtain\n",
    "the function $i\\omega_n \\rightarrow g(k_0, i\\omega_n)$ :\n"
   ]
  },
  {
   "cell_type": "code",
   "execution_count": null,
   "metadata": {},
   "outputs": [],
   "source": [
    "k0 = (0.02,0.01,0)      # a k point as a tuple of 3 floats\n",
    "gw = g0(k0, all)        # We use the \"built-in\" function all here as equivalent of :, \n",
    "                        # which Python does not allow in ()\n",
    "                        # gw is now a function of $\\omega$ only, interpolated in k\n",
    "            \n",
    "assert gw.mesh == g0.mesh[1]            # The meshes in indeed a simple ImFreq mesh now\n",
    "assert abs(gw(0) - g0(k0, 0)) < 1.e-14  # Partially evaluate the function and use it, or directly evaluate it, is the same"
   ]
  },
  {
   "cell_type": "markdown",
   "metadata": {},
   "source": [
    "The new function is interpolated linearly for the point $k_0$ on the original Brillouin zone grid. The interpolated Green function is now nothing else but the usual Matsubara\n",
    "frequency Green function that you have used earlier. This means you can use all the\n",
    "methods for this Green function, such as `density()` or Fourier transforms.\n",
    "Example:"
   ]
  },
  {
   "cell_type": "code",
   "execution_count": null,
   "metadata": {},
   "outputs": [],
   "source": [
    "# This is the density n_k at k=(0.02, 0.01)\n",
    "print \"n_k =\",  gw.density().real"
   ]
  },
  {
   "cell_type": "markdown",
   "metadata": {},
   "source": [
    "Note here that, compared to what you may have done in the first tutorials, you don't need to take the `[0,0]` component of `gw.density()` because you specified in the definition of the Green's function that it should have scalar values, `target_shape=[]`."
   ]
  }
 ],
 "metadata": {
  "kernelspec": {
   "display_name": "Python 2",
   "language": "python",
   "name": "python2"
  },
  "language_info": {
   "codemirror_mode": {
    "name": "ipython",
    "version": 2
   },
   "file_extension": ".py",
   "mimetype": "text/x-python",
   "name": "python",
   "nbconvert_exporter": "python",
   "pygments_lexer": "ipython2",
   "version": "2.7.15"
  }
 },
 "nbformat": 4,
 "nbformat_minor": 2
}
