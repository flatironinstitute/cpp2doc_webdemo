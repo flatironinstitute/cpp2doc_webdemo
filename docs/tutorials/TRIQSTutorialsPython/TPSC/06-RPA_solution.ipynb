{
 "cells": [
  {
   "cell_type": "markdown",
   "metadata": {},
   "source": [
    "# The random phase approximation (RPA)\n",
    "\n",
    "\n",
    "The Lindhard susceptibility $\\chi_0$ is the exact susceptibility for the non-interacting case $U=0$, however for finite interactions the susceptibility of the system $\\chi$ is given by the Bethe-Salpeter equation\n",
    "\n",
    "$$ \\chi = \\chi_0 + \\chi_0 \\Gamma \\chi $$\n",
    "\n",
    "where $\\Gamma$ is the particle-hole irreducible vertex function, containing all diagrams with insertions of the interaction that can not be separated by cutting a pair of particle-hole single-particle propagators $G G$.\n",
    "\n",
    "The first order contribution to the vertex $\\Gamma$ is the bare interaction $U$ and the approximation\n",
    "\n",
    "$$ \\Gamma = U/2 $$\n",
    "\n",
    "gives the so-called random phase approximation for $\\chi$, i.e.\n",
    "\n",
    "$$ \\chi_{RPA} = \\chi_0 + \\chi_0 \\frac{U}{2} \\chi_{RPA} $$\n",
    "\n",
    "Rewriting this equation gives $\\chi_{RPA}$ as\n",
    "\n",
    "$$ \\chi_{RPA} = \\frac{\\chi_0}{1 - \\frac{U}{2} \\chi_0} $$\n",
    "\n",
    "note that the denominator of this equation can in general go to zero, whereby the susceptibility $\\chi_{RPA}$ diverges. Whence the RPA approximation can be used to compute instabilities of the system towards, e.g., anti-ferromagnetic symmetry breaking.\n",
    "\n",
    "As an example we compute $\\chi_{RPA}$ for the square lattice and the enhancement of the $\\mathbf{q} = (\\pi, \\pi)$ peak as a function of $U$.\n",
    "\n",
    "RPA predicts a phase transition to an antiferromagnetic state at *finite temperatures*. In two dimensions this is unphysical since the Mermin Wagner theorem tells us that the phase transition only occurs at zero temperature. \n",
    "\n",
    "We will later see how to remedy this shortcoming of RPA using the TPSC approach."
   ]
  },
  {
   "cell_type": "code",
   "execution_count": null,
   "metadata": {},
   "outputs": [],
   "source": [
    "# Imports \n",
    "%matplotlib inline\n",
    "from pytriqs.lattice import BravaisLattice, BrillouinZone\n",
    "from pytriqs.gf import MeshBrillouinZone, MeshImFreq, Gf, MeshProduct, inverse\n",
    "from pytriqs.archive import HDFArchive\n",
    "from pytriqs.plot.mpl_interface import oplot\n",
    "import numpy as np\n",
    "import warnings\n",
    "warnings.filterwarnings(\"ignore\")\n",
    "from math import cos, pi\n",
    "\n",
    "import matplotlib.pyplot as plt\n",
    "plt.rcParams[\"figure.figsize\"] = (10,9) # set default size for all figuresfrom pytriqs.archive import HDFArchive"
   ]
  },
  {
   "cell_type": "code",
   "execution_count": null,
   "metadata": {},
   "outputs": [],
   "source": [
    "# Reload the previous result\n",
    "with HDFArchive(\"tpsc.h5\",'r') as R:\n",
    "    chi0_kw = R['chi0_kw']"
   ]
  },
  {
   "cell_type": "markdown",
   "metadata": {},
   "source": [
    "### Exercise 1 \n",
    "\n",
    "Using the same code at for non-interacting susceptibility\n",
    "(Cf 04-Lindhard_solution), plot the RPA susceptibility\n",
    "for $U = 2.7$ as a color plot (and 3d plot).\n"
   ]
  },
  {
   "cell_type": "code",
   "execution_count": null,
   "metadata": {},
   "outputs": [],
   "source": [
    "# chi in the RPA approximation\n",
    "U = 2.7\n",
    "chi= lambda kx, ky: (chi0_kw((kx,ky,0),0) / (1. - U/2 * chi0_kw((kx,ky,0),0))).real"
   ]
  },
  {
   "cell_type": "code",
   "execution_count": null,
   "metadata": {},
   "outputs": [],
   "source": [
    "# Make a simple 2d grid\n",
    "nk = chi0_kw.mesh[0].linear_dims[0] + 1       \n",
    "k = np.linspace(0, 2*pi, nk, endpoint=True)\n",
    "kx, ky = np.meshgrid(k, k)\n",
    "\n",
    "# 2d color plot\n",
    "plt.pcolor(kx, ky, np.vectorize(chi)(kx,ky))\n",
    "plt.xlim(0, 2*pi); plt.ylim(0, 2*pi)\n",
    "# decoration\n",
    "plt.colorbar()\n",
    "plt.xticks([0, pi, 2*pi],[r\"0\",r\"$\\pi$\",r\"$2\\pi$\"])    \n",
    "plt.yticks([0, pi, 2*pi],[r\"0\",r\"$\\pi$\",r\"$2\\pi$\"])\n",
    "plt.xlabel(r'$k_x$'); plt.ylabel(r'$k_y$'); plt.axis('equal')\n",
    "plt.title('Static Lindhard susceptibility $\\chi_0(k, \\omega=0)$')\n",
    "\n",
    "# Here is a 3d plot. \n",
    "from mpl_toolkits.mplot3d import Axes3D\n",
    "fig = plt.figure()\n",
    "ax = Axes3D(fig)\n",
    "ax.plot_surface(kx, ky, np.vectorize(chi)(kx,ky), cmap=\"jet\", rstride=8, cstride=8)\n",
    "# decoration\n",
    "ax.set_xlabel(r\"$k_x$\"); ax.set_ylabel(r\"$k_y$\")\n",
    "ax.set_zlabel(r\"$\\chi_\\mathrm{RPA}$\");"
   ]
  },
  {
   "cell_type": "markdown",
   "metadata": {},
   "source": [
    "### Exercise 2: Plot along some path for different values of $U$\n",
    "\n",
    "Using the same code as for non-interacting susceptibility\n",
    "(Cf 04-Lindhard_solution), plot $\\chi_{RPA}$ \n",
    "for various values of $U$  (e.g. in `np.arange(1., 2.8, 0.2)`)\n",
    "along the path\n",
    "in the Brillouin Zone: $\\Gamma \\rightarrow X \\rightarrow M \\rightarrow \\Gamma$\n",
    "where $\\Gamma = (0,  0 , 0)$, $X = (\\pi, \\pi, 0)$ and  $M = (\\pi, 0,  0)$.\n",
    "\n"
   ]
  },
  {
   "cell_type": "code",
   "execution_count": null,
   "metadata": {},
   "outputs": [],
   "source": [
    "import itertools\n",
    "n_step = 100\n",
    "def path(ki, kf):   # generates a linear set of points between ki and kf\n",
    "    for x in np.arange(0, 1, 1./n_step):\n",
    "        yield (1-x) * np.array(ki) + x * np.array(kf) \n",
    "\n",
    "G = (0,  0 , 0)\n",
    "X = (pi, pi, 0) \n",
    "M = (pi, 0,  0)\n",
    "    \n",
    "for U in np.arange(1, 2.8, 0.2):\n",
    "    chi = lambda k: (chi0_kw(k,0) / (1. - U/2 * chi0_kw(k,0))).real\n",
    "    plt.plot([chi(k).real for k in itertools.chain(path(G, X), path(X, M), path(M, G) )], '-', \n",
    "             label=r'$\\chi_\\mathrm{RPA}$, $U=%2.2f$' % U)\n",
    "    \n",
    "#decoration\n",
    "plt.xlim(0, 3*n_step) # window size\n",
    "plt.grid()\n",
    "plt.axes().set_xticks([0, n_step, 2*n_step, 3*n_step])\n",
    "plt.axes().set_xticklabels([r'$\\Gamma$',r'$X$',r'$M$',r'$\\Gamma$']);\n",
    "plt.title('Static Lindhard susceptibility $\\chi_0(k,\\omega=0)$')\n",
    "plt.ylabel(r'$\\chi_0(k,\\omega=0)$')\n",
    "plt.legend(loc='best');\n",
    "#plt.tight_layout()"
   ]
  },
  {
   "cell_type": "markdown",
   "metadata": {},
   "source": [
    "### Exercise 3:  Critical $U$\n",
    "\n",
    "At some critical $U_c$ the RPA susceptibility diverges $\\chi_{RPA} \\rightarrow \\infty$. To determine $U_c$ we can study the root of the inverse susceptibility $\\chi_{RPA}^{-1}$.\n",
    "\n",
    "For the square lattice it is sufficient to study the response at $\\mathbf{k}_{AF}= (\\pi, \\pi)$ since this is the momentum vector where the response diverges. Analytically this occurs when the denominator is zero $1 - U \\chi_0(\\mathbf{k}_{AF}, 0) = 0$, i.e.\n",
    "\n",
    "$$ U_c^{(RPA)} = \\frac{2}{\\chi_0(\\mathbf{k}_{AF}, 0)} $$.\n",
    "\n",
    "Plot $\\chi_{RPA}^{-1} ( (\\pi, \\pi, 0), 0)$ vs $U$ to numerically determine the critical $U$ in the RPA approximation and compare to a direct calculation of $U_c^{(RPA)}$."
   ]
  },
  {
   "cell_type": "code",
   "execution_count": null,
   "metadata": {},
   "outputs": [],
   "source": [
    "Q_AF = (pi, pi, 0)\n",
    "\n",
    "# Critical U - analytical solution\n",
    "U_c = 2 / chi0_kw(Q_AF, 0).real\n",
    "\n",
    "Ur = np.linspace(1, 4,100)\n",
    "chi_inv = lambda U: ((1. - U/2 * chi0_kw(Q_AF,0)) / chi0_kw(Q_AF, 0)).real\n",
    "\n",
    "plt.plot(Ur, chi_inv(Ur), label=r'$\\chi_{RPA}^{-1}$')\n",
    "plt.plot(Ur, np.zeros_like(Ur), 'k', lw=0.5)\n",
    "plt.plot(U_c, 0, 'rs', label=r'$U_c \\approx %2.2f$'%U_c, alpha=0.5) # a red point at the analytic solution\n",
    "\n",
    "# decoration\n",
    "plt.title(\"Determination of critical $U$ in RPA\")\n",
    "plt.xlabel(r'$U$')\n",
    "plt.ylabel(r'$\\chi_\\mathrm{RPA}^{-1}$')\n",
    "plt.legend(loc='best');"
   ]
  },
  {
   "cell_type": "code",
   "execution_count": null,
   "metadata": {},
   "outputs": [],
   "source": []
  }
 ],
 "metadata": {
  "kernelspec": {
   "display_name": "Python 2",
   "language": "python",
   "name": "python2"
  },
  "language_info": {
   "codemirror_mode": {
    "name": "ipython",
    "version": 2
   },
   "file_extension": ".py",
   "mimetype": "text/x-python",
   "name": "python",
   "nbconvert_exporter": "python",
   "pygments_lexer": "ipython2",
   "version": "2.7.15"
  }
 },
 "nbformat": 4,
 "nbformat_minor": 2
}
