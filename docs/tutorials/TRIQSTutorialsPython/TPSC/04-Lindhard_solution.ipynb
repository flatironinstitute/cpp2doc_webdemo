{
 "cells": [
  {
   "cell_type": "markdown",
   "metadata": {},
   "source": [
    "# Lindhard susceptibility $\\chi_0$ for a non interacting electron gas\n",
    "\n",
    "\n",
    "The Lindhard function is defined by the equation\n",
    "\n",
    "\\begin{equation}\n",
    "  \\chi_0(\\mathbf{q}, i\\omega_n) = \n",
    "    -2\\frac{1}{\\beta N}\\sum_{\\mathbf{k}, m} \n",
    "    G_0(\\mathbf{k}, i\\nu_m)G_0(\\mathbf{k}+\\mathbf{q}, i\\omega_n + i\\nu_m) \n",
    "\\end{equation}\n",
    "\n",
    "where $\\mathbf{q}$ and $\\mathbf{k}$ are momenta and $i\\omega_n$ and $i\\nu_m$ are Bosonic and Fermionic Matsubara frequencies, respectively, and N the number of $\\mathbf{k}$ points.\n",
    "\n",
    "Since the equation is a convolution in both momentum and frequency space the calculation can be done in fewer operations by Fourier transforming to imaginary time $\\tau$ and real space $\\mathbf{r}$ for the Green's function, using fast Fourier transforms (FFT) to compute\n",
    "\n",
    "$$\n",
    "G_0(\\mathbf{r}, \\tau) = \n",
    "  \\mathcal{F}_{\\{\\mathbf{k}, i\\nu_m\\} \\rightarrow \\{\\mathbf{r}, \\tau\\}} \n",
    "  \\big\\{ G_0(\\mathbf{k}, i\\omega_n) \\big\\}.\n",
    "$$\n",
    "\n",
    "In real space $\\mathbf{r}$ and imaginary time $\\tau$ the convolution for $\\chi_0$ is a simple product (since it corresponds to a simple bubble diagram with a particle-hole excitation)\n",
    "\n",
    "$$\n",
    "\\chi_0(\\mathbf{r},\\tau) = 2 G_0(\\mathbf{r},\\tau)G_0(-\\mathbf{r},\\beta -\\tau)\n",
    "$$\n",
    "\n",
    "and finally one goes back to momentum and Matsubara frequency by two more fast Fourier transforms\n",
    "\n",
    "$$ \n",
    "  \\chi_0(i\\omega_n, k) \\equiv \n",
    "  \\mathcal{F}_{\\{\\mathbf{r},\\tau\\} \\rightarrow \\{\\mathbf{k}, i\\omega_n\\}} \n",
    "  \\big\\{ \\chi_0(\\mathbf{r}, \\tau) \\big\\}\n",
    "$$\n",
    "\n",
    "\n",
    "The goal of this notebook is to compute $\\chi_0$ and study it, plot it.\n",
    "\n",
    "Q: **How many operations are saved by using fast Fourier transforms rather than evaluating the convolutions directly?**\n",
    "\n",
    "Q: **At what momenta $\\mathbf{k}$ does the susceptibility $\\chi_0$ have a maxima at zero frequency?**\n",
    "\n",
    "Q: **How is the position of that maximum related to the Fermi surface?**\n",
    "   "
   ]
  },
  {
   "cell_type": "code",
   "execution_count": null,
   "metadata": {},
   "outputs": [],
   "source": [
    "# Imports \n",
    "%matplotlib inline\n",
    "from pytriqs.lattice import BravaisLattice, BrillouinZone\n",
    "from pytriqs.gf import MeshBrillouinZone, MeshImFreq, Gf, MeshProduct\n",
    "from pytriqs.archive import HDFArchive\n",
    "from pytriqs.plot.mpl_interface import oplot\n",
    "import numpy as np\n",
    "from math import cos, pi\n",
    "import warnings \n",
    "warnings.filterwarnings(\"ignore\")\n",
    "import matplotlib.pyplot as plt\n",
    "plt.rcParams[\"figure.figsize\"] = (12,9) # set default size for all figures"
   ]
  },
  {
   "cell_type": "markdown",
   "metadata": {},
   "source": [
    "## Computing $\\chi_0$ in C++"
   ]
  },
  {
   "cell_type": "markdown",
   "metadata": {},
   "source": [
    "While it is possible to compute $\\chi_0$ in Python, it is relatively slow using a simple code using a double loop over $r$ and $\\tau$. So we use again the \"C++ magic\" of TPSC-1\n",
    "\n",
    "The function bubble below computes the Lindhard function performing the three steps described above.\n"
   ]
  },
  {
   "cell_type": "code",
   "execution_count": null,
   "metadata": {},
   "outputs": [],
   "source": [
    "%reload_ext cpp2py.magic"
   ]
  },
  {
   "cell_type": "markdown",
   "metadata": {},
   "source": [
    "May take a few seconds to compile ..."
   ]
  },
  {
   "cell_type": "code",
   "execution_count": null,
   "metadata": {},
   "outputs": [],
   "source": [
    "%%cpp2py -C pytriqs\n",
    "#include <triqs/gfs.hpp>\n",
    "using namespace triqs::gfs;\n",
    "\n",
    "// The type of a Green function : (k,omega) -> Complex number\n",
    "using g_k_w_type = gf_view<cartesian_product<brillouin_zone, imfreq>, scalar_valued>;\n",
    "using g_r_t_type = gf<cartesian_product<cyclic_lattice, imtime>, scalar_valued>;\n",
    "\n",
    "g_k_w_type bubble(g_k_w_type g0) {\n",
    "    \n",
    "    // Fourier Transformation of k, \\omega to obtain g(r,t)\n",
    "    auto grt = make_gf_from_fourier<0,1>(g0);\n",
    "    \n",
    "    // The mesh of gtr is a cartesian product mt x mr. We decompose it.\n",
    "    auto [mr, mt] = grt.mesh();\n",
    "    \n",
    "    // The inverse temperature from the mesh\n",
    "    double beta = mt.domain().beta;\n",
    "    \n",
    "    // A new mesh for chi, with a bosonic statistics, but same size as mt.\n",
    "    auto mtb = gf_mesh<imtime>{beta, Boson, mt.size()};\n",
    "    \n",
    "    // Build chi (r, tau) with this new mesh.\n",
    "    auto chi0 = g_r_t_type{{mr, mtb}};\n",
    "\n",
    "    // we fill chi : chi(tau, r) = 2 * g(beta - tau, -r) * g(tau, r)\n",
    "    for (auto const &r : mr)      \n",
    "        for (auto const &t : mtb) \n",
    "            chi0[r, t] = 2*grt(-r, beta - t) * grt(r, t); \n",
    "\n",
    "    // Fourier transform back to k, \\omega space and return\n",
    "    return make_gf_from_fourier<0,1>(chi0);\n",
    "}"
   ]
  },
  {
   "cell_type": "markdown",
   "metadata": {},
   "source": [
    "## Compute the Lindhard susceptibility $\\chi_0(\\mathbf{k}, i\\omega_n)$\n"
   ]
  },
  {
   "cell_type": "code",
   "execution_count": null,
   "metadata": {
    "scrolled": true
   },
   "outputs": [],
   "source": [
    "# Reload the g0 from TPSC 1\n",
    "with HDFArchive(\"tpsc.h5\",'r') as R:\n",
    "    g0 = R['g0_kw']\n",
    "\n",
    "chi0_kw = bubble(g0)\n",
    "\n",
    "# Save it for later reuse\n",
    "with HDFArchive(\"tpsc.h5\") as R:\n",
    "    R['chi0_kw'] = chi0_kw"
   ]
  },
  {
   "cell_type": "markdown",
   "metadata": {},
   "source": [
    "## Static Lindhard susceptibility $\\chi_0(k, \\omega=0)$\n",
    "\n",
    "The square lattice with nearest-neighbour hopping $t$ has a property called \"perfect nesting\", meaning that large parts of the Fermi surface are mapped on to each other by a single momentum transfer $\\mathbf{k}_{nesting}$, where $\\mathbf{k}_{nesting}$ is called the \"nesting vector\". \n",
    "\n",
    "Go back to the plot of $-\\frac{1}{\\pi} Im G_0(\\mathbf{k}, i\\omega_0)$ and determine this peculiar momentum vector.\n",
    "\n",
    "The \"perfect nesting\" greatly enhances the particle-hole susceptibility $\\chi_0$ of the system and the static Lindhard susceptibility $\\chi_0(\\mathbf{k}, \\omega=0)$ has a dominant peak at this momentum.\n",
    "\n",
    "This can be seen as follows. Using the expression for the Greens function and performing the sum over Matsubara frequencies, one finds that the susceptibility (Lindhard function at $i\\omega_n=0$) takes the form\n",
    "\n",
    "\\begin{equation}\n",
    "  \\chi_0(\\mathbf{q}, 0) = \n",
    "    -2\\frac{1}{\\beta N}\\sum_{\\mathbf{k}, m} \n",
    "    G_0(\\mathbf{k}, i\\nu_m)G_0(\\mathbf{k}+\\mathbf{q}, i\\nu_m)= -\\frac{2}{\\beta N}\\sum_{\\mathbf{k}}\\frac{f(\\epsilon(\\mathbf{k}))-f(\\epsilon(\\mathbf{k+q}))}{\\epsilon(\\mathbf{k})-\\epsilon(\\mathbf{k+q})}.\n",
    "\\end{equation}\n",
    "\n",
    "The form appears natural if we just think of the form of the structure of perturbation theory. At $\\mathbf{q}=\\mathbf{Q}=(\\pi,\\pi)$, the property of the cosine give that $\\epsilon(\\mathbf{k+Q})=-\\epsilon(\\mathbf{k})$. And since $f(-\\epsilon(\\mathbf{k}))=1-f(\\epsilon(\\mathbf{k}))$ we have\n",
    "\n",
    "\\begin{equation}\n",
    "  \\chi_0(\\mathbf{q}, 0) = \n",
    "    -\\frac{2}{\\beta N}\\sum_{\\mathbf{k}}\\frac{\\tanh(\\beta\\epsilon(\\mathbf{k})/2)}{2\\epsilon(\\mathbf{k})}\n",
    "\\end{equation}\n",
    "which diverges as $T \\rightarrow 0$ (i.e. when $\\beta \\rightarrow \\infty$)."
   ]
  },
  {
   "cell_type": "markdown",
   "metadata": {},
   "source": [
    "## Plot the susceptibility"
   ]
  },
  {
   "cell_type": "markdown",
   "metadata": {},
   "source": [
    "### Exercise 1\n",
    "\n",
    "Using the code to plot the spectral function in the previous notebook, \n",
    "make a color plot for the static susceptibility $\\chi_0(\\mathbf{q}, 0)$\n",
    "on a grid $[0,2\\pi]^2$.\n",
    "\n",
    "NB : The solution will also provide you with a similar 3D plot."
   ]
  },
  {
   "cell_type": "code",
   "execution_count": null,
   "metadata": {},
   "outputs": [],
   "source": [
    "# Make a simple 2d grid\n",
    "nk = g0.mesh[0].linear_dims[0] + 1       # Retrieve the number of n_k points in g, add one for ki = \\pi\n",
    "kgrid1d = np.linspace(0, 2*pi, nk, endpoint=True)\n",
    "kx, ky = np.meshgrid(kgrid1d, kgrid1d)\n",
    "\n",
    "chi = lambda kx, ky: chi0_kw((kx,ky,0), 0).real\n",
    "\n",
    "# 2d color plot\n",
    "plt.pcolor(kx, ky, np.vectorize(chi)(kx,ky))\n",
    "plt.xlim(0, 2*pi); plt.ylim(0, 2*pi)\n",
    "# decoration\n",
    "plt.colorbar()\n",
    "plt.xticks([0, pi, 2*pi],[r\"0\",r\"$\\pi$\",r\"$2\\pi$\"])    \n",
    "plt.yticks([0, pi, 2*pi],[r\"0\",r\"$\\pi$\",r\"$2\\pi$\"])\n",
    "plt.title('Static Lindhard susceptibility $\\chi_0(k, \\omega=0)$')\n",
    "plt.xlabel(r'$k_x$'); plt.ylabel(r'$k_y$'); plt.axis('equal')\n",
    "\n",
    "# Here is a 3d plot. \n",
    "from mpl_toolkits.mplot3d import Axes3D\n",
    "fig = plt.figure()\n",
    "ax = Axes3D(fig)\n",
    "ax.plot_surface(kx, ky, np.vectorize(chi)(kx,ky), cmap=\"jet\")\n",
    "# decoration\n",
    "ax.set_xlabel(r\"$k_x$\"); ax.set_ylabel(r\"$k_y$\")\n",
    "ax.set_zlabel(r\"$\\chi^{0}$\");"
   ]
  },
  {
   "cell_type": "markdown",
   "metadata": {},
   "source": [
    "### Exercice 2:  Structure in Matsubara frequency $i\\omega_n$\n",
    "\n",
    "Plot the susceptibility $\\chi_0(\\mathbf{q}, i\\omega_n)$ for different $k$ points from \n",
    "$(0,\\pi)$ to $(\\pi,pi)$, vs $\\omega_n$.\n",
    "\n",
    "Hint : Use the partial evaluation technique shown in previous notebooks.\n",
    "\n",
    "Does the divergence manifest itself at every frequencies ?\n"
   ]
  },
  {
   "cell_type": "code",
   "execution_count": null,
   "metadata": {},
   "outputs": [],
   "source": [
    "for k in np.arange(0,pi, pi/10):\n",
    "    oplot(chi0_kw( (k, pi, 0), all).real, '-o', name = \"k_x/pi = %1.2f\"%(k/pi))\n",
    "plt.xlim((0,10));"
   ]
  },
  {
   "cell_type": "markdown",
   "metadata": {},
   "source": [
    "### Exercice 3:  Static susceptibility $\\chi_0(\\mathbf{k}, \\omega=0)$ along high symmetry paths in the Brillouin zone\n",
    "\n",
    "Plot the static susceptibility $\\chi_0(\\mathbf{k}, \\omega=0)$ along the following path\n",
    "in the Brillouin Zone: $\\Gamma \\rightarrow X \\rightarrow M \\rightarrow \\Gamma$\n",
    "where $\\Gamma = (0,  0 , 0)$, $X = (\\pi, \\pi, 0)$ and  $M = (\\pi, 0,  0)$.\n",
    "\n",
    "What is the effect of the nesting of the Fermi surface ?"
   ]
  },
  {
   "cell_type": "markdown",
   "metadata": {},
   "source": [
    "The static susceptibility along the high-symmetry path $\\Gamma-X-M-\\Gamma$ shows a dramatic enhancement at $\\mathbf{k} = (\\pi, \\pi)$ due to the perfectly nested Fermi surface."
   ]
  },
  {
   "cell_type": "code",
   "execution_count": null,
   "metadata": {},
   "outputs": [],
   "source": [
    "import itertools\n",
    "n_step = 100\n",
    "def path(ki, kf):   # generates a linear set of points between ki and kf\n",
    "    for x in np.arange(0, 1, 1./n_step):\n",
    "        yield (1-x) * np.array(ki) + x * np.array(kf) \n",
    "\n",
    "G = (0,  0 , 0)\n",
    "X = (pi, pi, 0) \n",
    "M = (pi, 0,  0)\n",
    "    \n",
    "plt.plot([chi0_kw(k,0).real for k in itertools.chain(path(G, X), path(X, M), path(M, G) )], '-')\n",
    "plt.xlim(0, 3*n_step) # window size\n",
    "plt.grid()\n",
    "plt.axes().set_xticks([0, n_step, 2*n_step, 3*n_step])\n",
    "plt.axes().set_xticklabels([r'$\\Gamma$',r'$X$',r'$M$',r'$\\Gamma$']);\n",
    "plt.title('Static Lindhard susceptibility $\\chi_0(k,\\omega=0)$')\n",
    "plt.ylabel(r'$\\chi_0(k,\\omega=0)$');"
   ]
  },
  {
   "cell_type": "code",
   "execution_count": null,
   "metadata": {},
   "outputs": [],
   "source": []
  }
 ],
 "metadata": {
  "kernelspec": {
   "display_name": "Python 2",
   "language": "python",
   "name": "python2"
  },
  "language_info": {
   "codemirror_mode": {
    "name": "ipython",
    "version": 2
   },
   "file_extension": ".py",
   "mimetype": "text/x-python",
   "name": "python",
   "nbconvert_exporter": "python",
   "pygments_lexer": "ipython2",
   "version": "2.7.15"
  }
 },
 "nbformat": 4,
 "nbformat_minor": 2
}
