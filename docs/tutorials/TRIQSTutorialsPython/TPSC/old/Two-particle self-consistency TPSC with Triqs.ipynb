{
 "cells": [
  {
   "cell_type": "markdown",
   "metadata": {},
   "source": [
    "# Two-particle self consistency (TPSC) with Triqs\n",
    "\n",
    "This notebook is a rewrite of material from Prof. A.-M.S. Tremblay on the two-particle self consistency approach to the Hubbard model on the square lattice.\n",
    "\n",
    "Author: Hugo U. R. Strand (2018)"
   ]
  },
  {
   "cell_type": "markdown",
   "metadata": {},
   "source": [
    "# System parameters\n",
    "\n",
    "Inverse temperature $\\beta$, chemical potential $\\mu$, and nearest neighbour hopping $t$.\n",
    "\n",
    "The momentum space discretization is given by the number of $k$-points along each $k$-space basis vector $n_k = (n_{k_x}, n_{k_y}, n_{k_z})$ and we use a finite number $n_\\omega$ of Matsubara frequencies."
   ]
  },
  {
   "cell_type": "code",
   "execution_count": 1,
   "metadata": {
    "collapsed": true
   },
   "outputs": [],
   "source": [
    "beta = 1./0.4\n",
    "mu = 0.0\n",
    "t = 1.0 \n",
    "\n",
    "n_k = (8, 8, 1) \n",
    "n_w = 128"
   ]
  },
  {
   "cell_type": "markdown",
   "metadata": {},
   "source": [
    "# Two dimensional square lattice tight binding Hamiltonian\n",
    "\n",
    "The non-interacting part of the Hamiltonian $H_0$ comprises of nearest neighbour hopping on the two dimensional square lattice\n",
    "\n",
    "$$H_0 = -t \\sum_{\\langle i, j\\rangle, \\sigma} [\n",
    "c^\\dagger_{i\\sigma} c_{j\\sigma} + c^\\dagger_{j\\sigma} c_{i\\sigma} ]$$\n",
    "\n",
    "where $c^\\dagger_{i\\sigma}$ creates an electron on site $i$ with spin $\\sigma \\in \\{ \\uparrow, \\downarrow \\}$."
   ]
  },
  {
   "cell_type": "code",
   "execution_count": 2,
   "metadata": {
    "collapsed": false
   },
   "outputs": [
    {
     "name": "stderr",
     "output_type": "stream",
     "text": [
      "Starting on 1 Nodes at : 2018-05-15 14:13:20.036428\n"
     ]
    }
   ],
   "source": [
    "%matplotlib inline\n",
    "import numpy as np\n",
    "from pytriqs.lattice.tight_binding import TBLattice\n",
    "\n",
    "I = np.eye(2)\n",
    "\n",
    "H_0 = TBLattice(\n",
    "    units = [(1, 0, 0), (0, 1, 0)],\n",
    "    hopping = {\n",
    "        (+1, 0): -t * I, # hopping in +x \n",
    "        (-1, 0): -t * I, # hopping in -x\n",
    "        ( 0,+1): -t * I, # hopping in +y\n",
    "        ( 0,-1): -t * I, # hopping in -y\n",
    "        },\n",
    "    orbital_positions = [(0,0,0)]*2,\n",
    "    orbital_names = ['up', 'do'],\n",
    "    )"
   ]
  },
  {
   "cell_type": "markdown",
   "metadata": {},
   "source": [
    "# Momentum space dispersion relation $\\epsilon_k$\n",
    "\n",
    "For the numerical calculations we represent the hopping Hamiltoninan $H_0$ on a discretized mesh in momentum space `kmesh` and compute the Fourier transform of the real-space hopping to momentum space, giving the $k$-space dispersion $\\epsilon_k$.\n",
    "\n",
    "$$H_0 = \\sum_{k\\sigma} \\epsilon_k c^\\dagger_{k\\sigma} c_{k\\sigma}$$"
   ]
  },
  {
   "cell_type": "code",
   "execution_count": 3,
   "metadata": {
    "collapsed": false
   },
   "outputs": [
    {
     "name": "stdout",
     "output_type": "stream",
     "text": [
      "e_k =\n",
      "Green Function  with mesh Brillouin Zone Mesh of size (8 8 1), Domain: Brillouin Zone with repiprocal matrix \n",
      "[[6.28319,0,0]\n",
      " [0,6.28319,0]\n",
      " [0,0,6.28319]] and target_rank 2: \n",
      "\n"
     ]
    },
    {
     "ename": "AttributeError",
     "evalue": "'pytriqs.gf.meshes.MeshBrillouinZone' object has no attribute 'domain'",
     "output_type": "error",
     "traceback": [
      "\u001b[1;31m---------------------------------------------------------------------------\u001b[0m",
      "\u001b[1;31mAttributeError\u001b[0m                            Traceback (most recent call last)",
      "\u001b[1;32m<ipython-input-3-39d2a7295770>\u001b[0m in \u001b[0;36m<module>\u001b[1;34m()\u001b[0m\n\u001b[0;32m      3\u001b[0m \u001b[1;33m\u001b[0m\u001b[0m\n\u001b[0;32m      4\u001b[0m \u001b[0mkmesh\u001b[0m \u001b[1;33m=\u001b[0m \u001b[0me_k\u001b[0m\u001b[1;33m.\u001b[0m\u001b[0mmesh\u001b[0m\u001b[1;33m\u001b[0m\u001b[0m\n\u001b[1;32m----> 5\u001b[1;33m \u001b[0mbz\u001b[0m \u001b[1;33m=\u001b[0m \u001b[0mkmesh\u001b[0m\u001b[1;33m.\u001b[0m\u001b[0mdomain\u001b[0m\u001b[1;33m\u001b[0m\u001b[0m\n\u001b[0m\u001b[0;32m      6\u001b[0m \u001b[1;33m\u001b[0m\u001b[0m\n\u001b[0;32m      7\u001b[0m \u001b[1;32mfrom\u001b[0m \u001b[0mpytriqs\u001b[0m\u001b[1;33m.\u001b[0m\u001b[0mlattice\u001b[0m \u001b[1;32mimport\u001b[0m \u001b[0mBravaisLattice\u001b[0m\u001b[1;33m\u001b[0m\u001b[0m\n",
      "\u001b[1;31mAttributeError\u001b[0m: 'pytriqs.gf.meshes.MeshBrillouinZone' object has no attribute 'domain'"
     ]
    }
   ],
   "source": [
    "            e_k = H_0.on_gf_mesh_brillouin_zone(n_k)\n",
    "print 'e_k =\\n', e_k\n",
    "\n",
    "kmesh = e_k.mesh\n",
    "bz = kmesh.domain\n",
    "\n",
    "from pytriqs.lattice import BravaisLattice\n",
    "bl = BravaisLattice(bz)\n",
    "\n",
    "from pytriqs.gf import MeshCyclicLattice\n",
    "periodization_matrix = np.array(np.diag(kmesh.linear_dims), dtype=np.int32)\n",
    "\n",
    "rmesh = MeshCyclicLattice(bl, periodization_matrix)"
   ]
  },
  {
   "cell_type": "code",
   "execution_count": null,
   "metadata": {
    "collapsed": true
   },
   "outputs": [],
   "source": [
    "from pytriqs.plot.mpl_interface import plt\n",
    "from k_space_viz import oplot_bz_cl_mesh_2d\n",
    "\n",
    "plt.figure(figsize=(3.25*3, 8))\n",
    "plt.title(r'Dispersion $\\epsilon_k$ and fermi surface contour $\\epsilon_k = 0$')\n",
    "\n",
    "oplot_bz_cl_mesh_2d(e_k[0, 0], levels=[0.])\n",
    "\n",
    "plt.xlabel(r'$k_x/(2\\pi)$')\n",
    "plt.ylabel(r'$k_y/(2\\pi)$')\n",
    "plt.colorbar(); plt.tight_layout()\n",
    "plt.savefig('figure_e_k.pdf')"
   ]
  },
  {
   "cell_type": "code",
   "execution_count": null,
   "metadata": {
    "collapsed": true
   },
   "outputs": [],
   "source": [
    "from pytriqs.plot.mpl_interface import plt\n",
    "from k_space_viz import oplot_bz_path\n",
    "\n",
    "plt.figure(figsize=(3.25*3, 8))\n",
    "plt.title(r'Dispersion $\\epsilon_k$ along the high-symmetry path $\\Gamma$-$X$-$M$-$\\Gamma$')\n",
    "\n",
    "G = np.array([0.0, 0.0, 0.0])\n",
    "X = np.array([0.5, 0.5, 0.0])\n",
    "M = np.array([0.5, 0.0, 0.0])\n",
    "\n",
    "paths = [(G, X), (X, M), (M, G)]\n",
    "\n",
    "oplot_bz_path(e_k[0, 0], paths)\n",
    "\n",
    "plt.axes().set_xticklabels([r'$\\Gamma$',r'$X$',r'$M$',r'$\\Gamma$'])\n",
    "plt.ylabel(r'$\\epsilon_k$'); plt.tight_layout()\n",
    "plt.savefig('figure_e_k_bandpath.pdf')"
   ]
  },
  {
   "cell_type": "markdown",
   "metadata": {},
   "source": [
    "# Real-space hopping $t_{i - j}$ from $\\epsilon_k$\n",
    "\n",
    "The dispersion relation $\\epsilon_k$ is a complete description of the real-space hopping $t_{i - j} = -t \\delta_{\\langle i, j \\rangle}$ and as a sanity check we can Fourier trasform back to real space and plot the hopping. "
   ]
  },
  {
   "cell_type": "code",
   "execution_count": null,
   "metadata": {
    "collapsed": true
   },
   "outputs": [],
   "source": [
    "rmesh = H_0.get_rmesh(n_k)\n",
    "\n",
    "from pytriqs.gf import Gf, InverseFourier\n",
    "t_r = Gf(mesh=rmesh, target_shape=e_k.target_shape)\n",
    "t_r << InverseFourier(e_k)"
   ]
  },
  {
   "cell_type": "code",
   "execution_count": null,
   "metadata": {
    "collapsed": true
   },
   "outputs": [],
   "source": [
    "from pytriqs.plot.mpl_interface import plt\n",
    "from k_space_viz import oplot_bz_cl_mesh_2d\n",
    "\n",
    "plt.figure(figsize=(3.25*3, 8))\n",
    "plt.title(r'Dispersion $\\epsilon_k$ and fermi surface contour $\\epsilon_k = 0$')\n",
    "\n",
    "oplot_bz_cl_mesh_2d(t_r[0, 0], cmap=plt.get_cmap('terrain'))\n",
    "\n",
    "plt.xlabel(r'$r_x$')\n",
    "plt.ylabel(r'$r_y$')\n",
    "plt.colorbar(); plt.tight_layout()\n",
    "plt.savefig('figure_e_r.pdf')"
   ]
  },
  {
   "cell_type": "markdown",
   "metadata": {},
   "source": [
    "# Single particle Green's function\n",
    "\n",
    "The Matsubara frequency single-particle Green's function for the non-interacting system is given directly by the dispersion relation as\n",
    "\n",
    "$$g_0(i\\omega_n, k) \\equiv \\big[ i\\omega_n - \\mu - \\epsilon_k \\big]^{-1}$$\n",
    "\n",
    "we also compute its inverse Fourier transform $\\mathcal{F}^{-1} \\{ \\cdot \\}$ back to real space $r$ and imaginary time $\\tau$, i.e.\n",
    "\n",
    "$$ g_0(i\\omega_n, r) \\equiv \\mathcal{F}^{-1}_{k \\rightarrow r} \\big\\{ g_0(i\\omega_n, k) \\big\\}$$\n",
    "\n",
    "$$ g_0(\\tau, r) \\equiv \\mathcal{F}^{-1}_{i\\omega_n \\rightarrow \\tau} \\big\\{ g_0(i\\omega_n, r) \\big\\}$$\n",
    "\n",
    "Similarly as for real- and momentum-space we define discretized meshes in Matsubara frequency `wmesh` and imaginary time `tmesh` on which we store the Green's function."
   ]
  },
  {
   "cell_type": "code",
   "execution_count": null,
   "metadata": {
    "collapsed": true
   },
   "outputs": [],
   "source": [
    "from pytriqs.gf import Gf\n",
    "#from pytriqs.gf import TailGf\n",
    "from pytriqs.gf import inverse, iOmega_n, Idx\n",
    "from pytriqs.gf import Fourier, InverseFourier\n",
    "from pytriqs.gf import MeshImFreq, MeshImTime, MeshProduct"
   ]
  },
  {
   "cell_type": "code",
   "execution_count": null,
   "metadata": {
    "collapsed": true
   },
   "outputs": [],
   "source": [
    "# todo: remove when we have the new tail\n",
    "\n",
    "def fix_tail(g_wr, r):\n",
    "    g_w = g_wr[:, r]\n",
    "    g_w.singularity = TailGf(g_w.target_shape)\n",
    "    if np.linalg.norm(r.value) < 1e-9: g_w.singularity[1] = I\n",
    "    return g_w"
   ]
  },
  {
   "cell_type": "code",
   "execution_count": null,
   "metadata": {
    "collapsed": true
   },
   "outputs": [],
   "source": [
    "def get_g0(e_k, beta, mu, n_w, kmesh, rmesh):\n",
    "    \n",
    "    target_shape = e_k.target_shape\n",
    "\n",
    "    wmesh = MeshImFreq(beta=beta, S='Fermion', n_max=n_w)\n",
    "    tmesh = MeshImTime(beta=beta, S='Fermion', n_max=2*len(wmesh))\n",
    "\n",
    "    g0_wk = Gf(mesh=MeshProduct(wmesh, kmesh), target_shape=target_shape)\n",
    "    g0_wr = Gf(mesh=MeshProduct(wmesh, rmesh), target_shape=target_shape)\n",
    "    g0_tr = Gf(mesh=MeshProduct(tmesh, rmesh), target_shape=target_shape)\n",
    "\n",
    "    for k in kmesh: g0_wk[:, k] = inverse( iOmega_n + mu * I - e_k[k] )\n",
    "    for w in wmesh: g0_wr[w, :] = InverseFourier(g0_wk[w, :])\n",
    "    #for r in rmesh: g0_tr[:, r] = InverseFourier(fix_tail(g0_wr, r))\n",
    "    for r in rmesh: g0_tr[:, r] = InverseFourier(g0_wr[:, r])\n",
    "\n",
    "    return g0_wk, g0_wr, g0_tr"
   ]
  },
  {
   "cell_type": "code",
   "execution_count": null,
   "metadata": {
    "collapsed": true
   },
   "outputs": [],
   "source": [
    "g0_wk, g0_wr, g0_tr = get_g0(e_k, beta, mu, n_w, kmesh, rmesh)"
   ]
  },
  {
   "cell_type": "code",
   "execution_count": null,
   "metadata": {
    "collapsed": true
   },
   "outputs": [],
   "source": [
    "from pytriqs.plot.mpl_interface import oplot, oplotr, oploti, plt\n",
    "plt.figure()\n",
    "oplot(g0_tr[:, Idx(0, 0, 0)])"
   ]
  },
  {
   "cell_type": "markdown",
   "metadata": {},
   "source": [
    "# Momentum distribution at $\\epsilon_{F}$, i.e. $-\\mathrm{Im}[G(\\omega=0, k)]/\\pi$"
   ]
  },
  {
   "cell_type": "code",
   "execution_count": null,
   "metadata": {
    "collapsed": true
   },
   "outputs": [],
   "source": [
    "from pytriqs.plot.mpl_interface import oplot, oplotr, oploti, plt\n",
    "\n",
    "g0_w0k = Gf(mesh=kmesh, target_shape=e_k.target_shape)\n",
    "for k in g0_w0k.mesh: g0_w0k[k] = 1./( (1.e-1j + mu) * I - e_k[k] )\n",
    "    \n",
    "data, k_vec, (kx, ky, kz) = extend_data_on_boundary(g0_w0k[0, 0].data, n_k)\n",
    "data = -data[:, :, 0].imag / np.pi\n",
    "extent_k = np.array([kx.min(), kx.max(), ky.min(), ky.max()])\n",
    "\n",
    "plt.figure(figsize=(3.25*4, 5*2))\n",
    "plt.imshow(data, cmap=plt.get_cmap('magma'), origin='lower', \n",
    "           vmin=0, vmax=data.max(), extent=extent_k)\n",
    "plt.colorbar(); plt.tight_layout()\n",
    "plt.xlabel(r'$k_x/(2\\pi)$')\n",
    "plt.ylabel(r'$k_y/(2\\pi)$')\n",
    "plt.savefig('figure_ef_momentum_distribution.pdf')"
   ]
  },
  {
   "cell_type": "markdown",
   "metadata": {},
   "source": [
    "# Real space imaginary time Green's function\n",
    "\n",
    "To get some intuition about the real-space imaginary time Green's function we plot the local, the nearest neighbour, the next nearest neighbour, and next next nearest neighbour components.\n",
    "\n",
    "Q: Can you predict how $g_0(\\tau, [0,1,0])$ looks like? What about $g_0(\\tau, [1,1,1])$?"
   ]
  },
  {
   "cell_type": "code",
   "execution_count": null,
   "metadata": {
    "collapsed": true
   },
   "outputs": [],
   "source": [
    "from pytriqs.plot.mpl_interface import oplot, oplotr, oploti, plt\n",
    "\n",
    "plt.figure(figsize=(3.25*4, 8))\n",
    "\n",
    "oplotr(g0_tr[:, Idx(0, 0, 0)][0, 0], label=r'$g_0(\\tau, [0,0,0])$')\n",
    "oplotr(g0_tr[:, Idx(1, 0, 0)][0, 0], label=r'$g_0(\\tau, [1,0,0])$')\n",
    "oplotr(g0_tr[:, Idx(1, 1, 0)][0, 0], label=r'$g_0(\\tau, [1,1,0])$')\n",
    "oplotr(g0_tr[:, Idx(2, 0, 0)][0, 0], label=r'$g_0(\\tau, [2,0,0])$')\n",
    "oplotr(g0_tr[:, Idx(2, 1, 0)][0, 0], label=r'$g_0(\\tau, [2,1,0])$')"
   ]
  },
  {
   "cell_type": "markdown",
   "metadata": {},
   "source": [
    "# Lindhardt susceptibility $\\chi_0$\n",
    "\n",
    "The two-particle response of the non-interacting system is given by the Lindhardt susceptibility $\\chi_0$. Diagrammatically it is a bubble diagram of two single-particle Green's function, that is most efficiently evaluated in imaginary time.\n",
    "\n",
    "$$ \\chi_0(\\tau, r) \\equiv 2 g_0(\\tau, r) g_0(\\beta - \\tau, -r) $$\n",
    "\n",
    "after evaluating the imaginary time bubble we transform $\\chi_0$ back to momentum and frequency space, i.e.\n",
    "\n",
    "\n",
    "$$ \\chi_0(i\\omega_n, r) \\equiv \\mathcal{F}_{\\tau \\rightarrow i\\omega_n} \\big\\{ \\chi_0(\\tau, r) \\big\\}$$\n",
    "\n",
    "$$ \\chi_0(i\\omega_n, k) \\equiv \\mathcal{F}_{r \\rightarrow k} \\big\\{ \\chi_0(i\\omega_n, r) \\big\\}$$\n"
   ]
  },
  {
   "cell_type": "code",
   "execution_count": null,
   "metadata": {
    "collapsed": true
   },
   "outputs": [],
   "source": [
    "%reload_ext cpp2py.magic"
   ]
  },
  {
   "cell_type": "markdown",
   "metadata": {},
   "source": [
    "Code C++ from Olivier"
   ]
  },
  {
   "cell_type": "code",
   "execution_count": null,
   "metadata": {
    "collapsed": true
   },
   "outputs": [],
   "source": [
    "%%cpp2py -C pytriqs\n",
    "#include <triqs/gfs.hpp> \n",
    "using namespace triqs::gfs;\n",
    "\n",
    "// The type of a Green function : (omega,k) -> Complex number\n",
    "using g_tau_k_type = gf_view<cartesian_product<imfreq, brillouin_zone>>;\n",
    "\n",
    "g_tau_k_type bubble(g_tau_k_type g) { \n",
    "\n",
    "    // Fourier Transformation of k, \\omega to obtain g(t,r)\n",
    "    auto gtr = make_gf_from_fourier<0,1>(g);\n",
    "    \n",
    "    // The mesh of gtr is a cartesian product mt x mr. We decompose it.\n",
    "    auto [mt, mr] = gtr.mesh();\n",
    "    \n",
    "    // The inverse temperature from the mesh\n",
    "    double beta = mt.domain().beta;\n",
    "    \n",
    "    // A new mesh for chi, with a bosonic statistics, but same size as mt.\n",
    "    auto mtb = gf_mesh<imtime>{beta, Boson, mt.size()};\n",
    "    \n",
    "    // Build chi (tau, r) with this new mesh.\n",
    "    auto chi0 = gf<cartesian_product<imtime, cyclic_lattice>>{{mtb, mr}};\n",
    "\n",
    "    // we fill chi : chi(tau, r) = g(beta - tau, -r) * g(tau, r)\n",
    "    for (auto const &r : mr)      \n",
    "        for (auto const &t : mtb) \n",
    "            chi0[t, r] = gtr(beta - t, -r) * gtr(t, r); \n",
    "\n",
    "    // Fourier transform back to k, \\omega space and return\n",
    "    return make_gf_from_fourier<0,1>(chi0);\n",
    "}"
   ]
  },
  {
   "cell_type": "markdown",
   "metadata": {},
   "source": [
    "Code C++ from Hugo"
   ]
  },
  {
   "cell_type": "code",
   "execution_count": null,
   "metadata": {
    "collapsed": true
   },
   "outputs": [],
   "source": [
    "%%cpp2py -C pytriqs\n",
    " \n",
    "#include <triqs/gfs.hpp> \n",
    "using namespace triqs::gfs;\n",
    "\n",
    "using mesh = cartesian_product<imtime, cyclic_lattice>;\n",
    "using g_tr_t = gf<mesh, matrix_valued>;\n",
    "using g_tr_cvt = g_tr_t::const_view_type;\n",
    "\n",
    "gf_mesh<imtime> operator*(gf_mesh<imtime> A, gf_mesh<imtime> B) {\n",
    "    auto SA = A.domain().statistic;\n",
    "    auto SB = B.domain().statistic;\n",
    "    return gf_mesh<imtime>{A.domain().beta, SA * SB, A.size()};\n",
    "}\n",
    "\n",
    "int sign(gf_mesh<imtime> mesh) { return sign(mesh.domain().statistic); }\n",
    "\n",
    "    \n",
    "    auto SL = tmeshL.domain().statistic;\n",
    "    auto SR = tmeshR.domain().statistic;\n",
    "    auto tmesh = gf_mesh<imtime>{beta, SL * SR, tmeshL.size()};\n",
    "\n",
    "    \n",
    "\n",
    "g_tr_t bubble(g_tr_cvt gL_tr, g_tr_cvt gR_tr) {\n",
    "\n",
    "    auto [tmeshL, rmeshL] = gL_tr.mesh();\n",
    "    auto [tmeshR, rmeshR] = gR_tr.mesh();\n",
    "    \n",
    "    auto beta = tmeshL.domain().beta;\n",
    "    auto signR = sign(tmeshR);\n",
    "    \n",
    "    g_tr_t chi0{{tmeshL * tmeshR, rmeshL}, {1, 1}};\n",
    "\n",
    "    for(auto const &[t, r] : chi0.mesh())\n",
    "        chi0[t, r] = - gL_tr(t, r) * signR * gR_tr(beta - t, -r);\n",
    "    \n",
    "    return chi0;\n",
    "}"
   ]
  },
  {
   "cell_type": "code",
   "execution_count": null,
   "metadata": {
    "collapsed": true
   },
   "outputs": [],
   "source": [
    "def reverse_tau(g_tr):\n",
    "    g_tr_out = g_tr.copy()\n",
    "    g_tr_out.data[:] = g_tr.data[::-1, ...]\n",
    "    return g_tr_out\n",
    "\n",
    "def reverse_r(g_tr):\n",
    "    data = g_tr.data.copy()\n",
    "    rmesh = g_tr.mesh.components[1]\n",
    "    \n",
    "    shape = data.shape\n",
    "    new_shape = list(shape[:1]) + list(rmesh.linear_dims) + list(shape[2:])    \n",
    "\n",
    "    data = data.reshape(new_shape)[:, ::-1, ::-1, ::-1, ...]\n",
    "    data = np.roll(data, [1, 1, 1], axis=[1, 2, 3])\n",
    "    data = data.reshape(shape)\n",
    "    \n",
    "    g_tr_out = g_tr.copy()\n",
    "    g_tr_out.data[:] = data\n",
    "    return g_tr_out\n",
    "\n",
    "def python_bubble(gL_tr, gR_tr, n_k, n_w, beta):\n",
    "    tmesh = MeshImTime(beta=beta, S='Boson', n_max=len(gL_tr.mesh.components[0]))\n",
    "    chi0_tr = Gf(mesh=MeshProduct(tmesh, rmesh), target_shape=[1, 1])\n",
    "    chi0_tr << 2. * gL_tr[0,0] * reverse_r(reverse_tau(gR_tr[0,0]))\n",
    "    return chi0_tr"
   ]
  },
  {
   "cell_type": "code",
   "execution_count": null,
   "metadata": {
    "collapsed": true
   },
   "outputs": [],
   "source": [
    "def get_chi0(g0_tr, n_w, kmesh, rmesh):\n",
    "\n",
    "    target_shape = [1, 1]\n",
    "    wmesh = MeshImFreq(beta=beta, S='Boson', n_max=n_w)\n",
    "    tmesh = MeshImTime(beta=beta, S='Fermion', n_max=4*len(wmesh))\n",
    "\n",
    "    chi0_tr = Gf(mesh=MeshProduct(tmesh, rmesh), target_shape=target_shape)\n",
    "    chi0_wr = Gf(mesh=MeshProduct(wmesh, rmesh), target_shape=target_shape)\n",
    "    chi0_wk = Gf(mesh=MeshProduct(wmesh, kmesh), target_shape=target_shape)\n",
    "\n",
    "    chi0_tr = 2. * bubble(g0_tr, g0_tr)\n",
    "    \n",
    "    chi0_tr_ref = python_bubble(g0_tr.copy(), g0_tr.copy(), n_k, n_w, beta)\n",
    "    np.testing.assert_array_almost_equal(chi0_tr.data, chi0_tr_ref.data)\n",
    "    \n",
    "    #for r in rmesh: chi0_wr[:, r] = Fourier(fix_tail(chi0_tr, r))\n",
    "    for r in rmesh: chi0_wr[:, r] = Fourier(chi0_tr[: ,r])\n",
    "    for w in wmesh: chi0_wk[w, :] = Fourier(chi0_wr[w, :])\n",
    "\n",
    "    return chi0_tr, chi0_wr, chi0_wk"
   ]
  },
  {
   "cell_type": "markdown",
   "metadata": {},
   "source": [
    "# Static Lindhardt susceptibility $\\chi_0(\\omega=0, k)$\n",
    "\n",
    "The square lattice with only nearest-neighbour hopping $t$ has a property of \"perfect nesting\", meaning that large parts of the fermi surface are wrapped on-to each other by a single momentum transfer $k$. Go back to the fermi-surface polot of $\\epsilon_k$ and determine this peculiar momentum vector.\n",
    "\n",
    "The \"perfect nesting\" greatly enhances the particle-hole susceptibility of the system and the Static Lindhardt susceptibility $\\chi_0(\\omega=0, k)$ has a dominant peak at this momentum."
   ]
  },
  {
   "cell_type": "code",
   "execution_count": null,
   "metadata": {
    "collapsed": true
   },
   "outputs": [],
   "source": [
    "chi0_tr, chi0_wr, chi0_wk = get_chi0(g0_tr, n_w, kmesh, rmesh)"
   ]
  },
  {
   "cell_type": "code",
   "execution_count": null,
   "metadata": {
    "collapsed": true
   },
   "outputs": [],
   "source": [
    "from pytriqs.plot.mpl_interface import oplot, oplotr, oploti, plt\n",
    "\n",
    "chi0_w0k = chi0_wk[Idx(0), :][0, 0]\n",
    "data, k_vec, (kx, ky, kz) = extend_data_on_boundary(chi0_w0k.data, n_k)\n",
    "extent_k = np.array([kx.min(), kx.max(), ky.min(), ky.max()])\n",
    "\n",
    "plt.figure(figsize=(3.25*4, 5*2))\n",
    "plt.title('Static Lindhardt susceptibility $\\chi_0(\\omega=0, k)$')\n",
    "plt.imshow(data[:, :, 0].real, cmap=plt.get_cmap('terrain_r'), origin='lower', \n",
    "           vmin=0, extent=extent_k)\n",
    "plt.colorbar(); plt.tight_layout()\n",
    "plt.savefig('figure_chi0_w0k.pdf')\n",
    "plt.xlabel(r'$k_x/(2\\pi)$')\n",
    "plt.ylabel(r'$k_y/(2\\pi)$')"
   ]
  },
  {
   "cell_type": "code",
   "execution_count": null,
   "metadata": {
    "collapsed": true
   },
   "outputs": [],
   "source": [
    "from k_space_viz import get_rel_k_interpolator\n",
    "\n",
    "interp = get_rel_k_interpolator(\n",
    "    chi0_wk[Idx(0), :][0, 0].data, kmesh, H_0.bz, n_k,\n",
    "    extend_boundary=True, interpolator='linear2D')\n",
    "chi0_plot = interp(k_path_vecs[:, :2])\n",
    "\n",
    "from pytriqs.plot.mpl_interface import plt\n",
    "\n",
    "plt.figure(figsize=(3.25*3, 8))\n",
    "plt.title('Static Lindhardt susceptibility $\\chi_0(\\omega=0, k)$')\n",
    "plt.plot(k_plot, chi0_plot.real)\n",
    "\n",
    "plt.grid(); plt.axes().set_xticks(K_plot)\n",
    "plt.xlim([K_plot.min(), K_plot.max()])\n",
    "plt.axes().set_xticklabels([r'$\\Gamma$',r'$X$',r'$M$',r'$\\Gamma$'])\n",
    "plt.ylabel(r'$\\epsilon_k$'); plt.tight_layout()\n",
    "plt.savefig('figure_chi0_k_bandpath.pdf')"
   ]
  },
  {
   "cell_type": "markdown",
   "metadata": {},
   "source": [
    "# Bethe-Salpeter equation (BSE) and the random phase approximation (RPA)\n",
    "\n",
    "The Lindhardt susceptibility $\\chi_0$ is the exeact susceptibility for the non-interacting case $U=0$, however for finite interactions the susceptibility of the system $\\chi$ is given by the Behte-Salpeter equation\n",
    "\n",
    "$$ \\chi = \\chi_0 + \\chi_0 \\Gamma \\chi $$\n",
    "\n",
    "where $\\Gamma$ is the particle-hole irreducible vertex function, containing all diagrams with insertions of the interaction that can not be separated by cutting a pair of particle-hole single-particle propagators $G G$.\n",
    "\n",
    "The first order contribution to the vertext $\\Gamma$ is the bare interaction $U$ and the approximation\n",
    "\n",
    "$$ \\Gamma \\approx U $$\n",
    "\n",
    "gives the so-called random phase approximation for $\\chi$, i.e.\n",
    "\n",
    "$$ \\chi_{RPA} = \\chi_0 + \\chi_0 U \\chi_{RPA} $$\n",
    "\n",
    "Rewriting this equation gives $\\chi_{RPA}$ as\n",
    "\n",
    "$$ \\chi_{RPA} = \\frac{\\chi_0}{1 - U \\chi_0} $$\n",
    "\n",
    "we note that the denominator of this equation can in general go to zero, whereby the susceptibility $\\chi_{RPA}$ diverges. Whence already the RPA approximation can be used to compute instabilities of the system towards, e.g., anti-ferromagnetic symmetry breaking.\n",
    "\n",
    "As an example we compute $\\chi_{RPA}$ for the square lattice and the enhancement of the $k = (\\pi, \\pi)$ peak as a function of $U$."
   ]
  },
  {
   "cell_type": "code",
   "execution_count": null,
   "metadata": {
    "collapsed": true
   },
   "outputs": [],
   "source": [
    "def chi_wk_from_U_and_chi0_wk(chi0_wk, U):\n",
    "    U = float(U)\n",
    "    chi_wk = chi0_wk.copy()\n",
    "    kmesh = chi0_wk.mesh.components[1]\n",
    "    for k in kmesh:\n",
    "        chi_wk[:, k] << inverse(1. - U * chi0_wk[:, k]) * chi0_wk[:, k]\n",
    "\n",
    "    return chi_wk"
   ]
  },
  {
   "cell_type": "code",
   "execution_count": null,
   "metadata": {
    "collapsed": true
   },
   "outputs": [],
   "source": [
    "from k_space_viz import get_rel_k_interpolator\n",
    "\n",
    "interp = get_rel_k_interpolator(\n",
    "    chi0_wk[Idx(0), :][0, 0].data, kmesh, H_0.bz, n_k,\n",
    "    extend_boundary=True, interpolator='linear2D')\n",
    "chi0_plot = interp(k_path_vecs[:, :2])\n",
    "\n",
    "from pytriqs.plot.mpl_interface import plt\n",
    "\n",
    "plt.figure(figsize=(3.25*3, 8))\n",
    "plt.title('Static Lindhardt susceptibility $\\chi_0(\\omega=0, k)$')\n",
    "\n",
    "plt.plot(k_plot, chi0_plot.real, label=r'$\\chi_0$')\n",
    "\n",
    "U_vec = np.arange(0.2, 1.2, 0.2)\n",
    "\n",
    "for U in U_vec:\n",
    "    print 'U =', U\n",
    "    chi_wk = chi_wk_from_U_and_chi0_wk(chi0_wk, U)\n",
    "    \n",
    "    interp = get_rel_k_interpolator(\n",
    "        chi_wk[Idx(0), :][0, 0].data, kmesh, H_0.bz, n_k,\n",
    "        extend_boundary=True, interpolator='linear2D')\n",
    "    chi_plot = interp(k_path_vecs[:, :2])\n",
    "\n",
    "    plt.plot(k_plot, chi_plot.real, label=r'$\\chi_{RPA}$, $U=%2.2f$' % U)\n",
    "\n",
    "plt.grid(); plt.axes().set_xticks(K_plot)\n",
    "plt.xlim([K_plot.min(), K_plot.max()])\n",
    "plt.axes().set_xticklabels([r'$\\Gamma$',r'$X$',r'$M$',r'$\\Gamma$'])\n",
    "plt.ylabel(r'$\\epsilon_k$'); plt.tight_layout()\n",
    "plt.legend(loc='best')\n",
    "plt.savefig('figure_chi0_k_bandpath.pdf')"
   ]
  },
  {
   "cell_type": "markdown",
   "metadata": {},
   "source": [
    "At some critical $U_c$ the susceptibility diverges $\\chi \\rightarrow \\infty$ within the random phase approximation. To determine $U_c$ we can study the root of the inverse susceptibility $\\chi_{RPA}^{-1}$.\n",
    "\n",
    "For the square lattice it is sufficient to study the response at $k_{AF}= (\\pi, \\pi)$ since it is the point where the response diverges. Analytically this occurs when the denominator is zero $1 - U_c \\chi_0(0, k_{AF}) = 0$, i.e.\n",
    "\n",
    "$$ U_c^{(RPA)} = \\frac{1}{\\chi_0(0, k_{AF})} $$\n",
    "\n",
    "numerically this looks like"
   ]
  },
  {
   "cell_type": "code",
   "execution_count": null,
   "metadata": {
    "collapsed": true
   },
   "outputs": [],
   "source": [
    "# find kidx where k[kidx] = (pi, pi, 0)\n",
    "k_vec = np.array([k.value for k in kmesh])\n",
    "diff = np.linalg.norm(k_vec - np.array([np.pi, np.pi, 0]), axis=1)\n",
    "kidx_pipi = np.squeeze(np.argwhere(diff < 1.e-8))\n",
    "k_pipi = np.array([k for k in kmesh])[kidx_pipi]\n",
    "print 'kidx_pipi =', kidx_pipi\n",
    "print 'k_pipi =', k_pipi"
   ]
  },
  {
   "cell_type": "code",
   "execution_count": null,
   "metadata": {
    "collapsed": true
   },
   "outputs": [],
   "source": [
    "chi0_w0kpipi = chi0_wk[Idx(0), k_pipi][0, 0].real\n",
    "\n",
    "U_c = 1. / chi0_w0kpipi\n",
    "\n",
    "U_vec = np.arange(0.2, 2.2, 0.2)\n",
    "\n",
    "chi_vec = np.zeros_like(U_vec)\n",
    "for idx, U in enumerate(U_vec):\n",
    "    chi_vec[idx] = chi0_w0kpipi / (1 - U*chi0_w0kpipi)"
   ]
  },
  {
   "cell_type": "code",
   "execution_count": null,
   "metadata": {
    "collapsed": true
   },
   "outputs": [],
   "source": [
    "plt.figure(figsize=(3.25*3, 8))\n",
    "plt.plot(U_vec, 1./chi_vec, '.-', label=r'$\\chi_{RPA}^{-1}$')\n",
    "plt.plot(U_vec, 0*U_vec, 'k', lw=0.5)\n",
    "plt.plot(U_c, 0, 'rs', label=r'$U_c \\approx %2.2f$' % U_c, alpha=0.5)\n",
    "plt.legend(loc='best'); plt.xlim([U_vec.min(), U_vec.max()])\n",
    "plt.ylabel(r'$\\chi_{RPA}^{-1}$'); plt.xlabel(r'$U$')"
   ]
  },
  {
   "cell_type": "markdown",
   "metadata": {},
   "source": [
    "# Two-particle self consistency (TPSC)\n",
    "\n",
    "$$ \\chi_{sp}(i\\omega_n, k) \\equiv \\frac{\\chi_0(i\\omega_n, k)}{1 - \\frac{U_{sp}}{2} \\chi_0(i\\omega_n, k)} $$\n",
    "\n",
    "$$ \\chi_{ch}(i\\omega_n, k) \\equiv \\frac{\\chi_0(i\\omega_n, k)}{1 + \\frac{U_{ch}}{2} \\chi_0(i\\omega_n, k)} $$\n",
    "\n",
    "$$ \\mathrm{Tr} [ \\chi ] \\equiv \\frac{1}{\\beta N_k} \\sum_{n, k} \\chi(i\\omega_n, k) $$"
   ]
  },
  {
   "cell_type": "code",
   "execution_count": null,
   "metadata": {
    "collapsed": true
   },
   "outputs": [],
   "source": [
    "def chi_wk_trace(chi_wk):\n",
    "    wmesh, kmesh = chi_wk.mesh.components\n",
    "    tr_chi_wk = chi_wk.data.sum() / len(kmesh) / wmesh.beta # tail correction FIXME!!!\n",
    "    assert(np.abs(tr_chi_wk.imag) < 1e-10)\n",
    "    return tr_chi_wk.real\n",
    "\n",
    "def Usp_root_problem(Usp, chi0, n, U):\n",
    "\n",
    "    tr_chi_sp = chi_wk_trace(chi_wk_from_U_and_chi0_wk(chi0, U=0.5*Usp))\n",
    "    diff = tr_chi_sp + 0.5 * Usp/U * n**2 - n\n",
    "\n",
    "    return diff\n",
    "\n",
    "def Uch_root_problem(Uch, chi0, n, U, docc):\n",
    "\n",
    "    tr_chi_ch = chi_wk_trace(chi_wk_from_U_and_chi0_wk(chi0, U=-0.5*Uch))\n",
    "    diff = tr_chi_ch - 2 * docc - n + n**2\n",
    "\n",
    "    return diff\n",
    "\n",
    "def solve_Usp_and_Uch(chi0, U, n, Usp0=0.1, Uch0=0.1):\n",
    "\n",
    "    from scipy.optimize import fsolve\n",
    "    \n",
    "    Usp = fsolve(Usp_root_problem, Usp0, args=(chi0, n, U), xtol=1e-2)[0]\n",
    "    docc = 0.25 * Usp / U * n**2        \n",
    "    Uch = fsolve(Uch_root_problem, Uch0, args=(chi0, n, U, docc), xtol=1e-2)[0]\n",
    "\n",
    "    return Usp, Uch, docc"
   ]
  },
  {
   "cell_type": "code",
   "execution_count": null,
   "metadata": {
    "collapsed": true
   },
   "outputs": [],
   "source": [
    "n = 1.0\n",
    "Usp, Uch = 0.47, 0.37 # Initial guess\n",
    "\n",
    "U_vec = np.concatenate((np.arange(0.3, 1., 0.2), np.arange(1., 6., 1.)))    \n",
    "Usp_vec, Uch_vec, docc_vec = [np.zeros_like(U_vec) for x in xrange(3)]\n",
    "\n",
    "print ''.join('| %-11s' % s for s in ['n', 'U', 'Usp', 'Uch', 'docc']), '|'\n",
    "print '-'*67\n",
    "\n",
    "for idx, U in enumerate(U_vec):\n",
    "    Usp, Uch, docc = solve_Usp_and_Uch(chi0_wk, U, n, Usp0=Usp, Uch0=Uch)\n",
    "    Usp_vec[idx], Uch_vec[idx], docc_vec[idx] = Usp, Uch, docc\n",
    "    print ''.join('| %4.4E ' % x for x in [n, U, Usp, Uch, docc]), '|'"
   ]
  },
  {
   "cell_type": "code",
   "execution_count": null,
   "metadata": {
    "collapsed": true
   },
   "outputs": [],
   "source": [
    "plt.figure(figsize=(3.25*2, 5))\n",
    "\n",
    "plt.title(r'$\\beta = %2.2f$' % beta)\n",
    "plt.plot(U_vec, Usp_vec, 'o-', label=r'$U_{sp}$', alpha=0.5)\n",
    "plt.plot(U_vec, Uch_vec, 'o-', label=r'$U_{ch}$', alpha=0.5)\n",
    "\n",
    "plt.ylim([0, 20]); plt.xlim([0, 5])\n",
    "plt.legend(loc='best'); plt.xlabel(r'$U$')\n",
    "plt.tight_layout()\n",
    "plt.savefig('figure_Usp_and_Uch_vs_U.pdf')"
   ]
  },
  {
   "cell_type": "markdown",
   "metadata": {},
   "source": [
    "# TPSC and the Mermin-Wagner theorem\n",
    "\n",
    "Temperature sweep for $U=4$\n",
    "\n",
    "Spin structure factor \n",
    "\n",
    "$$S(k) \\equiv \\sum_n \\chi_{sp}(i\\omega_n, k)$$"
   ]
  },
  {
   "cell_type": "code",
   "execution_count": null,
   "metadata": {
    "collapsed": true
   },
   "outputs": [],
   "source": [
    "U = 4.\n",
    "\n",
    "T_rpa_vec = np.concatenate((np.arange(10., 3., -1.), np.arange(3., 0.75, -0.2)))\n",
    "S_rpa_vec = np.zeros_like(T_rpa_vec)\n",
    "\n",
    "print ''.join('| %-11s' % s for s in ['T', 'beta', 'S_rpa']), '|'\n",
    "print '-'*41\n",
    "\n",
    "for idx, T in enumerate(T_rpa_vec):\n",
    "\n",
    "    beta = 1. / T\n",
    "    g0_wk, g0_wr, g0_tr = get_g0(e_k, beta, mu, n_w, kmesh, rmesh)\n",
    "    chi0_tr, chi0_wr, chi0_wk = get_chi0(g0_tr, n_w, kmesh, rmesh)    \n",
    "\n",
    "    chi_rpa_wk = chi_wk_from_U_and_chi0_wk(chi0_wk, 0.5*U)\n",
    "    \n",
    "    S_rpa = chi_rpa_wk[:, k_pipi].data.sum().real # FIXME: Replace with .density() call\n",
    "    S_rpa_vec[idx] = S_rpa\n",
    "    \n",
    "    print ''.join('| %4.4E ' % x for x in [T, beta, S_rpa]), '|'"
   ]
  },
  {
   "cell_type": "code",
   "execution_count": null,
   "metadata": {
    "collapsed": true
   },
   "outputs": [],
   "source": [
    "n = 1.\n",
    "U = 4.\n",
    "\n",
    "Usp, Uch = 1., 1. # initial guess\n",
    "\n",
    "T_tpsc_vec = np.array([10., 9., 8., 7., 6., 5., 4., 3., \n",
    "                       2.5, 2.0, 1.5, 1.2, 1.0, \n",
    "                       0.8, 0.6, 0.4, 0.35, 0.3, 0.25])\n",
    "\n",
    "S_tpsc_vec = np.zeros_like(T_tpsc_vec)\n",
    "U_sp_vec = np.zeros_like(T_tpsc_vec)\n",
    "\n",
    "print ''.join('| %-11s' % s for s in ['T', 'beta', 'Usp', 'Uch', 'docc', 'S_tpsc']), '|'\n",
    "print '-'*80\n",
    "\n",
    "for idx, T in enumerate(T_tpsc_vec):\n",
    "\n",
    "    beta = 1. / T    \n",
    "    g0_wk, g0_wr, g0_tr = get_g0(e_k, beta, mu, n_w, kmesh, rmesh)\n",
    "    chi0_tr, chi0_wr, chi0_wk = get_chi0(g0_tr, n_w, kmesh, rmesh)    \n",
    "    \n",
    "    Usp, Uch, docc = solve_Usp_and_Uch(chi0_wk, U, n, Usp0=Usp, Uch0=Uch)\n",
    "    \n",
    "    chi_sp_wk = chi_wk_from_U_and_chi0_wk(chi0_wk, 0.5*Usp)\n",
    "    S_tpsc = chi_sp_wk[:, k_pipi].data.sum().real\n",
    "\n",
    "    S_tpsc_vec[idx], U_sp_vec[idx] = S_tpsc, Usp\n",
    "\n",
    "    print ''.join('| %4.4E ' % x for x in [T, beta, Usp, Uch, docc, S_tpsc]), '|'\n"
   ]
  },
  {
   "cell_type": "code",
   "execution_count": null,
   "metadata": {
    "collapsed": true
   },
   "outputs": [],
   "source": [
    "plt.figure(figsize=(3.25*2, 5*4))\n",
    "subp = [4, 1, 1]\n",
    "\n",
    "plt.subplot(*subp); subp[-1] += 1\n",
    "plt.title(r'$U = %2.2f$' % U)\n",
    "plt.plot(T_rpa_vec, S_rpa_vec, 'o-', label=r'$S_{RPA}$', alpha=0.5)\n",
    "plt.plot(T_tpsc_vec, S_tpsc_vec, 'o-', label=r'$S_{TPSC}$', alpha=0.5)\n",
    "plt.legend(loc='best')\n",
    "plt.xlabel(r'$T$')\n",
    "\n",
    "plt.subplot(*subp); subp[-1] += 1\n",
    "plt.plot(T_rpa_vec, 1./S_rpa_vec, 'o-', alpha=0.5, label=r'$S_{RPA}^{-1}$')\n",
    "plt.plot(T_tpsc_vec, 1./S_tpsc_vec, 'o-', alpha=0.5, label=r'$S_{TPSC}^{-1}$')\n",
    "plt.legend(loc='best')\n",
    "plt.xlabel(r'$T$'); plt.grid()\n",
    "\n",
    "plt.subplot(*subp); subp[-1] += 1\n",
    "plt.plot(T_rpa_vec, 1./S_rpa_vec, 'o-', alpha=0.5, label=r'$S_{RPA}^{-1}$')\n",
    "plt.plot(T_tpsc_vec, 1./S_tpsc_vec, 'o-', alpha=0.5, label=r'$S_{TPSC}^{-1}$')\n",
    "plt.legend(loc='best'); plt.xlim([0, 2]); plt.ylim([-0.1, 2.5])\n",
    "plt.xlabel(r'$T$'); plt.grid()\n",
    "\n",
    "plt.subplot(*subp); subp[-1] += 1\n",
    "plt.plot(T_rpa_vec, U + 0*T_rpa_vec, 'o-', alpha=0.5, label=r'$U$')\n",
    "plt.plot(T_tpsc_vec, U_sp_vec, 'o-', alpha=0.5, label=r'$U_{sp}$')\n",
    "plt.legend(loc='best')\n",
    "plt.xlabel(r'$T$')\n",
    "\n",
    "plt.tight_layout()\n",
    "plt.savefig('figure_S_TPSC_RPA_vs_T.pdf')"
   ]
  },
  {
   "cell_type": "markdown",
   "metadata": {},
   "source": [
    "# RPA phase boundary\n",
    "\n",
    "While the TPSC fulfills the Mermin-Wagner theorem RPA does not. Instead it predicts an anti-ferro magnetic transition at finite temperature for finite interaction $U$.\n"
   ]
  },
  {
   "cell_type": "code",
   "execution_count": null,
   "metadata": {
    "collapsed": true
   },
   "outputs": [],
   "source": [
    "Tc_rpa = np.arange(0.01, 1.0, 0.05)\n",
    "Uc_rpa = np.zeros_like(Tc_rpa)\n",
    "\n",
    "for idx, T in enumerate(Tc_rpa):\n",
    "\n",
    "    beta = 1. / T    \n",
    "    g0_wk, g0_wr, g0_tr = get_g0(e_k, beta, mu, n_w, kmesh, rmesh)\n",
    "    chi0_tr, chi0_wr, chi0_wk = get_chi0(g0_tr, n_w, kmesh, rmesh)    \n",
    "        \n",
    "    chi0_w0kpipi = chi0_wk[Idx(0), k_pipi][0, 0].real\n",
    "    Uc = 2.0 / chi0_w0kpipi\n",
    "    Uc_rpa[idx] = Uc\n",
    "    \n",
    "    print 'T, beta, Uc =', T, beta, Uc\n",
    "        "
   ]
  },
  {
   "cell_type": "code",
   "execution_count": null,
   "metadata": {
    "collapsed": true
   },
   "outputs": [],
   "source": [
    "plt.plot(Uc_rpa, Tc_rpa, '.-')"
   ]
  },
  {
   "cell_type": "markdown",
   "metadata": {},
   "source": [
    "# Extra excercise\n",
    "\n",
    "Nearest neighbour $t$, next nearest neighbour $t'=0.175$, and next next nearest neighbour hopping $t''=0.05$, interaction $U = 5.75t$, and inverse temperature $\\beta = 20$."
   ]
  },
  {
   "cell_type": "code",
   "execution_count": null,
   "metadata": {
    "collapsed": true
   },
   "outputs": [],
   "source": [
    "beta = 20.\n",
    "mu = 0.0\n",
    "\n",
    "t = 1.0\n",
    "tp = 0.175 * t\n",
    "tpp = 0.05 * t\n",
    "\n",
    "U = 5.75 * t\n",
    "\n",
    "n_k = (8, 8, 1) \n",
    "n_w = 1024 * 4"
   ]
  },
  {
   "cell_type": "code",
   "execution_count": null,
   "metadata": {
    "collapsed": true
   },
   "outputs": [],
   "source": [
    "import numpy as np\n",
    "from pytriqs.lattice.tight_binding import TBLattice\n",
    "\n",
    "I = np.eye(2)\n",
    "\n",
    "H_0 = TBLattice(\n",
    "    units = [(1, 0, 0), (0, 1, 0)],\n",
    "    hopping = {\n",
    "        (+1, 0): -t * I,  \n",
    "        (-1, 0): -t * I, \n",
    "        ( 0,+1): -t * I, \n",
    "        ( 0,-1): -t * I,\n",
    "        # next nearest neighbour\n",
    "        (+1, +1): -tp * I,  \n",
    "        (+1, -1): -tp * I,  \n",
    "        (-1, +1): -tp * I,  \n",
    "        (-1, -1): -tp * I,  \n",
    "        # next next nearest neighbour\n",
    "        (+2, 0): -tpp * I,  \n",
    "        (-2, 0): -tpp * I, \n",
    "        ( 0,+2): -tpp * I, \n",
    "        ( 0,-2): -tpp * I,\n",
    "        },\n",
    "    orbital_positions = [(0,0,0)]*2,\n",
    "    orbital_names = ['up', 'do'],\n",
    "    )"
   ]
  },
  {
   "cell_type": "code",
   "execution_count": null,
   "metadata": {
    "collapsed": true
   },
   "outputs": [],
   "source": [
    "kmesh = H_0.get_kmesh(n_k)\n",
    "print 'kmesh =\\n', kmesh\n",
    "rmesh = H_0.get_rmesh(n_k)\n",
    "print 'rmesh =\\n', rmesh\n",
    "\n",
    "e_k = H_0.on_gf_mesh_brillouin_zone(n_k)\n",
    "print 'e_k =\\n', e_k"
   ]
  },
  {
   "cell_type": "code",
   "execution_count": null,
   "metadata": {
    "collapsed": true
   },
   "outputs": [],
   "source": [
    "# Fixme move 2d plot to library\n",
    "\n",
    "from k_space_viz import extend_data_on_boundary\n",
    "\n",
    "data_k, k_vec, (kx, ky, kz) = extend_data_on_boundary(e_k[0, 0].data, n_k)\n",
    "data_k = data_k[:, :, 0].real\n",
    "extent_k = np.array([kx.min(), kx.max(), ky.min(), ky.max()])\n",
    "\n",
    "from pytriqs.plot.mpl_interface import plt\n",
    "\n",
    "plt.figure(figsize=(3.25*3, 8))\n",
    "plt.title(r'Dispersion $\\epsilon_k$ and fermi surface contour $\\epsilon_k = 0$')\n",
    "plt.contour(kx, ky, data_k, levels=[0.])\n",
    "plt.imshow(data_k, cmap=plt.get_cmap('RdBu_r'), origin='lower', \n",
    "           vmin=data_k.min(), vmax=data_k.max(),\n",
    "           extent=extent_k)\n",
    "plt.xlabel(r'$k_x/(2\\pi)$')\n",
    "plt.ylabel(r'$k_y/(2\\pi)$')\n",
    "plt.colorbar(); plt.tight_layout()\n",
    "plt.savefig('figure_e_k.pdf')\n",
    "plt.show()"
   ]
  },
  {
   "cell_type": "code",
   "execution_count": null,
   "metadata": {
    "collapsed": true
   },
   "outputs": [],
   "source": [
    "from k_space_viz import k_space_path\n",
    "\n",
    "G = np.array([0.0, 0.0, 0.0])\n",
    "X = np.array([0.5, 0.5, 0.0])\n",
    "M = np.array([0.5, 0.0, 0.0])\n",
    "\n",
    "paths = [(G, X), (X, M), (M, G)]\n",
    "\n",
    "k_path_vecs, k_plot, K_plot = k_space_path(paths, num=100)\n",
    "\n",
    "from k_space_viz import get_rel_k_interpolator\n",
    "\n",
    "interp = get_rel_k_interpolator(\n",
    "    e_k[0, 0].data, kmesh, H_0.bz, n_k,\n",
    "    extend_boundary=True, interpolator='linear2D')\n",
    "e_plot = interp(k_path_vecs[:, :2])\n",
    "\n",
    "from pytriqs.plot.mpl_interface import plt\n",
    "\n",
    "plt.figure(figsize=(3.25*3, 8))\n",
    "plt.title(r'Dispersion $\\epsilon_k$ along the high-symmetry path $\\Gamma$-$X$-$M$-$\\Gamma$')\n",
    "plt.plot(k_plot, e_plot.real)\n",
    "\n",
    "plt.grid(); plt.axes().set_xticks(K_plot)\n",
    "plt.xlim([K_plot.min(), K_plot.max()])\n",
    "plt.axes().set_xticklabels([r'$\\Gamma$',r'$X$',r'$M$',r'$\\Gamma$'])\n",
    "plt.ylabel(r'$\\epsilon_k$'); plt.tight_layout()\n",
    "plt.savefig('figure_e_k_bandpath.pdf')\n",
    "plt.show()"
   ]
  },
  {
   "cell_type": "markdown",
   "metadata": {},
   "source": [
    "## TPSC calculation\n"
   ]
  },
  {
   "cell_type": "code",
   "execution_count": null,
   "metadata": {
    "collapsed": true
   },
   "outputs": [],
   "source": [
    "print 'g0_wk'\n",
    "g0_wk, g0_wr, g0_tr = get_g0(e_k, beta, mu, n_w, kmesh, rmesh)\n",
    "n = -g0_tr[Idx(0), Idx(0, 0, 0)].sum().real\n",
    "print 'n =', n"
   ]
  },
  {
   "cell_type": "code",
   "execution_count": null,
   "metadata": {
    "collapsed": true
   },
   "outputs": [],
   "source": [
    "print 'chi0_wk'\n",
    "chi0_tr, chi0_wr, chi0_wk = get_chi0(g0_tr, n_w, kmesh, rmesh)\n",
    "\n",
    "print 'tpsc self cons'\n",
    "Usp, Uch, docc = solve_Usp_and_Uch(chi0_wk, U, n, Usp0=Usp, Uch0=Uch)\n",
    "print 'Usp, Uch, docc =', Usp, Uch, docc"
   ]
  },
  {
   "cell_type": "code",
   "execution_count": null,
   "metadata": {
    "collapsed": true
   },
   "outputs": [],
   "source": [
    "print 'chi_sp_wk, chi_ch_wk'\n",
    "chi_sp_wk = chi_wk_from_U_and_chi0_wk(chi0_wk, +0.5*Usp)\n",
    "chi_ch_wk = chi_wk_from_U_and_chi0_wk(chi0_wk, -0.5*Uch)"
   ]
  },
  {
   "cell_type": "code",
   "execution_count": null,
   "metadata": {
    "collapsed": true
   },
   "outputs": [],
   "source": [
    "# todo: remove when we have the new tail\n",
    "\n",
    "def fix_tr_tail(g_tr, r, gf_flag=True):\n",
    "    g_t = g_tr[:, r]\n",
    "    g_t.singularity = TailGf(g_t.target_shape)\n",
    "    if gf_flag and np.linalg.norm(r.value) < 1e-9: g_t.singularity[1] = I\n",
    "    return g_t"
   ]
  },
  {
   "cell_type": "code",
   "execution_count": null,
   "metadata": {
    "collapsed": true
   },
   "outputs": [],
   "source": [
    "target_shape = [1, 1]\n",
    "wmesh = chi0_wk.mesh.components[0]\n",
    "tmesh = chi0_tr.mesh.components[0]\n",
    "\n",
    "chi_sp_wr = Gf(mesh=MeshProduct(wmesh, rmesh), target_shape=target_shape)\n",
    "chi_sp_tr = Gf(mesh=MeshProduct(tmesh, rmesh), target_shape=target_shape)\n",
    "\n",
    "chi_ch_wr = Gf(mesh=MeshProduct(wmesh, rmesh), target_shape=target_shape)\n",
    "chi_ch_tr = Gf(mesh=MeshProduct(tmesh, rmesh), target_shape=target_shape)\n",
    "\n",
    "print 'k -> r'\n",
    "for w in wmesh: \n",
    "    chi_sp_wr[w, :] = InverseFourier(chi_sp_wk[w, :])\n",
    "    chi_ch_wr[w, :] = InverseFourier(chi_ch_wk[w, :])\n",
    "\n",
    "print 'w -> t'\n",
    "for r in rmesh: \n",
    "    chi_sp_tr[:, r] = InverseFourier(fix_tr_tail(chi_sp_wr, r, gf_flag=False)) # Q: SHOULD WE FIX TAIL HERE??!!\n",
    "    chi_ch_tr[:, r] = InverseFourier(fix_tr_tail(chi_ch_wr, r, gf_flag=False))"
   ]
  },
  {
   "cell_type": "code",
   "execution_count": null,
   "metadata": {
    "collapsed": true
   },
   "outputs": [],
   "source": [
    "plt.figure()\n",
    "oplotr(chi_sp_tr[:, Idx(0, 0, 0)])\n",
    "plt.figure()\n",
    "oplotr(chi_sp_tr[:, Idx(1, 0, 0)])"
   ]
  },
  {
   "cell_type": "code",
   "execution_count": null,
   "metadata": {
    "collapsed": true
   },
   "outputs": [],
   "source": [
    "plt.figure()\n",
    "oplotr(chi_ch_tr[:, Idx(0, 0, 0)])\n",
    "plt.figure()\n",
    "oplotr(chi_ch_tr[:, Idx(1, 0, 0)])"
   ]
  },
  {
   "cell_type": "code",
   "execution_count": null,
   "metadata": {
    "collapsed": true
   },
   "outputs": [],
   "source": [
    "# compute self energy\n",
    "\n",
    "g_chi_sp_tr = bubble(g0_tr[0, 0], chi_sp_tr)\n",
    "g_chi_ch_tr = bubble(g0_tr[0, 0], chi_ch_tr)\n",
    "\n",
    "sigma_tr = U/8. * ( 3.*Usp*g_chi_sp_tr + Uch*g_chi_ch_tr )\n",
    "\n",
    "print sigma_tr"
   ]
  },
  {
   "cell_type": "code",
   "execution_count": null,
   "metadata": {
    "collapsed": true
   },
   "outputs": [],
   "source": [
    "plt.figure()\n",
    "oplotr(sigma_tr[:, Idx(0, 0, 0)])\n",
    "plt.figure()\n",
    "oplotr(sigma_tr[:, Idx(0, 0, 0)])\n",
    "plt.xlim([19.5, 20.1])\n",
    "plt.figure()\n",
    "oplotr(sigma_tr[:, Idx(1, 0, 0)])"
   ]
  },
  {
   "cell_type": "code",
   "execution_count": null,
   "metadata": {
    "collapsed": true
   },
   "outputs": [],
   "source": [
    "target_shape = [1, 1]\n",
    "\n",
    "sigma_wr = Gf(mesh=MeshProduct(wmesh, rmesh), target_shape=target_shape)\n",
    "sigma_wk = Gf(mesh=MeshProduct(wmesh, kmesh), target_shape=target_shape)\n",
    "\n",
    "for r in rmesh: sigma_wr[:, r] = Fourier(fix_tr_tail(sigma_tr, r, gf_flag=False))\n",
    "for w in wmesh: sigma_wk[w, :] = Fourier(sigma_wr[w, :])"
   ]
  },
  {
   "cell_type": "code",
   "execution_count": null,
   "metadata": {
    "collapsed": true
   },
   "outputs": [],
   "source": [
    "# add hartree term\n",
    "#for k in kmesh: sigma_wk[:, k] += U * 0.5 * n * I"
   ]
  },
  {
   "cell_type": "code",
   "execution_count": null,
   "metadata": {
    "collapsed": true
   },
   "outputs": [],
   "source": [
    "# Analytic continuation of Sigma_wk to w = 0 + i*epsilon\n",
    "\n",
    "from pytriqs.gf import MeshReFreq\n",
    "\n",
    "rwmesh = MeshReFreq(omega_min=-1., omega_max=1., n_max=10)\n",
    "sigma_rwk = Gf(mesh=MeshProduct(rwmesh, kmesh), target_shape=[1, 1])\n",
    "\n",
    "for k in kmesh:\n",
    "    sigma_rw = sigma_rwk[:, k]\n",
    "    sigma_rw.set_from_pade(sigma_wk[:, k], n_points=20)"
   ]
  },
  {
   "cell_type": "code",
   "execution_count": null,
   "metadata": {
    "collapsed": true
   },
   "outputs": [],
   "source": [
    "oplot(sigma_wk[:, Idx(0, 0, 0)])"
   ]
  },
  {
   "cell_type": "code",
   "execution_count": null,
   "metadata": {
    "collapsed": true,
    "scrolled": true
   },
   "outputs": [],
   "source": [
    "oplot(sigma_rwk[:, Idx(0, 0, 0)])"
   ]
  },
  {
   "cell_type": "code",
   "execution_count": null,
   "metadata": {
    "collapsed": true
   },
   "outputs": [],
   "source": [
    "# Plot G(w=0, k)\n",
    "g0_rwk = Gf(mesh=MeshProduct(rwmesh, kmesh), target_shape=[1, 1])\n",
    "g_rwk = Gf(mesh=MeshProduct(rwmesh, kmesh), target_shape=[1, 1])\n",
    "\n",
    "for k in kmesh:\n",
    "    eps = 5.e-1j\n",
    "    g_rwk[:, k] << inverse(iOmega_n + eps - e_k[k][0, 0] - sigma_rwk[:, k])\n",
    "    g0_rwk[:, k] << inverse(iOmega_n + eps - e_k[k][0, 0])    "
   ]
  },
  {
   "cell_type": "code",
   "execution_count": null,
   "metadata": {
    "collapsed": true
   },
   "outputs": [],
   "source": [
    "oplot(g0_rwk[:, Idx(0, 0, 0)])"
   ]
  },
  {
   "cell_type": "code",
   "execution_count": null,
   "metadata": {
    "collapsed": true
   },
   "outputs": [],
   "source": [
    "oplot(g_rwk[:, Idx(0, 0, 0)])"
   ]
  },
  {
   "cell_type": "code",
   "execution_count": null,
   "metadata": {
    "collapsed": true
   },
   "outputs": [],
   "source": [
    "g_k = g_rwk[Idx(5), :]\n",
    "g0_k = g0_rwk[Idx(5), :]"
   ]
  },
  {
   "cell_type": "code",
   "execution_count": null,
   "metadata": {
    "collapsed": true
   },
   "outputs": [],
   "source": [
    "# Fixme move 2d plot to library\n",
    "\n",
    "from k_space_viz import extend_data_on_boundary\n",
    "\n",
    "data_k, k_vec, (kx, ky, kz) = extend_data_on_boundary(g_k.data, n_k)\n",
    "data_k = - data_k[:, :, 0].imag / np.pi\n",
    "extent_k = np.array([kx.min(), kx.max(), ky.min(), ky.max()])\n",
    "\n",
    "from pytriqs.plot.mpl_interface import plt\n",
    "\n",
    "plt.figure(figsize=(3.25*3, 8))\n",
    "plt.imshow(data_k, cmap=plt.get_cmap('RdBu_r'), origin='lower', \n",
    "           vmin=data_k.min(), vmax=data_k.max(),\n",
    "           extent=extent_k)\n",
    "plt.xlabel(r'$k_x/(2\\pi)$')\n",
    "plt.ylabel(r'$k_y/(2\\pi)$')\n",
    "plt.colorbar(); plt.tight_layout()"
   ]
  },
  {
   "cell_type": "code",
   "execution_count": null,
   "metadata": {
    "collapsed": true
   },
   "outputs": [],
   "source": [
    "# Fixme move 2d plot to library\n",
    "\n",
    "from k_space_viz import extend_data_on_boundary\n",
    "\n",
    "data_k, k_vec, (kx, ky, kz) = extend_data_on_boundary(g0_k.data, n_k)\n",
    "data_k = - data_k[:, :, 0].imag / np.pi\n",
    "extent_k = np.array([kx.min(), kx.max(), ky.min(), ky.max()])\n",
    "\n",
    "from pytriqs.plot.mpl_interface import plt\n",
    "\n",
    "plt.figure(figsize=(3.25*3, 8))\n",
    "plt.imshow(data_k, cmap=plt.get_cmap('RdBu_r'), origin='lower', \n",
    "           vmin=data_k.min(), vmax=data_k.max(),\n",
    "           extent=extent_k)\n",
    "plt.xlabel(r'$k_x/(2\\pi)$')\n",
    "plt.ylabel(r'$k_y/(2\\pi)$')\n",
    "plt.colorbar(); plt.tight_layout()"
   ]
  },
  {
   "cell_type": "code",
   "execution_count": null,
   "metadata": {
    "collapsed": true
   },
   "outputs": [],
   "source": []
  },
  {
   "cell_type": "code",
   "execution_count": null,
   "metadata": {
    "collapsed": true
   },
   "outputs": [],
   "source": []
  }
 ],
 "metadata": {
  "kernelspec": {
   "display_name": "Python 2",
   "language": "python",
   "name": "python2"
  },
  "language_info": {
   "codemirror_mode": {
    "name": "ipython",
    "version": 2
   },
   "file_extension": ".py",
   "mimetype": "text/x-python",
   "name": "python",
   "nbconvert_exporter": "python",
   "pygments_lexer": "ipython2",
   "version": "2.7.6"
  }
 },
 "nbformat": 4,
 "nbformat_minor": 2
}
