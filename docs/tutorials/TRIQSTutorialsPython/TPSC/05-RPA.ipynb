{
 "cells": [
  {
   "cell_type": "markdown",
   "metadata": {},
   "source": [
    "# The random phase approximation (RPA)\n",
    "\n",
    "\n",
    "The Lindhard susceptibility $\\chi_0$ is the exact susceptibility for the non-interacting case $U=0$, however for finite interactions the susceptibility of the system $\\chi$ is given by the Bethe-Salpeter equation\n",
    "\n",
    "$$ \\chi = \\chi_0 + \\chi_0 \\Gamma \\chi $$\n",
    "\n",
    "where $\\Gamma$ is the particle-hole irreducible vertex function, containing all diagrams with insertions of the interaction that can not be separated by cutting a pair of particle-hole single-particle propagators $G G$.\n",
    "\n",
    "The first order contribution to the vertex $\\Gamma$ is the bare interaction $U$ and the approximation\n",
    "\n",
    "$$ \\Gamma = U/2 $$\n",
    "\n",
    "gives the so-called random phase approximation for $\\chi$, i.e.\n",
    "\n",
    "$$ \\chi_{RPA} = \\chi_0 + \\chi_0 \\frac{U}{2} \\chi_{RPA} $$\n",
    "\n",
    "Rewriting this equation gives $\\chi_{RPA}$ as\n",
    "\n",
    "$$ \\chi_{RPA} = \\frac{\\chi_0}{1 - \\frac{U}{2} \\chi_0} $$\n",
    "\n",
    "note that the denominator of this equation can in general go to zero, whereby the susceptibility $\\chi_{RPA}$ diverges. Whence the RPA approximation can be used to compute instabilities of the system towards, e.g., anti-ferromagnetic symmetry breaking.\n",
    "\n",
    "As an example we compute $\\chi_{RPA}$ for the square lattice and the enhancement of the $\\mathbf{q} = (\\pi, \\pi)$ peak as a function of $U$.\n",
    "\n",
    "RPA predicts a phase transition to an antiferromagnetic state at *finite temperatures*. In two dimensions this is unphysical since the Mermin Wagner theorem tells us that the phase transition only occurs at zero temperature. \n",
    "\n",
    "We will later see how to remedy this shortcoming of RPA using the TPSC approach."
   ]
  },
  {
   "cell_type": "code",
   "execution_count": null,
   "metadata": {},
   "outputs": [],
   "source": [
    "# Imports \n",
    "%matplotlib inline\n",
    "from pytriqs.lattice import BravaisLattice, BrillouinZone\n",
    "from pytriqs.gf import MeshBrillouinZone, MeshImFreq, Gf, MeshProduct, inverse\n",
    "from pytriqs.archive import HDFArchive\n",
    "from pytriqs.plot.mpl_interface import oplot\n",
    "import numpy as np\n",
    "import warnings\n",
    "warnings.filterwarnings(\"ignore\")\n",
    "from math import cos, pi\n",
    "\n",
    "import matplotlib.pyplot as plt\n",
    "plt.rcParams[\"figure.figsize\"] = (10,9) # set default size for all figuresfrom pytriqs.archive import HDFArchive"
   ]
  },
  {
   "cell_type": "code",
   "execution_count": null,
   "metadata": {},
   "outputs": [],
   "source": [
    "# Reload the previous result\n",
    "with HDFArchive(\"tpsc.h5\",'r') as R:\n",
    "    chi0_kw = R['chi0_kw']"
   ]
  },
  {
   "cell_type": "markdown",
   "metadata": {},
   "source": [
    "### Exercise 1 \n",
    "\n",
    "Using the same code at for non-interacting susceptibility\n",
    "(Cf 04-Lindhard_solution), plot the RPA susceptibility\n",
    "for $U = 2.7$ as a color plot (and 3d plot).\n"
   ]
  },
  {
   "cell_type": "code",
   "execution_count": null,
   "metadata": {},
   "outputs": [],
   "source": []
  },
  {
   "cell_type": "markdown",
   "metadata": {},
   "source": [
    "### Exercise 2: Plot along some path for different values of $U$\n",
    "\n",
    "Using the same code as for non-interacting susceptibility\n",
    "(Cf 04-Lindhard_solution), plot $\\chi_{RPA}$ \n",
    "for various values of $U$  (e.g. in `np.arange(1., 2.8, 0.2)`)\n",
    "along the path\n",
    "in the Brillouin Zone: $\\Gamma \\rightarrow X \\rightarrow M \\rightarrow \\Gamma$\n",
    "where $\\Gamma = (0,  0 , 0)$, $X = (\\pi, \\pi, 0)$ and  $M = (\\pi, 0,  0)$.\n",
    "\n"
   ]
  },
  {
   "cell_type": "code",
   "execution_count": null,
   "metadata": {},
   "outputs": [],
   "source": []
  },
  {
   "cell_type": "markdown",
   "metadata": {},
   "source": [
    "### Exercise 3:  Critical $U$\n",
    "\n",
    "At some critical $U_c$ the RPA susceptibility diverges $\\chi_{RPA} \\rightarrow \\infty$. To determine $U_c$ we can study the root of the inverse susceptibility $\\chi_{RPA}^{-1}$.\n",
    "\n",
    "For the square lattice it is sufficient to study the response at $\\mathbf{k}_{AF}= (\\pi, \\pi)$ since this is the momentum vector where the response diverges. Analytically this occurs when the denominator is zero $1 - U \\chi_0(\\mathbf{k}_{AF}, 0) = 0$, i.e.\n",
    "\n",
    "$$ U_c^{(RPA)} = \\frac{2}{\\chi_0(\\mathbf{k}_{AF}, 0)} $$\n",
    "\n",
    "Plot $\\chi_{RPA}^{-1} ( (\\pi, \\pi, 0), 0)$ vs $U$ to numerically determine the critical $U$ in the RPA approximation and compare to a direct calculation of $U_c^{(RPA)}$.\n"
   ]
  },
  {
   "cell_type": "code",
   "execution_count": null,
   "metadata": {},
   "outputs": [],
   "source": []
  }
 ],
 "metadata": {
  "kernelspec": {
   "display_name": "Python 2",
   "language": "python",
   "name": "python2"
  },
  "language_info": {
   "codemirror_mode": {
    "name": "ipython",
    "version": 2
   },
   "file_extension": ".py",
   "mimetype": "text/x-python",
   "name": "python",
   "nbconvert_exporter": "python",
   "pygments_lexer": "ipython2",
   "version": "2.7.15"
  }
 },
 "nbformat": 4,
 "nbformat_minor": 2
}
