{
 "cells": [
  {
   "cell_type": "markdown",
   "metadata": {},
   "source": [
    "# Two-particle self consistency (TPSC)\n",
    "\n",
    "Now, we use the Lindhard function to solve the TPSC approximation explained in the lecture notes\n",
    "of André-Marie Tremblay and in the following [review](https://arxiv.org/abs/1107.1534). \n",
    "\n",
    "In TPSC, the vertices for charge and spin fluctuations are different but are still local, i.e. momentum and frequency independent like the bare $U$ in the Hubbard model. This allows conservations laws and the Pauli principle to be satisfied. \n",
    "\n",
    "More specifically, the spin and charge susceptibilities are \n",
    "\n",
    "$$ \\chi_{sp}(\\mathbf{q}, iq_n) \\equiv \\frac{\\chi_0(\\mathbf{q}, iq_n)}{1 - \\frac{U_{sp}}{2} \\chi_0(\\mathbf{q}, iq_n)} $$\n",
    "\n",
    "$$ \\chi_{ch}(\\mathbf{q}, iq_n) \\equiv \\frac{\\chi_0(\\mathbf{q}, iq_n)}{1 + \\frac{U_{ch}}{2} \\chi_0(\\mathbf{q}, iq_n)} $$\n",
    "\n",
    "The sum over all momenta and frequencies of the spin susceptibility gives the equal-time equal-position correlation function. This gives the sum-rule  \n",
    "\n",
    "\\begin{equation}\n",
    "\\frac{T}{N}\\sum_{\\mathbf{q},iq_n} \\chi_{sp}(\\mathbf{q}, iq_n)=\\left< (n_\\uparrow - n_\\downarrow)^2\\right>=n-2\\left< n_\\uparrow n_\\downarrow\\right>\n",
    "\\end{equation}\n",
    "\n",
    "because the Pauli principle requires that $\\left< n_\\uparrow^2\\right>=\\left< n_\\uparrow\\right>$ since the occupation number on a site is either 0 or 1.\n",
    "\n",
    "Substituting the TPSC value of the spin susceptibility, the double occupancy and $U_{sp}$ can be determined from\n",
    "\n",
    "\\begin{equation}\n",
    "\\frac{T}{N}\\sum_{\\mathbf{q},iq_n} \\frac{\\chi_0(\\mathbf{q},iq_n)}{1-\\frac{U_{sp}}{2}\\chi_0(\\mathbf{q},iq_n)}=n-2\\left< n_\\uparrow n_\\downarrow\\right>\n",
    "\\end{equation}\n",
    "\n",
    "using the ansatz\n",
    "\n",
    "\\begin{equation}\n",
    "U_{sp}\\left<n_\\uparrow\\right> \\left<n_\\downarrow\\right>=U\\left<n_\\uparrow n_\\downarrow\\right>.\n",
    "\\end{equation}\n",
    "\n",
    "at fixed density $n \\equiv \\langle n_\\uparrow \\rangle + \\langle n_\\downarrow \\rangle$.\n",
    "\n",
    "Given the double occupancy, the charge vertex can then be obtained from\n",
    "\n",
    "\\begin{equation}\n",
    "\\frac{T}{N}\\sum_{\\mathbf{q},iq_n} \\frac{\\chi_0(\\mathbf{q},iq_n)}{1+\\frac{U_{cn}}{2}\\chi_0(\\mathbf{q},iq_n)}=n+2\\left< n_\\uparrow n_\\downarrow\\right>-n^2.\n",
    "\\end{equation}\n",
    "\n",
    "Note that the sums over $\\mathbf{q}$ and $i\\omega_n$ can be interpreted as a trace."
   ]
  },
  {
   "cell_type": "code",
   "execution_count": null,
   "metadata": {
    "scrolled": true
   },
   "outputs": [],
   "source": [
    "# Imports \n",
    "%matplotlib inline\n",
    "from pytriqs.lattice import BravaisLattice, BrillouinZone\n",
    "from pytriqs.gf import MeshBrillouinZone, MeshImFreq, Gf, MeshProduct, inverse\n",
    "from pytriqs.archive import HDFArchive\n",
    "from pytriqs.plot.mpl_interface import oplot\n",
    "import numpy as np\n",
    "from math import cos, pi\n",
    "\n",
    "import matplotlib.pyplot as plt\n",
    "plt.rcParams[\"figure.figsize\"] = (10,9) # set default size for all figuresfrom pytriqs.archive import HDFArchivefrom pytriqs.gf import Gf, inverse\n",
    "\n",
    "from scipy.optimize import fsolve, brentq"
   ]
  },
  {
   "cell_type": "markdown",
   "metadata": {},
   "source": [
    "We reload the Lindhard susceptibility from the archive"
   ]
  },
  {
   "cell_type": "code",
   "execution_count": null,
   "metadata": {},
   "outputs": [],
   "source": [
    "#reload chi0\n",
    "with HDFArchive(\"tpsc.h5\", 'r') as R:\n",
    "    chi0_kw = R['chi0_kw']"
   ]
  },
  {
   "cell_type": "markdown",
   "metadata": {},
   "source": [
    "## Behaviour of $U_{sp}$ and $U_{ch}$\n",
    "\n",
    "The aim of this exercice is to study the behaviour of $U_{sp}$ and $U_{ch}$ \n",
    "as we vary $U$. This will require that you solve the TPSC equations\n",
    "described above. Ultimately you should try to reproduce the following figure\n",
    "taken from  the __[paper](https://jp1.journaldephysique.org/articles/jp1/abs/1997/11/jp1v7p1309/jp1v7p1309.html)__\n",
    "\n",
    "<img src=\"./img/Fig2.png\" alt=\"Drawing\" style=\"width: 250px;\"/>"
   ]
  },
  {
   "cell_type": "markdown",
   "metadata": {},
   "source": [
    "### Exercice 1:\n",
    "\n",
    "Define a function `chi_rpa(chi0, U)` that\n",
    "computes the following quantity:\n",
    "\n",
    "\\begin{equation}\n",
    "  \\chi_{RPA}[\\chi_0, U] \\equiv \\frac{\\chi_0(\\mathbf{q}, iq_n)}\n",
    "    {1 - \\frac{U}{2} \\chi_0(\\mathbf{q}, iq_n)}\n",
    "\\end{equation}\n",
    "\n",
    "This function will be useful to obtain both the spin and the charge\n",
    "susceptibilities. Indeed we have that\n",
    "\n",
    "\\begin{equation}\n",
    " \\chi_{sp} = \\chi_{RPA}[\\chi_0 ,U_{sp}]\n",
    " \\qquad \n",
    " \\chi_{ch} = \\chi_{RPA}[\\chi_0,-U_{ch}]\n",
    "\\end{equation}"
   ]
  },
  {
   "cell_type": "code",
   "execution_count": null,
   "metadata": {},
   "outputs": [],
   "source": [
    "def chi_rpa(chi0, U):\n",
    "    \"\"\"Compute chi_rpa from chi\"\"\"\n",
    "    return chi0 * inverse(1 - 0.5 * U * chi0)"
   ]
  },
  {
   "cell_type": "markdown",
   "metadata": {},
   "source": [
    "### Exercice 2:\n",
    "\n",
    "You will now solve the TPSC equation for $U_{sp}$.\n",
    "\n",
    "\\begin{equation}\n",
    "\\frac{T}{N}\\sum_{\\mathbf{q},iq_n} \\chi_{sp}(\\mathbf{q},iq_n) = n-2\\left< n_\\uparrow n_\\downarrow\\right> = n - 2\n",
    "\\frac{U_{sp}}{U} \\left<n_\\uparrow\\right> \\left<n_\\downarrow\\right>\n",
    "\\end{equation}\n",
    "\n",
    "We will focus on the unity density case $n=1$.\n",
    "\n",
    "* Convince yourself that this equation always has exactly one solution for $U_{sp}$.\n",
    "* In what interval does $U_{sp}$ take its values?\n",
    "\n",
    "In order to solve the equation you can use the scipy function `brentq` that finds\n",
    "the zero of a function in a given interval. Your task is to complete the code below\n",
    "by:\n",
    "\n",
    "* Defining the function `Usp_root` whose zero is the solution of the TPSC\n",
    "  equation above.\n",
    "* Defining the interval $[a,b]$ where `brentq` has to look for zeroes\n",
    "\n",
    "In order to help you, we provide a function `trace_chi` that computes\n",
    "the sum over momenta and Matsubara frequencies of a susceptibility.\n",
    "You can check your code for $U=2$. For this value, you should get\n",
    "$U_{sp} \\simeq 1.52$"
   ]
  },
  {
   "cell_type": "code",
   "execution_count": null,
   "metadata": {},
   "outputs": [],
   "source": [
    "def trace_chi(chi):\n",
    "    \"\"\"Given chi_kw, it computes sum_k sum_\\nu chi(k,\\nu)\"\"\" \n",
    "    kmesh, wmesh = chi.mesh.components\n",
    "    trace = chi.data.sum() / len(kmesh) / wmesh.beta\n",
    "    return trace.real\n",
    "\n",
    "def Usp_root(Usp, chi0, n, U):\n",
    "    \"\"\"Sets the self-consistency for U_sp as the problem of finding roots\"\"\"\n",
    "    tr_chi_sp = trace_chi(chi_rpa(chi0, U=Usp))\n",
    "    diff = tr_chi_sp + 0.5 * Usp/U * n**2 - n\n",
    "    return diff\n",
    "\n",
    "U = 2.0\n",
    "n = 1.0\n",
    "a = 0\n",
    "b = 2/chi0_kw([np.pi,np.pi,0],0).real\n",
    "Usp = brentq(Usp_root, a, b, args=(chi0_kw, n, U), xtol=1e-2)\n",
    "print Usp"
   ]
  },
  {
   "cell_type": "markdown",
   "metadata": {},
   "source": [
    "### Exercice 3:\n",
    "\n",
    "You can now solve the TPSC equation for $U_{ch}$:\n",
    "\n",
    "\\begin{equation}\n",
    "\\frac{T}{N}\\sum_{\\mathbf{q},iq_n} \\chi_{ch}(\\mathbf{q},iq_n)\n",
    "=n+2\\left< n_\\uparrow n_\\downarrow\\right>-n^2\n",
    "= n+2 \\frac{U_{sp}}{U} \\left<n_\\uparrow\\right> \\left<n_\\downarrow\\right>\n",
    "- n^2\n",
    "\\end{equation}\n",
    "\n",
    "For $U=2$, you should find $U_{ch} \\simeq 3.39$."
   ]
  },
  {
   "cell_type": "code",
   "execution_count": null,
   "metadata": {},
   "outputs": [],
   "source": [
    "def Uch_root(Uch, chi0, n, U, docc):\n",
    "    tr_chi = trace_chi(chi_rpa(chi0, U=-Uch))\n",
    "    diff = tr_chi - 2 * docc - n + n**2\n",
    "    return diff\n",
    "\n",
    "docc = 0.25 * Usp / U * n**2\n",
    "a = 0\n",
    "b = 100\n",
    "Uch = brentq(Uch_root, a, b, args=(chi0_kw, n, U, docc), xtol=1e-2)\n",
    "print Uch"
   ]
  },
  {
   "cell_type": "markdown",
   "metadata": {},
   "source": [
    "### Exercice 4:\n",
    "\n",
    "Putting together the codes that you wrote above, you can now define\n",
    "a function `solve_tpsc(chi0, U, n)` that solves the TPSC equations\n",
    "for a given value of $U$ and $n$ and returns $U_{sp}$ and $U_{ch}$."
   ]
  },
  {
   "cell_type": "code",
   "execution_count": null,
   "metadata": {},
   "outputs": [],
   "source": [
    "def solve_tpsc(chi0, U, n):\n",
    "    Uc = 2/chi0([np.pi,np.pi,0],0).real\n",
    "    Usp = brentq(Usp_root, 0, Uc, args=(chi0, n, U), xtol=1e-2)\n",
    "    docc = 0.25 * Usp / U * n**2\n",
    "    Uch = brentq(Uch_root, 0, 100, args=(chi0, n, U, docc), xtol=1e-2)\n",
    "    return Usp, Uch, docc, Uc\n",
    "\n",
    "print solve_tpsc(chi0_kw, 2., 1.)"
   ]
  },
  {
   "cell_type": "markdown",
   "metadata": {},
   "source": [
    "### Exercice 5:\n",
    "\n",
    "Scan different values of $U$ between 0.3 and 5 and make a plot\n",
    "to see if it compares to the paper figure shown above. The density\n",
    "is always $n=1$."
   ]
  },
  {
   "cell_type": "code",
   "execution_count": null,
   "metadata": {},
   "outputs": [],
   "source": [
    "n = 1.0\n",
    "\n",
    "# Initializes a table to store the results\n",
    "U_vec = np.concatenate((np.arange(0.3, 1., 0.2), np.arange(1., 6., 1.)))    \n",
    "Usp_vec, Uch_vec, docc_vec = [np.zeros_like(U_vec) for x in xrange(3)]\n",
    "\n",
    "# Printing the header of the table\n",
    "print ''.join('| %-11s' % s for s in ['n', 'U', 'Usp', 'Uch', 'docc']), '|'\n",
    "print '-'*67\n",
    "\n",
    "# Loop over the different values of bare U\n",
    "for idx, U in enumerate(U_vec):\n",
    "    Usp, Uch, docc, Uc = solve_tpsc(chi0_kw, U, n)\n",
    "    Usp_vec[idx], Uch_vec[idx], docc_vec[idx] = Usp, Uch, docc\n",
    "    print ''.join('| %4.4E ' % x for x in [n, U, Usp, Uch, docc]), '|'"
   ]
  },
  {
   "cell_type": "code",
   "execution_count": null,
   "metadata": {},
   "outputs": [],
   "source": [
    "from matplotlib.image import imread\n",
    "\n",
    "# Some manual adjustements here to overlay the original figure. May change from one\n",
    "# machine to another\n",
    "im = imread(\"img/Fig2.png\")\n",
    "plt.imshow(im, extent=(-0.45, 5.35, -3, 20.5), aspect='auto')\n",
    "plt.plot([0,5,5,0,0],[0,0,20,20,0],'-r')\n",
    "\n",
    "plt.plot(U_vec, Usp_vec, 'o-', label=r'$U_{sp}$', alpha=1, lw=2)\n",
    "plt.plot(U_vec, Uch_vec, 'o-', label=r'$U_{ch}$', alpha=1, lw=2)\n",
    "\n",
    "plt.axis('off');"
   ]
  },
  {
   "cell_type": "markdown",
   "metadata": {},
   "source": [
    "### Note: weakness of RPA\n",
    "\n",
    "Given the above sum rules, note that in TPSC the following sum-rule, a consequence of the Pauli principle, is satisfied:\n",
    "\n",
    "\\begin{equation}\n",
    "2\\frac{T}{N}\\sum_{\\mathbf{q},iq_n} \\left (\\frac{\\chi_0(\\mathbf{q},iq_n)}{1-\\frac{U_{sp}}{2}\\chi_0(\\mathbf{q},iq_n)}+\\frac{\\chi_0(\\mathbf{q},iq_n)}{1+\\frac{U_{ch}}{2}\\chi_0(\\mathbf{q},iq_n)}\\right)=2n-n^2.\n",
    "\\end{equation}\n",
    "\n",
    "Note that the right-hand side is independent of interactions.\n",
    "\n",
    "In RPA the left hand side of the above equation takes the form\n",
    "\n",
    "\\begin{equation}\n",
    "\\frac{T}{N}\\sum_{\\mathbf{q},iq_n} \\left (\\frac{\\chi_0(\\mathbf{q},iq_n)}{1-\\frac{U}{2}\\chi_0(\\mathbf{q},iq_n)}+\\frac{\\chi_0(\\mathbf{q},iq_n)}{1+\\frac{U}{2}\\chi_0(\\mathbf{q},iq_n)}\\right)\n",
    "\\end{equation}\n",
    "\n",
    "Note that the bare $U$ enters in both denominators. \n",
    "\n",
    "Let us show the violation of this sum rule by RPA."
   ]
  },
  {
   "cell_type": "code",
   "execution_count": null,
   "metadata": {},
   "outputs": [],
   "source": [
    "import numpy as np\n",
    "\n",
    "n = 1.0\n",
    "U_vec = np.arange(0., 2.5, 0.25)\n",
    "sum_chi_vec = np.zeros_like(U_vec)\n",
    "\n",
    "kmesh, wmesh = chi0_kw.mesh.components\n",
    "\n",
    "# Printing the header of the table\n",
    "print ''.join('| %-11s' % s for s in ['U', 'sum_chi', '2n-n*n']), '|'\n",
    "print '-'*41\n",
    "\n",
    "# Loop over the different values of U\n",
    "for idx, U in enumerate(U_vec):\n",
    "    sum_chi = chi_rpa(chi0_kw, +0.5*U) + chi_rpa(chi0_kw, -0.5*U)\n",
    "    sum_chi = sum_chi.data.sum() / len(kmesh) / wmesh.beta\n",
    "    sum_chi_vec[idx] = sum_chi.real\n",
    "    print ''.join('| %4.4E ' % x for x in [U, sum_chi.real, 2*n-n**2]), '|'"
   ]
  },
  {
   "cell_type": "code",
   "execution_count": null,
   "metadata": {},
   "outputs": [],
   "source": [
    "plt.plot(U_vec, sum_chi_vec, '.-', label=r'Tr[$\\chi_{ch} + \\chi_{sp}$]')\n",
    "plt.plot(U_vec, 0*U_vec + 2*n - n**2, 'k-', lw=0.5, label=r'$2n-n^2$')\n",
    "plt.ylim([0.9, 1.2])\n",
    "plt.xlabel(r'$U$')\n",
    "plt.legend()"
   ]
  },
  {
   "cell_type": "code",
   "execution_count": null,
   "metadata": {},
   "outputs": [],
   "source": []
  }
 ],
 "metadata": {
  "kernelspec": {
   "display_name": "Python 2",
   "language": "python",
   "name": "python2"
  },
  "language_info": {
   "codemirror_mode": {
    "name": "ipython",
    "version": 2
   },
   "file_extension": ".py",
   "mimetype": "text/x-python",
   "name": "python",
   "nbconvert_exporter": "python",
   "pygments_lexer": "ipython2",
   "version": "2.7.15"
  }
 },
 "nbformat": 4,
 "nbformat_minor": 2
}
