{
 "cells": [
  {
   "cell_type": "markdown",
   "metadata": {
    "deletable": true,
    "editable": true,
    "run_control": {
     "frozen": false,
     "read_only": false
    }
   },
   "source": [
    "Solution of the exercises\n",
    "=========================\n",
    "\n",
    "Solution of exercise 1\n",
    "----------------------\n",
    "\n",
    "Here's the solution for the IPT Solver written as a class:"
   ]
  },
  {
   "cell_type": "code",
   "execution_count": null,
   "metadata": {
    "collapsed": true
   },
   "outputs": [],
   "source": [
    "from pytriqs.gf import *\n",
    "import numpy as np\n",
    "from math import pi\n",
    "class IPTSolver:\n",
    "    def __init__(self, beta):\n",
    "        self.beta = beta\n",
    "\n",
    "        # Matsubara frequency Green's functions\n",
    "        self.g = GfImFreq(indices=[0], beta=beta, name='G')\n",
    "        self.g0 = self.g.copy() # self.g0 will be set by the user after initialization\n",
    "        self.sigma = self.g.copy()\n",
    "        \n",
    "        # Imaginary time\n",
    "        self.g0t = GfImTime(indices=[0], beta = self.beta, name='G0t')\n",
    "        self.sigmat = self.g0t.copy()\n",
    "        \n",
    "    def solve(self, U):\n",
    "        self.g0t << InverseFourier(self.g0)\n",
    "        self.sigmat << (U**2) * self.g0t * self.g0t * self.g0t\n",
    "        self.sigma << Fourier(self.sigmat)\n",
    "        \n",
    "        # Dyson\n",
    "        self.g << inverse(inverse(self.g0) - self.sigma)\n",
    "        # or:\n",
    "        # self.g << self.g0 * inverse(1.0 - self.sigma * self.g0)"
   ]
  },
  {
   "cell_type": "markdown",
   "metadata": {
    "deletable": true,
    "editable": true,
    "run_control": {
     "frozen": false,
     "read_only": false
    }
   },
   "source": [
    "Solution of exercise 2\n",
    "----------------------\n",
    "\n",
    "This is the implementation of the DMFT loop, with a plot of the interacting spectral function at every iteration."
   ]
  },
  {
   "cell_type": "code",
   "execution_count": null,
   "metadata": {
    "collapsed": true
   },
   "outputs": [],
   "source": [
    "from pytriqs.plot.mpl_interface import *\n",
    "%matplotlib inline\n",
    "# change scale of all figures to make them bigger\n",
    "import matplotlib as mpl\n",
    "mpl.rcParams['savefig.dpi']=100 \n",
    "\n",
    "t = 1.0\n",
    "U = 5.0\n",
    "beta = 20\n",
    "n_loops = 25\n",
    "\n",
    "S = IPTSolver(beta = beta)\n",
    "S.g << SemiCircular(2*t)\n",
    "\n",
    "fig = plt.figure(figsize=(12,8))\n",
    "\n",
    "for i in range(n_loops):\n",
    "    S.g0 << inverse( iOmega_n - t**2 * S.g )\n",
    "    S.solve(U = U)\n",
    "    \n",
    "    # Get real axis function with Pade approximation\n",
    "    greal = GfReFreq(indices = [1], window = (-5.0,5.0))\n",
    "    greal.set_from_pade(S.g, 100, 0.01)\n",
    "    \n",
    "    if i % 8 == 0:\n",
    "        oplot(-greal.imag/pi, figure = fig, label = \"Iteration = %i\" % (i+1))"
   ]
  },
  {
   "cell_type": "markdown",
   "metadata": {
    "deletable": true,
    "editable": true,
    "run_control": {
     "frozen": false,
     "read_only": false
    }
   },
   "source": [
    "Solution of exercise 3\n",
    "----------------------\n",
    "\n",
    "From the solution above it seems that 25 iterations are enough to converge the\n",
    "DMFT loop. Now it is easy to repeat this for several values of $U$."
   ]
  },
  {
   "cell_type": "code",
   "execution_count": null,
   "metadata": {
    "collapsed": false,
    "deletable": true,
    "editable": true,
    "run_control": {
     "frozen": false,
     "read_only": false
    }
   },
   "outputs": [],
   "source": [
    "import numpy as np\n",
    "\n",
    "t = 1.0\n",
    "beta = 20\n",
    "n_loops = 25\n",
    "\n",
    "fig = plt.figure(figsize=(6,6))\n",
    "pn = 0 # iteration counter for plotting\n",
    "\n",
    "for U in np.arange(2.0, 7.5, 1.0):\n",
    "    \n",
    "    S = IPTSolver(beta = beta)\n",
    "    S.g << SemiCircular(2*t)\n",
    "\n",
    "    # DMFT\n",
    "    for i in range(n_loops):\n",
    "        S.g0 << inverse( iOmega_n - t**2 * S.g )\n",
    "        S.solve(U)\n",
    "\n",
    "    # Get the real-axis with Pade approximation\n",
    "    greal = GfReFreq(indices = [0], window = (-8.0,8.0))\n",
    "    greal.set_from_pade(S.g, 100, 0.01)\n",
    "    \n",
    "    # plotting\n",
    "    ax = fig.add_axes([0,1.-(pn+1)/6.,1,1./6.]) # subplot\n",
    "    ax.set_xticklabels([])\n",
    "    ax.set_yticklabels([])\n",
    "    oplot(-greal.imag/pi, linewidth=3, label = \"U = %.2f\" % U)\n",
    "    plt.xlim(-8,8)\n",
    "    plt.ylim(0,0.35)\n",
    "    plt.ylabel(\"\")\n",
    "    pn = pn + 1"
   ]
  },
  {
   "cell_type": "markdown",
   "metadata": {
    "deletable": true,
    "editable": true,
    "run_control": {
     "frozen": false,
     "read_only": false
    }
   },
   "source": [
    "Comparison with the literature\n",
    "-------------------------------\n",
    "\n",
    "You can compare the result above with what can be found in the literature\n",
    "(review of Antoine Georges et al.)\n",
    "\n",
    "<img src=\"files/mott.png\" width=30%>"
   ]
  }
 ],
 "metadata": {
  "kernelspec": {
   "display_name": "Python 2",
   "language": "python",
   "name": "python2"
  },
  "language_info": {
   "codemirror_mode": {
    "name": "ipython",
    "version": 2
   },
   "file_extension": ".py",
   "mimetype": "text/x-python",
   "name": "python",
   "nbconvert_exporter": "python",
   "pygments_lexer": "ipython2",
   "version": "2.7.13"
  },
  "latex_envs": {
   "LaTeX_envs_menu_present": true,
   "autocomplete": true,
   "bibliofile": "biblio.bib",
   "cite_by": "apalike",
   "current_citInitial": 1,
   "eqLabelWithNumbers": true,
   "eqNumInitial": 1,
   "hotkeys": {
    "equation": "Ctrl-E",
    "itemize": "Ctrl-I"
   },
   "labels_anchors": false,
   "latex_user_defs": false,
   "report_style_numbering": false,
   "user_envs_cfg": false
  },
  "widgets": {
   "state": {},
   "version": "1.1.1"
  }
 },
 "nbformat": 4,
 "nbformat_minor": 1
}
