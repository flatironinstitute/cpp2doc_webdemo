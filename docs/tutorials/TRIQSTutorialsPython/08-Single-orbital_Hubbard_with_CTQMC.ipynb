{
 "cells": [
  {
   "cell_type": "markdown",
   "metadata": {
    "deletable": true,
    "editable": true,
    "run_control": {
     "frozen": false,
     "read_only": false
    }
   },
   "source": [
    "Single-orbital Hubbard model\n",
    "============================\n",
    "\n",
    "In this notebook you will reproduce the Bethe lattice DMFT that we did earlier with IPT,\n",
    "but you will use the CTHYB solver to find the solution of the impurity problem. We will\n",
    "consider the problem at half-filling again. \n",
    "\n",
    "In general it is a good idea to develop the script in the notebook, because it is very convenient to find bugs and to quickly come to a working code. In the beginning you should use a small number of Monte Carlo iterations (say 1000) so that the code runs quickly. Your first main goal is to have a functional script. However, once the script is done, we recommend that you do longer runs (production runs) from a shell. It will be easier for you to see the progress of the Monte Carlo solver. Think about saving the relevant data to an archive and then go back to the notebook when it comes to analyzing and plotting the results. This is usually how things are done: elaboration of the scripts and analysis of the data from the notebook, production from a shell.\n",
    "\n",
    "In order to run your script from a shell, open a terminal and go in the tutorial directory.\n",
    "This is where you should edit your production script. Let's call it `run_dmft.py`. Use your favourite editor (e.g. `vi` or `gedit`) to create the script `run_dmft.py`.\n",
    "\n",
    "When the script is written save it and run it. You can:\n",
    "\n",
    "- run it directly from the shell to see the Monte Carlo progress:\n",
    "\n",
    "`>>> pytriqs run_dmft.py`\n",
    "\n",
    "- run the following command in a notebook cell.\n",
    "\n",
    "`%run run_dmft.py`\n",
    "\n",
    "That's it! When the run is done and data has been saved into an archive, you can go back to the notebook and read the archive in order to analyze or plot the results."
   ]
  },
  {
   "cell_type": "markdown",
   "metadata": {
    "deletable": true,
    "editable": true,
    "run_control": {
     "frozen": false,
     "read_only": false
    }
   },
   "source": [
    "Exercise 1\n",
    "----------\n",
    "\n",
    "Write a DMFT loop, like you did earlier but using the CTHYB solver. \n",
    "\n",
    "*Hint*: It is useful to symmetrize the Green's function (make the `up` and `down` components the same) to avoid some artificial polarization of the system close to the Mott transition. You might want to enforce the `up`-`down` symmetry on `S.G` just before the self-consistency condition. In order\n",
    "to have reasonable data you should have at least 10000 cycles."
   ]
  },
  {
   "cell_type": "code",
   "execution_count": null,
   "metadata": {
    "collapsed": false,
    "deletable": true,
    "editable": true,
    "run_control": {
     "frozen": false,
     "read_only": false
    }
   },
   "outputs": [],
   "source": [
    "from pytriqs.gf import *\n",
    "from pytriqs.operators import *\n",
    "from pytriqs.archive import *\n",
    "from triqs_cthyb import Solver\n",
    "from numpy import *\n",
    "\n",
    "# Parameters of the model\n",
    "t = 1.0\n",
    "beta = 10\n",
    "n_loops = 10\n",
    "U = 4.0\n",
    "\n",
    "# code here\n",
    "\n",
    "# DMFT loop with self-consistency\n",
    "# code here"
   ]
  },
  {
   "cell_type": "markdown",
   "metadata": {
    "deletable": true,
    "editable": true,
    "run_control": {
     "frozen": false,
     "read_only": false
    }
   },
   "source": [
    "Exercise 2\n",
    "----------\n",
    "\n",
    "Here, you will learn to analyze the output of the solver. As discussed, the Monte Carlo algorithm provide results on the\n",
    "Matsubara axis. This makes the analysis of the results slightly more delicate than if we had them directly on the real\n",
    "axis. When we used the IPT solver, we could see the Mott transition as the appearance of a gap in the spectral function.\n",
    "After the Monte Carlo run, we do not have the spectral function, so we will have to use some other criteria to decide, e.g.,\n",
    "if the system is metallic or insulating.\n",
    "\n",
    "Plot the Green's function at the end of the DMFT loops for several values of $U$ (say between 2 and 8). Focus on the extrapolation of the imaginary part of the Green's function to zero frequency. How does it change with $U$? Is there\n",
    "a way to see the Mott transition just by inspecting the imaginary part of the Green's function?"
   ]
  },
  {
   "cell_type": "markdown",
   "metadata": {
    "deletable": true,
    "editable": true,
    "run_control": {
     "frozen": false,
     "read_only": false
    }
   },
   "source": [
    "Exercise 3\n",
    "----------\n",
    "\n",
    "Do the same exercise as above, but analyze the self-energy. The noise usually gets bigger for larger frequencies, so just focus on the first few Matsubara frequencies. There the noise should not be too important. Again, by looking at the extrapolation to zero frequency of the imaginary part of the self-energy, can you tell where the Mott transition happens?"
   ]
  },
  {
   "cell_type": "markdown",
   "metadata": {
    "deletable": true,
    "editable": true,
    "run_control": {
     "frozen": false,
     "read_only": false
    }
   },
   "source": [
    "Exercise 4\n",
    "----------\n",
    "\n",
    "A very useful quantity to measure the degree of correlation of a metal is the *quasiparticle weight* $Z$. It is defined as\n",
    "\n",
    "$$\n",
    "Z = \\lim_{\\omega_n \\rightarrow 0} \\Big( 1 - \\frac{d\\mathrm{Im} \\Sigma(i\\omega_n)}{di\\omega_n} \\Big)^{-1}\n",
    "$$\n",
    "\n",
    "\n",
    "For a non-interacting metal $Z=1$. As correlations appear, $Z$ gradually gets smaller. It reaches 0 at the Mott transition. Make a plot of $Z$ versus $U$ for the Bethe lattice Hubbard model. \n",
    "\n",
    "*Hint*: In order to have access to the values of $\\Sigma_\\uparrow(i\\omega_n)$, you can use `S.Sigma['up'](n)`. This will be useful to numerically compute the derivative required to compute $Z$."
   ]
  },
  {
   "cell_type": "markdown",
   "metadata": {
    "deletable": true,
    "editable": true,
    "run_control": {
     "frozen": false,
     "read_only": false
    }
   },
   "source": [
    "Exercise 5\n",
    "----------\n",
    "\n",
    "Go back to your IPT code and try to modify it to extract the $Z$ versus $U$ curve. Compare this to the result you found in Exercise 4. Is the critical $U$ for the Mott transition similar to the one you found using CTHYB?"
   ]
  },
  {
   "cell_type": "markdown",
   "metadata": {
    "deletable": true,
    "editable": true,
    "run_control": {
     "frozen": false,
     "read_only": false
    }
   },
   "source": [
    "Exercise 6\n",
    "----------\n",
    "\n",
    "Try to analytically continue the Green's function on the real axis using the Pade approximation. What can\n",
    "you say about the result?"
   ]
  }
 ],
 "metadata": {
  "kernelspec": {
   "display_name": "Python 2",
   "language": "python",
   "name": "python2"
  },
  "language_info": {
   "codemirror_mode": {
    "name": "ipython",
    "version": 2
   },
   "file_extension": ".py",
   "mimetype": "text/x-python",
   "name": "python",
   "nbconvert_exporter": "python",
   "pygments_lexer": "ipython2",
   "version": "2.7.13"
  },
  "latex_envs": {
   "LaTeX_envs_menu_present": true,
   "autocomplete": true,
   "bibliofile": "biblio.bib",
   "cite_by": "apalike",
   "current_citInitial": 1,
   "eqLabelWithNumbers": true,
   "eqNumInitial": 1,
   "hotkeys": {
    "equation": "Ctrl-E",
    "itemize": "Ctrl-I"
   },
   "labels_anchors": false,
   "latex_user_defs": false,
   "report_style_numbering": false,
   "user_envs_cfg": false
  },
  "widgets": {
   "state": {},
   "version": "1.1.1"
  }
 },
 "nbformat": 4,
 "nbformat_minor": 1
}
