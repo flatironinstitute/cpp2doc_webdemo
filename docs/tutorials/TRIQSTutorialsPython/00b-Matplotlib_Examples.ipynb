{
 "cells": [
  {
   "cell_type": "markdown",
   "metadata": {
    "deletable": true,
    "editable": true,
    "run_control": {
     "frozen": false,
     "read_only": false
    }
   },
   "source": [
    "Matplotlib Examples\n",
    "======================\n",
    "\n",
    "[matplotlib](http://matplotlib.org/) is used to plot data. It is a very powerful library that is interfaced to TRIQS.\n",
    "\n",
    "Goal of this tutorial\n",
    "---------------------\n",
    "\n",
    "This is an illustration of an **ipython notebook**. It will plot the functions\n",
    "\n",
    "$$ f(x) = e^x \\sin(5x) $$ and $$ f(x) = e^x \\cos(5x) $$\n",
    "\n",
    "Afterwards we'll see how to create and modify plots.\n",
    "\n",
    "Inline plots\n",
    "------------\n",
    "\n",
    "In order to have access to numpy and matplotlib commands and to plot directly in the notebook, run:"
   ]
  },
  {
   "cell_type": "code",
   "execution_count": null,
   "metadata": {
    "collapsed": false,
    "deletable": true,
    "editable": true,
    "run_control": {
     "frozen": false,
     "read_only": false
    }
   },
   "outputs": [],
   "source": [
    "import numpy as np\n",
    "import matplotlib.pyplot as plt\n",
    "%matplotlib inline\n",
    "# change scale of all figures to make them bigger\n",
    "import matplotlib as mpl\n",
    "mpl.rcParams['savefig.dpi']=100 "
   ]
  },
  {
   "cell_type": "code",
   "execution_count": null,
   "metadata": {
    "collapsed": false,
    "deletable": true,
    "editable": true,
    "run_control": {
     "frozen": false,
     "read_only": false
    }
   },
   "outputs": [],
   "source": [
    "# The plot command takes the x coordinates as first argument\n",
    "# then the y coordinates. The third argument controls the\n",
    "# way points look on the plot\n",
    "\n",
    "xr = np.arange(0,3,0.1)\n",
    "yr1 = np.exp(xr) * np.sin(5*xr)\n",
    "yr2 = np.exp(xr) * np.cos(5*xr)\n",
    "\n",
    "plt.plot(xr, yr1, '-r', lw=3, label = 'red line')\n",
    "plt.plot(xr, yr2, 'xb', label = 'blue line')\n",
    "plt.legend()"
   ]
  },
  {
   "cell_type": "markdown",
   "metadata": {
    "deletable": true,
    "editable": true,
    "run_control": {
     "frozen": false,
     "read_only": false
    }
   },
   "source": [
    "Making the plot prettier\n",
    "------------------------\n",
    "\n",
    "We start off with the simplest example of a single plot.\n",
    "Note how you can change the line style, its width, the color and the symbols. The labels\n",
    "of the axis and their range is easily controlled."
   ]
  },
  {
   "cell_type": "code",
   "execution_count": null,
   "metadata": {
    "collapsed": false,
    "deletable": true,
    "editable": true,
    "run_control": {
     "frozen": false,
     "read_only": false
    }
   },
   "outputs": [],
   "source": [
    "xr = np.arange(0,1,0.01)\n",
    "yr = np.sin(xr)\n",
    "plt.plot(xr,yr,'--b',lw=4)\n",
    "plt.plot([-0.5,1.5],[0.0,0.4],'-g^',label='a line')\n",
    "plt.legend()\n",
    "plt.xlabel('time $t$')\n",
    "plt.ylabel('$\\int \\,dt\\, \\cos(t)$')\n",
    "plt.axis([-1,2,-0.2,1.1])"
   ]
  },
  {
   "cell_type": "markdown",
   "metadata": {
    "deletable": true,
    "editable": true,
    "run_control": {
     "frozen": false,
     "read_only": false
    }
   },
   "source": [
    "Subplots\n",
    "--------\n",
    "\n",
    "When you want to create subplots, you first have to create a figure. Then with the command\n",
    "<pre>\n",
    "subplot(l,m,i)\n",
    "</pre>\n",
    "you can create an $l \\times m$ array of plots and select the $i$-th subplot."
   ]
  },
  {
   "cell_type": "code",
   "execution_count": null,
   "metadata": {
    "collapsed": false,
    "deletable": true,
    "editable": true,
    "run_control": {
     "frozen": false,
     "read_only": false
    }
   },
   "outputs": [],
   "source": [
    "xr = np.arange(0,10,0.01)\n",
    "plt.figure(1)\n",
    "plt.subplot(2,1,1)\n",
    "plt.plot(xr,np.sin(xr),'b')\n",
    "plt.title(\"subplot 1\")\n",
    "plt.ylabel('sin')\n",
    "plt.subplot(2,1,2)\n",
    "plt.plot(xr,np.cos(xr),'r')\n",
    "plt.title(\"subplot 2\")\n",
    "plt.ylabel('cos')\n",
    "plt.xlabel(r'$\\omega$',)\n",
    "plt.figure(2)\n",
    "plt.plot(xr,np.exp(-0.1*xr**2),label='some function here')\n",
    "plt.legend()\n",
    "plt.title(\"figure 2\")"
   ]
  },
  {
   "cell_type": "markdown",
   "metadata": {
    "deletable": true,
    "editable": true,
    "run_control": {
     "frozen": false,
     "read_only": false
    }
   },
   "source": [
    "Histograms and text\n",
    "-------------------\n",
    "\n",
    "The example below shows how to create a histogram and how to add text in the plot.\n",
    "Note how $\\alpha = 0.3$ is used to control transparency."
   ]
  },
  {
   "cell_type": "code",
   "execution_count": null,
   "metadata": {
    "collapsed": false,
    "deletable": true,
    "editable": true,
    "run_control": {
     "frozen": false,
     "read_only": false
    }
   },
   "outputs": [],
   "source": [
    "mu, sigma = 100, 15\n",
    "x = mu + sigma * np.random.randn(10000)\n",
    "xr = np.arange(50,150,0.1)\n",
    "\n",
    "plt.hist(x, 50, normed=1, facecolor='r', alpha=0.3)\n",
    "plt.plot(xr,0.028*np.exp(-0.0025*(xr-100)**2),'b',lw=3)\n",
    "\n",
    "plt.xlabel('Smarts')\n",
    "plt.ylabel('Probability')\n",
    "plt.title('Histogram')\n",
    "plt.text(45, .025, r'$\\mu=100,\\ \\sigma=15$',fontsize=20)\n",
    "plt.axis([40, 160, 0, 0.03])\n",
    "plt.grid(True)"
   ]
  },
  {
   "cell_type": "markdown",
   "metadata": {
    "deletable": true,
    "editable": true,
    "run_control": {
     "frozen": false,
     "read_only": false
    }
   },
   "source": [
    "Python-like approach to matplotlib\n",
    "----------------------------------\n",
    "\n",
    "Above, we have used a matlab-like commands to control the plot creation. Behind the curtains\n",
    "matplotlib still works with python objects, so that a figure is a python object. Adding a plot\n",
    "in the figure is then done with the\n",
    "<pre>\n",
    "add_axes\n",
    "</pre>\n",
    "command. This creates an \"axes\" object (a plot). Calling the methods\n",
    "<pre>\n",
    "set_title\n",
    "set_xlabel, ...\n",
    "</pre>\n",
    "you can act on the different parts of the plot, etc. This approach is very powerful and\n",
    "allows to quite easily put an inset in your plot."
   ]
  },
  {
   "cell_type": "code",
   "execution_count": null,
   "metadata": {
    "collapsed": false,
    "deletable": true,
    "editable": true,
    "run_control": {
     "frozen": false,
     "read_only": false
    }
   },
   "outputs": [],
   "source": [
    "xr = np.arange(0,3,0.2)\n",
    "yr = np.tanh(xr)\n",
    "\n",
    "fig = plt.figure(1)\n",
    "ax = fig.add_axes([0., 0.8, 1.5, 0.9])\n",
    "ax.set_title(\"My axes\",fontsize=20)\n",
    "ax.set_xlabel(r'$x$',fontsize=20)\n",
    "ax.set_ylabel(r'$\\tanh(x)$',fontsize=20)\n",
    "ax.plot(xr,yr,'o')\n",
    "subax = fig.add_axes([0.45,0.85,1.,0.5])\n",
    "subax.plot(xr,np.sin(xr),'r',label='sinus')\n",
    "plt.legend()"
   ]
  },
  {
   "cell_type": "markdown",
   "metadata": {
    "deletable": true,
    "editable": true,
    "run_control": {
     "frozen": false,
     "read_only": false
    }
   },
   "source": [
    "More examples\n",
    "-------------\n",
    "\n",
    "Here are some additional examples. They summarize what is described\n",
    "above."
   ]
  },
  {
   "cell_type": "code",
   "execution_count": null,
   "metadata": {
    "collapsed": false,
    "deletable": true,
    "editable": true,
    "run_control": {
     "frozen": false,
     "read_only": false
    }
   },
   "outputs": [],
   "source": [
    "xr = np.arange(0,3,.1)\n",
    "yr1 = np.exp(xr)*(np.sin(5*xr))\n",
    "yr2 = np.exp(xr)*(np.cos(5*xr))\n",
    "plt.figure(1)\n",
    "plt.plot(xr,yr1,'-r',lw=3, label='a first curve')\n",
    "plt.plot(xr,yr2,'--b',lw=3, label='$e^{x} \\cos(5 x)$')\n",
    "plt.legend()\n",
    "plt.xlabel('time $t$')\n",
    "plt.ylabel('$\\int \\, \\cos(t) $')\n",
    "\n",
    "plt.figure(2)\n",
    "plt.plot(xr,yr1*3.,'-.b^',lw=1, label='a second curve')\n",
    "plt.legend()\n",
    "plt.xlabel('time $t$')\n",
    "plt.ylabel('$\\int \\, \\cos(t) $')\n",
    "\n",
    "\n",
    "plt.figure(3)\n",
    "plt.subplot(211)\n",
    "plt.plot(xr,yr1,'-r',lw=3, label='a first curve')\n",
    "plt.legend()\n",
    "plt.ylabel('$\\int \\, \\cos(t) $')\n",
    "plt.subplot(212)\n",
    "plt.plot(xr,yr2,'--b',lw=3, label='$e^{x} \\cos(5 x)$')\n",
    "plt.legend()\n",
    "plt.xlabel('time $t$')\n",
    "plt.ylabel('$\\int \\, \\cos(t) $')\n",
    "\n",
    "\n",
    "plt.figure(4)\n",
    "\n",
    "plt.subplot(121)\n",
    "plt.title('My title')\n",
    "plt.plot(xr,yr1,'-r',lw=3, label='a first curve')\n",
    "plt.legend()\n",
    "plt.ylabel('$\\int \\, \\cos(t) $')\n",
    "plt.xlabel('time $t$')\n",
    "plt.subplot(122)\n",
    "plt.grid(True)\n",
    "plt.plot(xr,yr2,'--b',lw=3, label='$e^{x} \\cos(5 x)$')\n",
    "plt.legend()\n",
    "plt.xlabel('time $t$')\n",
    "\n",
    "plt.figure(5)\n",
    "\n",
    "a = np.loadtxt(\"my_data.dat\")\n",
    "plt.plot(a[:,0],a[:,1],'-o')"
   ]
  }
 ],
 "metadata": {
  "kernelspec": {
   "display_name": "Python 2",
   "language": "python",
   "name": "python2"
  },
  "language_info": {
   "codemirror_mode": {
    "name": "ipython",
    "version": 2
   },
   "file_extension": ".py",
   "mimetype": "text/x-python",
   "name": "python",
   "nbconvert_exporter": "python",
   "pygments_lexer": "ipython2",
   "version": "2.7.13"
  },
  "latex_envs": {
   "LaTeX_envs_menu_present": true,
   "autocomplete": true,
   "bibliofile": "biblio.bib",
   "cite_by": "apalike",
   "current_citInitial": 1,
   "eqLabelWithNumbers": true,
   "eqNumInitial": 1,
   "hotkeys": {
    "equation": "Ctrl-E",
    "itemize": "Ctrl-I"
   },
   "labels_anchors": false,
   "latex_user_defs": false,
   "report_style_numbering": false,
   "user_envs_cfg": false
  },
  "widgets": {
   "state": {},
   "version": "1.1.1"
  }
 },
 "nbformat": 4,
 "nbformat_minor": 1
}
