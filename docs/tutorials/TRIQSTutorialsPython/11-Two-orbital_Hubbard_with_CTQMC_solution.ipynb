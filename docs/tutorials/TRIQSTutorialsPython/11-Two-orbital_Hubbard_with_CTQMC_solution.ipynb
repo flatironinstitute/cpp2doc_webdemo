{
 "cells": [
  {
   "cell_type": "code",
   "execution_count": null,
   "metadata": {
    "collapsed": false,
    "deletable": true,
    "editable": true,
    "run_control": {
     "frozen": false,
     "read_only": false
    }
   },
   "outputs": [],
   "source": [
    "from pytriqs.gf import *\n",
    "from pytriqs.archive import *\n",
    "from pytriqs.plot.mpl_interface import *\n",
    "import numpy as np\n",
    "%matplotlib inline\n",
    "import matplotlib as mpl\n",
    "mpl.rcParams['savefig.dpi']=100\n",
    "plt.rcParams['figure.figsize'] = (8.0,6.0)"
   ]
  },
  {
   "cell_type": "markdown",
   "metadata": {
    "deletable": true,
    "editable": true,
    "run_control": {
     "frozen": false,
     "read_only": false
    }
   },
   "source": [
    "Solution of the exercises\n",
    "========================="
   ]
  },
  {
   "cell_type": "markdown",
   "metadata": {
    "deletable": true,
    "editable": true,
    "run_control": {
     "frozen": false,
     "read_only": false
    }
   },
   "source": [
    "Solution of exercise 1\n",
    "----------------------\n",
    "\n",
    "The script below solves the two-orbital Hubbard model for a variety of filling, $U$ and $J$."
   ]
  },
  {
   "cell_type": "code",
   "execution_count": null,
   "metadata": {
    "collapsed": false,
    "deletable": true,
    "editable": true,
    "run_control": {
     "frozen": false,
     "read_only": false
    }
   },
   "outputs": [],
   "source": [
    "%load run_two_bands.py"
   ]
  },
  {
   "cell_type": "markdown",
   "metadata": {
    "deletable": true,
    "editable": true,
    "run_control": {
     "frozen": false,
     "read_only": false
    }
   },
   "source": [
    "Solution of exercise 2\n",
    "----------------------\n",
    "\n",
    "The solution of the exercise is in the script called `run_two_bands.py` in the tutorial directory.\n",
    "The script was run from the shell to see the Monte Carlo progress. As you can see in the script, the Green's functions and self-energies are saved in archives. These archives are in the `results_two_bands` subdirectory. Here is a plot of\n",
    "the Green's functions for different values of $U$ at given $J$'s."
   ]
  },
  {
   "cell_type": "markdown",
   "metadata": {
    "deletable": true,
    "editable": true,
    "run_control": {
     "frozen": false,
     "read_only": false
    }
   },
   "source": [
    "### J = 0.0\n",
    "\n",
    "You will see that the Mott transition is somewhere between 6.0 and 7.0."
   ]
  },
  {
   "cell_type": "code",
   "execution_count": null,
   "metadata": {
    "collapsed": false,
    "deletable": true,
    "editable": true,
    "run_control": {
     "frozen": false,
     "read_only": false
    }
   },
   "outputs": [],
   "source": [
    "coeff = 0.0\n",
    "for U in np.arange(1.0, 13.0):\n",
    "\n",
    "    J = coeff * U\n",
    "    A = HDFArchive(\"results_two_bands/half-U%.2f-J%.2f.h5\"%(U,J), 'r')\n",
    "    oplot(A['G-9']['up-0'].imag, 'o', name=\"U = %.2f\"%U)\n",
    "\n",
    "plt.xlim(0,10)"
   ]
  },
  {
   "cell_type": "markdown",
   "metadata": {
    "deletable": true,
    "editable": true,
    "run_control": {
     "frozen": false,
     "read_only": false
    }
   },
   "source": [
    "### J = 0.1 U\n",
    "\n",
    "You will see that the Mott transition is somewhere between 4.0 and 5.0."
   ]
  },
  {
   "cell_type": "code",
   "execution_count": null,
   "metadata": {
    "collapsed": false,
    "deletable": true,
    "editable": true,
    "run_control": {
     "frozen": false,
     "read_only": false
    }
   },
   "outputs": [],
   "source": [
    "coeff = 0.1\n",
    "for U in np.arange(1.0, 13.0):\n",
    "\n",
    "    J = coeff * U\n",
    "    A = HDFArchive(\"results_two_bands/half-U%.2f-J%.2f.h5\"%(U,J), 'r')\n",
    "    oplot(A['G-9']['up-0'].imag, 'o', name=\"U = %.2f\"%U)\n",
    "\n",
    "plt.xlim(0,10)"
   ]
  },
  {
   "cell_type": "markdown",
   "metadata": {
    "deletable": true,
    "editable": true,
    "run_control": {
     "frozen": false,
     "read_only": false
    }
   },
   "source": [
    "### J = 0.2 U\n",
    "\n",
    "You will see that the Mott transition is somewhere between 3.0 and 4.0."
   ]
  },
  {
   "cell_type": "code",
   "execution_count": null,
   "metadata": {
    "collapsed": false,
    "deletable": true,
    "editable": true,
    "run_control": {
     "frozen": false,
     "read_only": false
    }
   },
   "outputs": [],
   "source": [
    "coeff = 0.2\n",
    "for U in np.arange(1.0, 13.0):\n",
    "\n",
    "    J = coeff * U\n",
    "    A = HDFArchive(\"results_two_bands/half-U%.2f-J%.2f.h5\"%(U,J), 'r')\n",
    "    oplot(A['G-9']['up-0'].imag, 'o', name=\"U = %.2f\"%U)\n",
    "\n",
    "plt.xlim(0,10)"
   ]
  },
  {
   "cell_type": "markdown",
   "metadata": {
    "deletable": true,
    "editable": true,
    "run_control": {
     "frozen": false,
     "read_only": false
    }
   },
   "source": [
    "### Conclusion of Exercise 2\n",
    "\n",
    "The value of $U_c$ is decreasing with increasing values of $J$! Can you understand why?"
   ]
  },
  {
   "cell_type": "markdown",
   "metadata": {
    "deletable": true,
    "editable": true,
    "run_control": {
     "frozen": false,
     "read_only": false
    }
   },
   "source": [
    "Solution of exercise 3\n",
    "----------------------\n",
    "\n",
    "The solution of the exercise is again the script called `run_two_bands.py` in the tutorial directory.\n",
    "You will have to change `filling = 'quarter'`. The generated archives are in the `results` subdirectory. Here is a plot of\n",
    "the Green's functions for different values of $U$ at given $J$'s."
   ]
  },
  {
   "cell_type": "markdown",
   "metadata": {
    "deletable": true,
    "editable": true,
    "run_control": {
     "frozen": false,
     "read_only": false
    }
   },
   "source": [
    "### J = 0.0\n",
    "\n",
    "You will se that the Mott transition is somewhere between 5.0 and 6.0."
   ]
  },
  {
   "cell_type": "code",
   "execution_count": null,
   "metadata": {
    "collapsed": false,
    "deletable": true,
    "editable": true,
    "run_control": {
     "frozen": false,
     "read_only": false
    }
   },
   "outputs": [],
   "source": [
    "coeff = 0.0\n",
    "for U in np.arange(1.0, 13.0):\n",
    "\n",
    "    J = coeff * U\n",
    "    A = HDFArchive(\"results_two_bands/quarter-U%.2f-J%.2f.h5\"%(U,J), 'r')\n",
    "    oplot(A['G-9']['up-0'].imag, 'o', name=\"U = %.2f\"%U)\n",
    "\n",
    "plt.xlim(0,10)"
   ]
  },
  {
   "cell_type": "markdown",
   "metadata": {
    "deletable": true,
    "editable": true,
    "run_control": {
     "frozen": false,
     "read_only": false
    }
   },
   "source": [
    "### J = 0.1 U\n",
    "\n",
    "You will see that the Mott transition is somewhere between 7.0 and 8.0."
   ]
  },
  {
   "cell_type": "code",
   "execution_count": null,
   "metadata": {
    "collapsed": false,
    "deletable": true,
    "editable": true,
    "run_control": {
     "frozen": false,
     "read_only": false
    }
   },
   "outputs": [],
   "source": [
    "coeff = 0.1\n",
    "for U in np.arange(1.0, 13.0):\n",
    "\n",
    "    J = coeff * U\n",
    "    A = HDFArchive(\"results_two_bands/quarter-U%.2f-J%.2f.h5\"%(U,J), 'r')\n",
    "    oplot(A['G-9']['up-0'].imag, 'o', name=\"U = %.2f\"%U)\n",
    "\n",
    "plt.xlim(0,10)"
   ]
  },
  {
   "cell_type": "markdown",
   "metadata": {
    "deletable": true,
    "editable": true,
    "run_control": {
     "frozen": false,
     "read_only": false
    }
   },
   "source": [
    "### J = 0.2 U\n",
    "\n",
    "You will see that the Mott transition happens at values of $U$ larger than 12."
   ]
  },
  {
   "cell_type": "code",
   "execution_count": null,
   "metadata": {
    "collapsed": false,
    "deletable": true,
    "editable": true,
    "run_control": {
     "frozen": false,
     "read_only": false
    }
   },
   "outputs": [],
   "source": [
    "coeff = 0.2\n",
    "for U in np.arange(1.0, 13.0):\n",
    "\n",
    "    J = coeff * U\n",
    "    A = HDFArchive(\"results_two_bands/quarter-U%.2f-J%.2f.h5\"%(U,J), 'r')\n",
    "    oplot(A['G-9']['up-0'].imag, 'o', name=\"U = %.2f\"%U)\n",
    "\n",
    "plt.xlim(0,10)"
   ]
  },
  {
   "cell_type": "markdown",
   "metadata": {
    "deletable": true,
    "editable": true,
    "run_control": {
     "frozen": false,
     "read_only": false
    }
   },
   "source": [
    "### Conclusion of Exercise 3\n",
    "\n",
    "Now the value of $U_c$ is increasing with increasing values of $J$! Why?"
   ]
  }
 ],
 "metadata": {
  "kernelspec": {
   "display_name": "Python 2",
   "language": "python",
   "name": "python2"
  },
  "language_info": {
   "codemirror_mode": {
    "name": "ipython",
    "version": 2
   },
   "file_extension": ".py",
   "mimetype": "text/x-python",
   "name": "python",
   "nbconvert_exporter": "python",
   "pygments_lexer": "ipython2",
   "version": "2.7.13"
  },
  "latex_envs": {
   "LaTeX_envs_menu_present": true,
   "autocomplete": true,
   "bibliofile": "biblio.bib",
   "cite_by": "apalike",
   "current_citInitial": 1,
   "eqLabelWithNumbers": true,
   "eqNumInitial": 1,
   "hotkeys": {
    "equation": "Ctrl-E",
    "itemize": "Ctrl-I"
   },
   "labels_anchors": false,
   "latex_user_defs": false,
   "report_style_numbering": false,
   "user_envs_cfg": false
  },
  "widgets": {
   "state": {},
   "version": "1.1.1"
  }
 },
 "nbformat": 4,
 "nbformat_minor": 1
}
